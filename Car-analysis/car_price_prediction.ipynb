{
 "cells": [
  {
   "cell_type": "markdown",
   "id": "25b64129-358e-48e3-a746-b5db5decc537",
   "metadata": {},
   "source": [
    "# CAR DATASET"
   ]
  },
  {
   "cell_type": "markdown",
   "id": "9397547d-e083-4d15-af5e-b2d704c93872",
   "metadata": {},
   "source": [
    "## Importing Libraries"
   ]
  },
  {
   "cell_type": "code",
   "execution_count": 1,
   "id": "5de34379-a256-4f3f-a529-e91717bb2795",
   "metadata": {},
   "outputs": [],
   "source": [
    "import pickle\n",
    "import pandas as pd\n",
    "from sklearn.model_selection import train_test_split\n",
    "from sklearn.linear_model import LinearRegression\n",
    "from sklearn.metrics import mean_squared_error, mean_absolute_error, r2_score\n",
    "import matplotlib.pyplot as plt\n",
    "import seaborn as sns\n",
    "import numpy as np"
   ]
  },
  {
   "cell_type": "markdown",
   "id": "c68eaf19-d8ec-4ad0-ab8a-2671fb6abe5e",
   "metadata": {},
   "source": [
    "## Loading Data"
   ]
  },
  {
   "cell_type": "code",
   "execution_count": 2,
   "id": "05f428f0-54ce-4179-ba8b-f2bcf1005332",
   "metadata": {},
   "outputs": [],
   "source": [
    "# load data to a new dataframe\n",
    "df = pd.read_csv('car_dataset.csv')"
   ]
  },
  {
   "cell_type": "markdown",
   "id": "820511c0-efd0-4276-9ff5-e788120039dc",
   "metadata": {},
   "source": [
    "## EDA"
   ]
  },
  {
   "cell_type": "code",
   "execution_count": 3,
   "id": "8e3c05ef-4e84-4c1f-b466-87244c5831f8",
   "metadata": {},
   "outputs": [
    {
     "data": {
      "text/plain": [
       "(205, 26)"
      ]
     },
     "execution_count": 3,
     "metadata": {},
     "output_type": "execute_result"
    }
   ],
   "source": [
    "# check the shape\n",
    "df.shape"
   ]
  },
  {
   "cell_type": "code",
   "execution_count": 4,
   "id": "e2d28f8f-2ccb-4d97-94de-9f9bf16b7a5d",
   "metadata": {},
   "outputs": [
    {
     "data": {
      "text/html": [
       "<div>\n",
       "<style scoped>\n",
       "    .dataframe tbody tr th:only-of-type {\n",
       "        vertical-align: middle;\n",
       "    }\n",
       "\n",
       "    .dataframe tbody tr th {\n",
       "        vertical-align: top;\n",
       "    }\n",
       "\n",
       "    .dataframe thead th {\n",
       "        text-align: right;\n",
       "    }\n",
       "</style>\n",
       "<table border=\"1\" class=\"dataframe\">\n",
       "  <thead>\n",
       "    <tr style=\"text-align: right;\">\n",
       "      <th></th>\n",
       "      <th>ID</th>\n",
       "      <th>symboling</th>\n",
       "      <th>name</th>\n",
       "      <th>fueltypes</th>\n",
       "      <th>aspiration</th>\n",
       "      <th>doornumbers</th>\n",
       "      <th>carbody</th>\n",
       "      <th>drivewheels</th>\n",
       "      <th>enginelocation</th>\n",
       "      <th>wheelbase</th>\n",
       "      <th>...</th>\n",
       "      <th>enginesize</th>\n",
       "      <th>fuelsystem</th>\n",
       "      <th>boreratio</th>\n",
       "      <th>stroke</th>\n",
       "      <th>compressionratio</th>\n",
       "      <th>horsepower</th>\n",
       "      <th>peakrpm</th>\n",
       "      <th>citympg</th>\n",
       "      <th>highwaympg</th>\n",
       "      <th>price</th>\n",
       "    </tr>\n",
       "  </thead>\n",
       "  <tbody>\n",
       "    <tr>\n",
       "      <th>0</th>\n",
       "      <td>1</td>\n",
       "      <td>3</td>\n",
       "      <td>alfa-romero giulia</td>\n",
       "      <td>gas</td>\n",
       "      <td>std</td>\n",
       "      <td>two</td>\n",
       "      <td>convertible</td>\n",
       "      <td>rwd</td>\n",
       "      <td>front</td>\n",
       "      <td>88.6</td>\n",
       "      <td>...</td>\n",
       "      <td>130</td>\n",
       "      <td>mpfi</td>\n",
       "      <td>3.47</td>\n",
       "      <td>2.68</td>\n",
       "      <td>9.0</td>\n",
       "      <td>111</td>\n",
       "      <td>5000</td>\n",
       "      <td>21</td>\n",
       "      <td>27</td>\n",
       "      <td>13495.0</td>\n",
       "    </tr>\n",
       "    <tr>\n",
       "      <th>1</th>\n",
       "      <td>2</td>\n",
       "      <td>3</td>\n",
       "      <td>alfa-romero stelvio</td>\n",
       "      <td>gas</td>\n",
       "      <td>std</td>\n",
       "      <td>two</td>\n",
       "      <td>convertible</td>\n",
       "      <td>rwd</td>\n",
       "      <td>front</td>\n",
       "      <td>88.6</td>\n",
       "      <td>...</td>\n",
       "      <td>130</td>\n",
       "      <td>mpfi</td>\n",
       "      <td>3.47</td>\n",
       "      <td>2.68</td>\n",
       "      <td>9.0</td>\n",
       "      <td>111</td>\n",
       "      <td>5000</td>\n",
       "      <td>21</td>\n",
       "      <td>27</td>\n",
       "      <td>16500.0</td>\n",
       "    </tr>\n",
       "    <tr>\n",
       "      <th>2</th>\n",
       "      <td>3</td>\n",
       "      <td>1</td>\n",
       "      <td>alfa-romero Quadrifoglio</td>\n",
       "      <td>gas</td>\n",
       "      <td>std</td>\n",
       "      <td>two</td>\n",
       "      <td>hatchback</td>\n",
       "      <td>rwd</td>\n",
       "      <td>front</td>\n",
       "      <td>94.5</td>\n",
       "      <td>...</td>\n",
       "      <td>152</td>\n",
       "      <td>mpfi</td>\n",
       "      <td>2.68</td>\n",
       "      <td>3.47</td>\n",
       "      <td>9.0</td>\n",
       "      <td>154</td>\n",
       "      <td>5000</td>\n",
       "      <td>19</td>\n",
       "      <td>26</td>\n",
       "      <td>16500.0</td>\n",
       "    </tr>\n",
       "    <tr>\n",
       "      <th>3</th>\n",
       "      <td>4</td>\n",
       "      <td>2</td>\n",
       "      <td>audi 100 ls</td>\n",
       "      <td>gas</td>\n",
       "      <td>std</td>\n",
       "      <td>four</td>\n",
       "      <td>sedan</td>\n",
       "      <td>fwd</td>\n",
       "      <td>front</td>\n",
       "      <td>99.8</td>\n",
       "      <td>...</td>\n",
       "      <td>109</td>\n",
       "      <td>mpfi</td>\n",
       "      <td>3.19</td>\n",
       "      <td>3.40</td>\n",
       "      <td>10.0</td>\n",
       "      <td>102</td>\n",
       "      <td>5500</td>\n",
       "      <td>24</td>\n",
       "      <td>30</td>\n",
       "      <td>13950.0</td>\n",
       "    </tr>\n",
       "    <tr>\n",
       "      <th>4</th>\n",
       "      <td>5</td>\n",
       "      <td>2</td>\n",
       "      <td>audi 100ls</td>\n",
       "      <td>gas</td>\n",
       "      <td>std</td>\n",
       "      <td>four</td>\n",
       "      <td>sedan</td>\n",
       "      <td>4wd</td>\n",
       "      <td>front</td>\n",
       "      <td>99.4</td>\n",
       "      <td>...</td>\n",
       "      <td>136</td>\n",
       "      <td>mpfi</td>\n",
       "      <td>3.19</td>\n",
       "      <td>3.40</td>\n",
       "      <td>8.0</td>\n",
       "      <td>115</td>\n",
       "      <td>5500</td>\n",
       "      <td>18</td>\n",
       "      <td>22</td>\n",
       "      <td>17450.0</td>\n",
       "    </tr>\n",
       "  </tbody>\n",
       "</table>\n",
       "<p>5 rows × 26 columns</p>\n",
       "</div>"
      ],
      "text/plain": [
       "   ID  symboling                      name fueltypes aspiration doornumbers   \n",
       "0   1          3        alfa-romero giulia       gas        std         two  \\\n",
       "1   2          3       alfa-romero stelvio       gas        std         two   \n",
       "2   3          1  alfa-romero Quadrifoglio       gas        std         two   \n",
       "3   4          2               audi 100 ls       gas        std        four   \n",
       "4   5          2                audi 100ls       gas        std        four   \n",
       "\n",
       "       carbody drivewheels enginelocation  wheelbase  ...  enginesize   \n",
       "0  convertible         rwd          front       88.6  ...         130  \\\n",
       "1  convertible         rwd          front       88.6  ...         130   \n",
       "2    hatchback         rwd          front       94.5  ...         152   \n",
       "3        sedan         fwd          front       99.8  ...         109   \n",
       "4        sedan         4wd          front       99.4  ...         136   \n",
       "\n",
       "   fuelsystem  boreratio  stroke compressionratio horsepower  peakrpm citympg   \n",
       "0        mpfi       3.47    2.68              9.0        111     5000      21  \\\n",
       "1        mpfi       3.47    2.68              9.0        111     5000      21   \n",
       "2        mpfi       2.68    3.47              9.0        154     5000      19   \n",
       "3        mpfi       3.19    3.40             10.0        102     5500      24   \n",
       "4        mpfi       3.19    3.40              8.0        115     5500      18   \n",
       "\n",
       "   highwaympg    price  \n",
       "0          27  13495.0  \n",
       "1          27  16500.0  \n",
       "2          26  16500.0  \n",
       "3          30  13950.0  \n",
       "4          22  17450.0  \n",
       "\n",
       "[5 rows x 26 columns]"
      ]
     },
     "execution_count": 4,
     "metadata": {},
     "output_type": "execute_result"
    }
   ],
   "source": [
    "# first five rows of the dataframe\n",
    "df.head()"
   ]
  },
  {
   "cell_type": "code",
   "execution_count": 5,
   "id": "6317ba73-7b14-40cd-a304-293313fef461",
   "metadata": {},
   "outputs": [
    {
     "data": {
      "text/html": [
       "<div>\n",
       "<style scoped>\n",
       "    .dataframe tbody tr th:only-of-type {\n",
       "        vertical-align: middle;\n",
       "    }\n",
       "\n",
       "    .dataframe tbody tr th {\n",
       "        vertical-align: top;\n",
       "    }\n",
       "\n",
       "    .dataframe thead th {\n",
       "        text-align: right;\n",
       "    }\n",
       "</style>\n",
       "<table border=\"1\" class=\"dataframe\">\n",
       "  <thead>\n",
       "    <tr style=\"text-align: right;\">\n",
       "      <th></th>\n",
       "      <th>ID</th>\n",
       "      <th>symboling</th>\n",
       "      <th>wheelbase</th>\n",
       "      <th>carlength</th>\n",
       "      <th>carwidth</th>\n",
       "      <th>carheight</th>\n",
       "      <th>curbweight</th>\n",
       "      <th>enginesize</th>\n",
       "      <th>boreratio</th>\n",
       "      <th>stroke</th>\n",
       "      <th>compressionratio</th>\n",
       "      <th>horsepower</th>\n",
       "      <th>peakrpm</th>\n",
       "      <th>citympg</th>\n",
       "      <th>highwaympg</th>\n",
       "      <th>price</th>\n",
       "    </tr>\n",
       "  </thead>\n",
       "  <tbody>\n",
       "    <tr>\n",
       "      <th>count</th>\n",
       "      <td>205.000000</td>\n",
       "      <td>205.000000</td>\n",
       "      <td>205.000000</td>\n",
       "      <td>205.000000</td>\n",
       "      <td>205.000000</td>\n",
       "      <td>205.000000</td>\n",
       "      <td>205.000000</td>\n",
       "      <td>205.000000</td>\n",
       "      <td>205.000000</td>\n",
       "      <td>205.000000</td>\n",
       "      <td>205.000000</td>\n",
       "      <td>205.000000</td>\n",
       "      <td>205.000000</td>\n",
       "      <td>205.000000</td>\n",
       "      <td>205.000000</td>\n",
       "      <td>205.000000</td>\n",
       "    </tr>\n",
       "    <tr>\n",
       "      <th>mean</th>\n",
       "      <td>103.000000</td>\n",
       "      <td>0.834146</td>\n",
       "      <td>98.756585</td>\n",
       "      <td>174.049268</td>\n",
       "      <td>65.907805</td>\n",
       "      <td>53.724878</td>\n",
       "      <td>2555.565854</td>\n",
       "      <td>126.907317</td>\n",
       "      <td>3.329756</td>\n",
       "      <td>3.255415</td>\n",
       "      <td>10.142537</td>\n",
       "      <td>104.117073</td>\n",
       "      <td>5125.121951</td>\n",
       "      <td>25.219512</td>\n",
       "      <td>30.751220</td>\n",
       "      <td>13276.710571</td>\n",
       "    </tr>\n",
       "    <tr>\n",
       "      <th>std</th>\n",
       "      <td>59.322565</td>\n",
       "      <td>1.245307</td>\n",
       "      <td>6.021776</td>\n",
       "      <td>12.337289</td>\n",
       "      <td>2.145204</td>\n",
       "      <td>2.443522</td>\n",
       "      <td>520.680204</td>\n",
       "      <td>41.642693</td>\n",
       "      <td>0.270844</td>\n",
       "      <td>0.313597</td>\n",
       "      <td>3.972040</td>\n",
       "      <td>39.544167</td>\n",
       "      <td>476.985643</td>\n",
       "      <td>6.542142</td>\n",
       "      <td>6.886443</td>\n",
       "      <td>7988.852332</td>\n",
       "    </tr>\n",
       "    <tr>\n",
       "      <th>min</th>\n",
       "      <td>1.000000</td>\n",
       "      <td>-2.000000</td>\n",
       "      <td>86.600000</td>\n",
       "      <td>141.100000</td>\n",
       "      <td>60.300000</td>\n",
       "      <td>47.800000</td>\n",
       "      <td>1488.000000</td>\n",
       "      <td>61.000000</td>\n",
       "      <td>2.540000</td>\n",
       "      <td>2.070000</td>\n",
       "      <td>7.000000</td>\n",
       "      <td>48.000000</td>\n",
       "      <td>4150.000000</td>\n",
       "      <td>13.000000</td>\n",
       "      <td>16.000000</td>\n",
       "      <td>5118.000000</td>\n",
       "    </tr>\n",
       "    <tr>\n",
       "      <th>25%</th>\n",
       "      <td>52.000000</td>\n",
       "      <td>0.000000</td>\n",
       "      <td>94.500000</td>\n",
       "      <td>166.300000</td>\n",
       "      <td>64.100000</td>\n",
       "      <td>52.000000</td>\n",
       "      <td>2145.000000</td>\n",
       "      <td>97.000000</td>\n",
       "      <td>3.150000</td>\n",
       "      <td>3.110000</td>\n",
       "      <td>8.600000</td>\n",
       "      <td>70.000000</td>\n",
       "      <td>4800.000000</td>\n",
       "      <td>19.000000</td>\n",
       "      <td>25.000000</td>\n",
       "      <td>7788.000000</td>\n",
       "    </tr>\n",
       "    <tr>\n",
       "      <th>50%</th>\n",
       "      <td>103.000000</td>\n",
       "      <td>1.000000</td>\n",
       "      <td>97.000000</td>\n",
       "      <td>173.200000</td>\n",
       "      <td>65.500000</td>\n",
       "      <td>54.100000</td>\n",
       "      <td>2414.000000</td>\n",
       "      <td>120.000000</td>\n",
       "      <td>3.310000</td>\n",
       "      <td>3.290000</td>\n",
       "      <td>9.000000</td>\n",
       "      <td>95.000000</td>\n",
       "      <td>5200.000000</td>\n",
       "      <td>24.000000</td>\n",
       "      <td>30.000000</td>\n",
       "      <td>10295.000000</td>\n",
       "    </tr>\n",
       "    <tr>\n",
       "      <th>75%</th>\n",
       "      <td>154.000000</td>\n",
       "      <td>2.000000</td>\n",
       "      <td>102.400000</td>\n",
       "      <td>183.100000</td>\n",
       "      <td>66.900000</td>\n",
       "      <td>55.500000</td>\n",
       "      <td>2935.000000</td>\n",
       "      <td>141.000000</td>\n",
       "      <td>3.580000</td>\n",
       "      <td>3.410000</td>\n",
       "      <td>9.400000</td>\n",
       "      <td>116.000000</td>\n",
       "      <td>5500.000000</td>\n",
       "      <td>30.000000</td>\n",
       "      <td>34.000000</td>\n",
       "      <td>16503.000000</td>\n",
       "    </tr>\n",
       "    <tr>\n",
       "      <th>max</th>\n",
       "      <td>205.000000</td>\n",
       "      <td>3.000000</td>\n",
       "      <td>120.900000</td>\n",
       "      <td>208.100000</td>\n",
       "      <td>72.300000</td>\n",
       "      <td>59.800000</td>\n",
       "      <td>4066.000000</td>\n",
       "      <td>326.000000</td>\n",
       "      <td>3.940000</td>\n",
       "      <td>4.170000</td>\n",
       "      <td>23.000000</td>\n",
       "      <td>288.000000</td>\n",
       "      <td>6600.000000</td>\n",
       "      <td>49.000000</td>\n",
       "      <td>54.000000</td>\n",
       "      <td>45400.000000</td>\n",
       "    </tr>\n",
       "  </tbody>\n",
       "</table>\n",
       "</div>"
      ],
      "text/plain": [
       "               ID   symboling   wheelbase   carlength    carwidth   carheight   \n",
       "count  205.000000  205.000000  205.000000  205.000000  205.000000  205.000000  \\\n",
       "mean   103.000000    0.834146   98.756585  174.049268   65.907805   53.724878   \n",
       "std     59.322565    1.245307    6.021776   12.337289    2.145204    2.443522   \n",
       "min      1.000000   -2.000000   86.600000  141.100000   60.300000   47.800000   \n",
       "25%     52.000000    0.000000   94.500000  166.300000   64.100000   52.000000   \n",
       "50%    103.000000    1.000000   97.000000  173.200000   65.500000   54.100000   \n",
       "75%    154.000000    2.000000  102.400000  183.100000   66.900000   55.500000   \n",
       "max    205.000000    3.000000  120.900000  208.100000   72.300000   59.800000   \n",
       "\n",
       "        curbweight  enginesize   boreratio      stroke  compressionratio   \n",
       "count   205.000000  205.000000  205.000000  205.000000        205.000000  \\\n",
       "mean   2555.565854  126.907317    3.329756    3.255415         10.142537   \n",
       "std     520.680204   41.642693    0.270844    0.313597          3.972040   \n",
       "min    1488.000000   61.000000    2.540000    2.070000          7.000000   \n",
       "25%    2145.000000   97.000000    3.150000    3.110000          8.600000   \n",
       "50%    2414.000000  120.000000    3.310000    3.290000          9.000000   \n",
       "75%    2935.000000  141.000000    3.580000    3.410000          9.400000   \n",
       "max    4066.000000  326.000000    3.940000    4.170000         23.000000   \n",
       "\n",
       "       horsepower      peakrpm     citympg  highwaympg         price  \n",
       "count  205.000000   205.000000  205.000000  205.000000    205.000000  \n",
       "mean   104.117073  5125.121951   25.219512   30.751220  13276.710571  \n",
       "std     39.544167   476.985643    6.542142    6.886443   7988.852332  \n",
       "min     48.000000  4150.000000   13.000000   16.000000   5118.000000  \n",
       "25%     70.000000  4800.000000   19.000000   25.000000   7788.000000  \n",
       "50%     95.000000  5200.000000   24.000000   30.000000  10295.000000  \n",
       "75%    116.000000  5500.000000   30.000000   34.000000  16503.000000  \n",
       "max    288.000000  6600.000000   49.000000   54.000000  45400.000000  "
      ]
     },
     "execution_count": 5,
     "metadata": {},
     "output_type": "execute_result"
    }
   ],
   "source": [
    "# describe the dataframe with some statistical info\n",
    "df.describe()"
   ]
  },
  {
   "cell_type": "code",
   "execution_count": 6,
   "id": "02ad55c5-112f-4ac9-9826-d02c793532fa",
   "metadata": {},
   "outputs": [
    {
     "name": "stdout",
     "output_type": "stream",
     "text": [
      "<class 'pandas.core.frame.DataFrame'>\n",
      "RangeIndex: 205 entries, 0 to 204\n",
      "Data columns (total 26 columns):\n",
      " #   Column            Non-Null Count  Dtype  \n",
      "---  ------            --------------  -----  \n",
      " 0   ID                205 non-null    int64  \n",
      " 1   symboling         205 non-null    int64  \n",
      " 2   name              205 non-null    object \n",
      " 3   fueltypes         205 non-null    object \n",
      " 4   aspiration        205 non-null    object \n",
      " 5   doornumbers       205 non-null    object \n",
      " 6   carbody           205 non-null    object \n",
      " 7   drivewheels       205 non-null    object \n",
      " 8   enginelocation    205 non-null    object \n",
      " 9   wheelbase         205 non-null    float64\n",
      " 10  carlength         205 non-null    float64\n",
      " 11  carwidth          205 non-null    float64\n",
      " 12  carheight         205 non-null    float64\n",
      " 13  curbweight        205 non-null    int64  \n",
      " 14  enginetype        205 non-null    object \n",
      " 15  cylindernumber    205 non-null    object \n",
      " 16  enginesize        205 non-null    int64  \n",
      " 17  fuelsystem        205 non-null    object \n",
      " 18  boreratio         205 non-null    float64\n",
      " 19  stroke            205 non-null    float64\n",
      " 20  compressionratio  205 non-null    float64\n",
      " 21  horsepower        205 non-null    int64  \n",
      " 22  peakrpm           205 non-null    int64  \n",
      " 23  citympg           205 non-null    int64  \n",
      " 24  highwaympg        205 non-null    int64  \n",
      " 25  price             205 non-null    float64\n",
      "dtypes: float64(8), int64(8), object(10)\n",
      "memory usage: 41.8+ KB\n"
     ]
    }
   ],
   "source": [
    "# check data types in the dataframe\n",
    "df.info()"
   ]
  },
  {
   "cell_type": "code",
   "execution_count": 7,
   "id": "e48c73f4-4201-4b7f-a2fd-49763f3527c5",
   "metadata": {},
   "outputs": [
    {
     "data": {
      "text/plain": [
       "ID                  205\n",
       "symboling             6\n",
       "name                147\n",
       "fueltypes             2\n",
       "aspiration            2\n",
       "doornumbers           2\n",
       "carbody               5\n",
       "drivewheels           3\n",
       "enginelocation        2\n",
       "wheelbase            53\n",
       "carlength            75\n",
       "carwidth             44\n",
       "carheight            49\n",
       "curbweight          171\n",
       "enginetype            7\n",
       "cylindernumber        7\n",
       "enginesize           44\n",
       "fuelsystem            8\n",
       "boreratio            38\n",
       "stroke               37\n",
       "compressionratio     32\n",
       "horsepower           59\n",
       "peakrpm              23\n",
       "citympg              29\n",
       "highwaympg           30\n",
       "price               189\n",
       "dtype: int64"
      ]
     },
     "execution_count": 7,
     "metadata": {},
     "output_type": "execute_result"
    }
   ],
   "source": [
    "# check unique data for each feature in the dataframe\n",
    "df.nunique()"
   ]
  },
  {
   "cell_type": "code",
   "execution_count": 8,
   "id": "42955940-bebc-4d46-85ff-4844c508bf4b",
   "metadata": {},
   "outputs": [
    {
     "data": {
      "text/plain": [
       "Index(['ID', 'symboling', 'name', 'fueltypes', 'aspiration', 'doornumbers',\n",
       "       'carbody', 'drivewheels', 'enginelocation', 'wheelbase', 'carlength',\n",
       "       'carwidth', 'carheight', 'curbweight', 'enginetype', 'cylindernumber',\n",
       "       'enginesize', 'fuelsystem', 'boreratio', 'stroke', 'compressionratio',\n",
       "       'horsepower', 'peakrpm', 'citympg', 'highwaympg', 'price'],\n",
       "      dtype='object')"
      ]
     },
     "execution_count": 8,
     "metadata": {},
     "output_type": "execute_result"
    }
   ],
   "source": [
    "# column names of the dataframe\n",
    "df.columns"
   ]
  },
  {
   "cell_type": "markdown",
   "id": "db394900-1847-441f-92fe-163f8c346b7a",
   "metadata": {},
   "source": [
    "## Data Selection"
   ]
  },
  {
   "cell_type": "code",
   "execution_count": 9,
   "id": "350da3c8-5966-433f-9510-1a27a6887ab7",
   "metadata": {},
   "outputs": [],
   "source": [
    "# Select the numerical columns\n",
    "numerical_columns = ['wheelbase', 'enginesize', 'boreratio', 'stroke', 'compressionratio', 'horsepower', 'peakrpm', 'citympg']"
   ]
  },
  {
   "cell_type": "markdown",
   "id": "b3422600-5746-4669-ac43-30c42f2ac6f9",
   "metadata": {},
   "source": [
    "## Correlation of `Price` with other numerical variables."
   ]
  },
  {
   "cell_type": "code",
   "execution_count": 10,
   "id": "acd2175d-7400-417e-9cab-f13aa314ea3f",
   "metadata": {},
   "outputs": [
    {
     "name": "stdout",
     "output_type": "stream",
     "text": [
      "enginesize          0.874145\n",
      "horsepower          0.808139\n",
      "citympg             0.685751\n",
      "wheelbase           0.577816\n",
      "boreratio           0.553173\n",
      "peakrpm             0.085267\n",
      "stroke              0.079443\n",
      "compressionratio    0.067984\n",
      "dtype: float64\n"
     ]
    }
   ],
   "source": [
    "# Calculate correlation coefficients with respect to \"price\"\n",
    "correlation_with_price = df[numerical_columns].corrwith(df['price']).abs().sort_values(ascending=False)\n",
    "print(correlation_with_price)"
   ]
  },
  {
   "cell_type": "markdown",
   "id": "0f09223b-8f24-4854-b413-75b0b681c059",
   "metadata": {},
   "source": [
    "Enginesize has the highest correlation with price among the numerical columns."
   ]
  },
  {
   "cell_type": "code",
   "execution_count": 50,
   "id": "01a09f65-d214-4e9b-886d-a2ebaa329b2f",
   "metadata": {},
   "outputs": [
    {
     "name": "stdout",
     "output_type": "stream",
     "text": [
      "Defaulting to user installation because normal site-packages is not writeable\n",
      "Collecting tabulate\n",
      "  Downloading tabulate-0.9.0-py3-none-any.whl.metadata (34 kB)\n",
      "Downloading tabulate-0.9.0-py3-none-any.whl (35 kB)\n",
      "Installing collected packages: tabulate\n",
      "Successfully installed tabulate-0.9.0\n"
     ]
    }
   ],
   "source": [
    "!pip install tabulate"
   ]
  },
  {
   "cell_type": "code",
   "execution_count": 11,
   "id": "e5e1469c-cd65-4594-8e74-33f5a4b5c881",
   "metadata": {},
   "outputs": [
    {
     "name": "stdout",
     "output_type": "stream",
     "text": [
      "+------------------+------------------------+\n",
      "|     Feature      | Correlation with Price |\n",
      "+------------------+------------------------+\n",
      "|    enginesize    |   0.8741448025245112   |\n",
      "|    horsepower    |   0.8081388225362212   |\n",
      "|     citympg      |    0.68575133602704    |\n",
      "|    wheelbase     |    0.57781559829215    |\n",
      "|    boreratio     |   0.5531732367984434   |\n",
      "|     peakrpm      |  0.08526715027785685   |\n",
      "|      stroke      |   0.079443083881931    |\n",
      "| compressionratio |  0.06798350579944262   |\n",
      "+------------------+------------------------+\n"
     ]
    }
   ],
   "source": [
    "from tabulate import tabulate\n",
    "\n",
    "# Calculate correlation coefficients with respect to \"price\"\n",
    "correlation_with_price = df[numerical_columns].corrwith(df['price']).abs().sort_values(ascending=False)\n",
    "\n",
    "# Convert correlation_with_price series to DataFrame for better tabulation\n",
    "correlation_table = correlation_with_price.reset_index()\n",
    "correlation_table.columns = ['Feature', 'Correlation with Price']\n",
    "\n",
    "# Generate pretty table\n",
    "pretty_table = tabulate(correlation_table, headers='keys', tablefmt='pretty', showindex=False)\n",
    "\n",
    "print(pretty_table)\n"
   ]
  },
  {
   "cell_type": "code",
   "execution_count": 12,
   "id": "57c3a6c2-9dfd-46a2-890f-43ffe5003b34",
   "metadata": {},
   "outputs": [
    {
     "name": "stdout",
     "output_type": "stream",
     "text": [
      "The feature with the highest correlation with 'price' is 'enginesize' with a correlation coefficient of 0.874145.\n"
     ]
    }
   ],
   "source": [
    "# Calculate correlation coefficients with respect to \"price\"\n",
    "correlation_with_price = df[numerical_columns].corrwith(df['price']).abs().sort_values(ascending=False)\n",
    "\n",
    "# Get the feature with the highest correlation coefficient\n",
    "highest_correlation_feature = correlation_with_price.index[0]\n",
    "highest_correlation_coefficient = correlation_with_price.iloc[0]\n",
    "\n",
    "print(f\"The feature with the highest correlation with 'price' is '{highest_correlation_feature}' with a correlation coefficient of {highest_correlation_coefficient:.6f}.\")\n"
   ]
  },
  {
   "cell_type": "code",
   "execution_count": 13,
   "id": "448a214f-64bf-4256-844b-fbf14b62f734",
   "metadata": {},
   "outputs": [
    {
     "data": {
      "text/html": [
       "<div>\n",
       "<style scoped>\n",
       "    .dataframe tbody tr th:only-of-type {\n",
       "        vertical-align: middle;\n",
       "    }\n",
       "\n",
       "    .dataframe tbody tr th {\n",
       "        vertical-align: top;\n",
       "    }\n",
       "\n",
       "    .dataframe thead th {\n",
       "        text-align: right;\n",
       "    }\n",
       "</style>\n",
       "<table border=\"1\" class=\"dataframe\">\n",
       "  <thead>\n",
       "    <tr style=\"text-align: right;\">\n",
       "      <th></th>\n",
       "      <th>enginesize</th>\n",
       "      <th>price</th>\n",
       "    </tr>\n",
       "  </thead>\n",
       "  <tbody>\n",
       "    <tr>\n",
       "      <th>0</th>\n",
       "      <td>130</td>\n",
       "      <td>13495.0</td>\n",
       "    </tr>\n",
       "    <tr>\n",
       "      <th>1</th>\n",
       "      <td>130</td>\n",
       "      <td>16500.0</td>\n",
       "    </tr>\n",
       "    <tr>\n",
       "      <th>2</th>\n",
       "      <td>152</td>\n",
       "      <td>16500.0</td>\n",
       "    </tr>\n",
       "    <tr>\n",
       "      <th>3</th>\n",
       "      <td>109</td>\n",
       "      <td>13950.0</td>\n",
       "    </tr>\n",
       "    <tr>\n",
       "      <th>4</th>\n",
       "      <td>136</td>\n",
       "      <td>17450.0</td>\n",
       "    </tr>\n",
       "    <tr>\n",
       "      <th>...</th>\n",
       "      <td>...</td>\n",
       "      <td>...</td>\n",
       "    </tr>\n",
       "    <tr>\n",
       "      <th>200</th>\n",
       "      <td>141</td>\n",
       "      <td>16845.0</td>\n",
       "    </tr>\n",
       "    <tr>\n",
       "      <th>201</th>\n",
       "      <td>141</td>\n",
       "      <td>19045.0</td>\n",
       "    </tr>\n",
       "    <tr>\n",
       "      <th>202</th>\n",
       "      <td>173</td>\n",
       "      <td>21485.0</td>\n",
       "    </tr>\n",
       "    <tr>\n",
       "      <th>203</th>\n",
       "      <td>145</td>\n",
       "      <td>22470.0</td>\n",
       "    </tr>\n",
       "    <tr>\n",
       "      <th>204</th>\n",
       "      <td>141</td>\n",
       "      <td>22625.0</td>\n",
       "    </tr>\n",
       "  </tbody>\n",
       "</table>\n",
       "<p>205 rows × 2 columns</p>\n",
       "</div>"
      ],
      "text/plain": [
       "     enginesize    price\n",
       "0           130  13495.0\n",
       "1           130  16500.0\n",
       "2           152  16500.0\n",
       "3           109  13950.0\n",
       "4           136  17450.0\n",
       "..          ...      ...\n",
       "200         141  16845.0\n",
       "201         141  19045.0\n",
       "202         173  21485.0\n",
       "203         145  22470.0\n",
       "204         141  22625.0\n",
       "\n",
       "[205 rows x 2 columns]"
      ]
     },
     "execution_count": 13,
     "metadata": {},
     "output_type": "execute_result"
    }
   ],
   "source": [
    "# create a new simple dataframe using the existing one\n",
    "new_df = df[['enginesize', 'price']]\n",
    "new_df"
   ]
  },
  {
   "cell_type": "markdown",
   "id": "c0f99910-7ec0-42d5-96a1-9eab4f6f9e7b",
   "metadata": {},
   "source": [
    "- **Comparing Engine Size and Fuel Type with Price using Scatter Plot**"
   ]
  },
  {
   "cell_type": "code",
   "execution_count": 14,
   "id": "2155be72-0bc0-4895-b525-a5e648b012b0",
   "metadata": {},
   "outputs": [
    {
     "data": {
      "text/plain": [
       "<Axes: xlabel='enginesize', ylabel='price'>"
      ]
     },
     "execution_count": 14,
     "metadata": {},
     "output_type": "execute_result"
    },
    {
     "data": {
      "image/png": "[encoded data removed]",
      "text/plain": [
       "<Figure size 640x480 with 1 Axes>"
      ]
     },
     "metadata": {},
     "output_type": "display_data"
    }
   ],
   "source": [
    "# check the distribution of data by plotting as scatter\n",
    "new_df.plot(x='enginesize', y='price', kind='scatter')"
   ]
  },
  {
   "cell_type": "code",
   "execution_count": 15,
   "id": "b48b365f-68a8-43b2-a3f0-8ddd65747bd0",
   "metadata": {},
   "outputs": [
    {
     "data": {
      "text/plain": [
       "<Axes: xlabel='fueltypes', ylabel='price'>"
      ]
     },
     "execution_count": 15,
     "metadata": {},
     "output_type": "execute_result"
    },
    {
     "data": {
      "image/png": "[encoded data removed]",
      "text/plain": [
       "<Figure size 640x480 with 1 Axes>"
      ]
     },
     "metadata": {},
     "output_type": "display_data"
    }
   ],
   "source": [
    "# compare below plot with the previous one\n",
    "df.plot(x='fueltypes', y='price', kind='scatter')"
   ]
  },
  {
   "cell_type": "markdown",
   "id": "12296c06-f660-4b91-a49e-1852ff48f935",
   "metadata": {},
   "source": [
    "## Creating a New DataFrame"
   ]
  },
  {
   "cell_type": "code",
   "execution_count": 16,
   "id": "6d1dd767-2665-43ac-8f75-2b7bbc659314",
   "metadata": {},
   "outputs": [],
   "source": [
    "# define x and y by using the new dataframe\n",
    "x = new_df['enginesize']\n",
    "y = new_df['price']"
   ]
  },
  {
   "cell_type": "markdown",
   "id": "41f1678d-b2b1-4a14-8a27-41c2909a044b",
   "metadata": {},
   "source": [
    "## Splitting data"
   ]
  },
  {
   "cell_type": "code",
   "execution_count": 17,
   "id": "2122dac7-7259-4bbd-88e7-3665174ae604",
   "metadata": {},
   "outputs": [],
   "source": [
    "# split the data as train and test\n",
    "x_train, x_test, y_train, y_test = train_test_split(x, y, test_size=0.2, random_state=0)"
   ]
  },
  {
   "cell_type": "code",
   "execution_count": 18,
   "id": "c4a7f22e-5d54-4198-a615-7b002b6babf1",
   "metadata": {},
   "outputs": [
    {
     "name": "stdout",
     "output_type": "stream",
     "text": [
      "X_train: (164,)\n",
      "X_test: (41,)\n",
      "Y_train: (164,)\n",
      "Y_test: (41,)\n"
     ]
    }
   ],
   "source": [
    "#shapes of splitted data - sizes of the X_train and Y_train should be same. Also, tests.\n",
    "print(\"X_train:\",x_train.shape)\n",
    "print(\"X_test:\",x_test.shape)\n",
    "print(\"Y_train:\",y_train.shape)\n",
    "print(\"Y_test:\",y_test.shape)"
   ]
  },
  {
   "cell_type": "markdown",
   "id": "72758586-c019-4017-94c4-7b374d6b03b0",
   "metadata": {},
   "source": [
    "## Model Creation"
   ]
  },
  {
   "cell_type": "code",
   "execution_count": 19,
   "id": "cc9ce2ba-ee86-46b4-bbab-53a4e8976120",
   "metadata": {},
   "outputs": [],
   "source": [
    "# create a linear regression model\n",
    "model = LinearRegression()"
   ]
  },
  {
   "cell_type": "markdown",
   "id": "6b72d5bb-1028-4d76-b54d-fcff4971b229",
   "metadata": {},
   "source": [
    "## Model Training"
   ]
  },
  {
   "cell_type": "code",
   "execution_count": 20,
   "id": "e16d61f8-2133-4f33-8c8a-066f4c2a5df5",
   "metadata": {},
   "outputs": [
    {
     "data": {
      "text/html": [
       "<style>#sk-container-id-1 {color: black;background-color: white;}#sk-container-id-1 pre{padding: 0;}#sk-container-id-1 div.sk-toggleable {background-color: white;}#sk-container-id-1 label.sk-toggleable__label {cursor: pointer;display: block;width: 100%;margin-bottom: 0;padding: 0.3em;box-sizing: border-box;text-align: center;}#sk-container-id-1 label.sk-toggleable__label-arrow:before {content: \"▸\";float: left;margin-right: 0.25em;color: #696969;}#sk-container-id-1 label.sk-toggleable__label-arrow:hover:before {color: black;}#sk-container-id-1 div.sk-estimator:hover label.sk-toggleable__label-arrow:before {color: black;}#sk-container-id-1 div.sk-toggleable__content {max-height: 0;max-width: 0;overflow: hidden;text-align: left;background-color: #f0f8ff;}#sk-container-id-1 div.sk-toggleable__content pre {margin: 0.2em;color: black;border-radius: 0.25em;background-color: #f0f8ff;}#sk-container-id-1 input.sk-toggleable__control:checked~div.sk-toggleable__content {max-height: 200px;max-width: 100%;overflow: auto;}#sk-container-id-1 input.sk-toggleable__control:checked~label.sk-toggleable__label-arrow:before {content: \"▾\";}#sk-container-id-1 div.sk-estimator input.sk-toggleable__control:checked~label.sk-toggleable__label {background-color: #d4ebff;}#sk-container-id-1 div.sk-label input.sk-toggleable__control:checked~label.sk-toggleable__label {background-color: #d4ebff;}#sk-container-id-1 input.sk-hidden--visually {border: 0;clip: rect(1px 1px 1px 1px);clip: rect(1px, 1px, 1px, 1px);height: 1px;margin: -1px;overflow: hidden;padding: 0;position: absolute;width: 1px;}#sk-container-id-1 div.sk-estimator {font-family: monospace;background-color: #f0f8ff;border: 1px dotted black;border-radius: 0.25em;box-sizing: border-box;margin-bottom: 0.5em;}#sk-container-id-1 div.sk-estimator:hover {background-color: #d4ebff;}#sk-container-id-1 div.sk-parallel-item::after {content: \"\";width: 100%;border-bottom: 1px solid gray;flex-grow: 1;}#sk-container-id-1 div.sk-label:hover label.sk-toggleable__label {background-color: #d4ebff;}#sk-container-id-1 div.sk-serial::before {content: \"\";position: absolute;border-left: 1px solid gray;box-sizing: border-box;top: 0;bottom: 0;left: 50%;z-index: 0;}#sk-container-id-1 div.sk-serial {display: flex;flex-direction: column;align-items: center;background-color: white;padding-right: 0.2em;padding-left: 0.2em;position: relative;}#sk-container-id-1 div.sk-item {position: relative;z-index: 1;}#sk-container-id-1 div.sk-parallel {display: flex;align-items: stretch;justify-content: center;background-color: white;position: relative;}#sk-container-id-1 div.sk-item::before, #sk-container-id-1 div.sk-parallel-item::before {content: \"\";position: absolute;border-left: 1px solid gray;box-sizing: border-box;top: 0;bottom: 0;left: 50%;z-index: -1;}#sk-container-id-1 div.sk-parallel-item {display: flex;flex-direction: column;z-index: 1;position: relative;background-color: white;}#sk-container-id-1 div.sk-parallel-item:first-child::after {align-self: flex-end;width: 50%;}#sk-container-id-1 div.sk-parallel-item:last-child::after {align-self: flex-start;width: 50%;}#sk-container-id-1 div.sk-parallel-item:only-child::after {width: 0;}#sk-container-id-1 div.sk-dashed-wrapped {border: 1px dashed gray;margin: 0 0.4em 0.5em 0.4em;box-sizing: border-box;padding-bottom: 0.4em;background-color: white;}#sk-container-id-1 div.sk-label label {font-family: monospace;font-weight: bold;display: inline-block;line-height: 1.2em;}#sk-container-id-1 div.sk-label-container {text-align: center;}#sk-container-id-1 div.sk-container {/* jupyter's `normalize.less` sets `[hidden] { display: none; }` but bootstrap.min.css set `[hidden] { display: none !important; }` so we also need the `!important` here to be able to override the default hidden behavior on the sphinx rendered scikit-learn.org. See: https://github.com/scikit-learn/scikit-learn/issues/21755 */display: inline-block !important;position: relative;}#sk-container-id-1 div.sk-text-repr-fallback {display: none;}</style><div id=\"sk-container-id-1\" class=\"sk-top-container\"><div class=\"sk-text-repr-fallback\"><pre>LinearRegression()</pre><b>In a Jupyter environment, please rerun this cell to show the HTML representation or trust the notebook. <br />On GitHub, the HTML representation is unable to render, please try loading this page with nbviewer.org.</b></div><div class=\"sk-container\" hidden><div class=\"sk-item\"><div class=\"sk-estimator sk-toggleable\"><input class=\"sk-toggleable__control sk-hidden--visually\" id=\"sk-estimator-id-1\" type=\"checkbox\" checked><label for=\"sk-estimator-id-1\" class=\"sk-toggleable__label sk-toggleable__label-arrow\">LinearRegression</label><div class=\"sk-toggleable__content\"><pre>LinearRegression()</pre></div></div></div></div></div>"
      ],
      "text/plain": [
       "LinearRegression()"
      ]
     },
     "execution_count": 20,
     "metadata": {},
     "output_type": "execute_result"
    }
   ],
   "source": [
    "# train the model using training data\n",
    "# since we have only one independent variable, you should use 'values.reshape(-1,1)'. Otherwise, x_train is enough.\n",
    "model.fit(x_train.values.reshape(-1,1), y_train)"
   ]
  },
  {
   "cell_type": "code",
   "execution_count": 21,
   "id": "b378e9bd-3fd6-49fe-946c-c8652d132b2b",
   "metadata": {},
   "outputs": [
    {
     "data": {
      "text/plain": [
       "array([164.31545172])"
      ]
     },
     "execution_count": 21,
     "metadata": {},
     "output_type": "execute_result"
    }
   ],
   "source": [
    "# print coefficient\n",
    "model.coef_"
   ]
  },
  {
   "cell_type": "code",
   "execution_count": 22,
   "id": "39c0b5cd-7c6a-45ad-996e-4cf0301208c9",
   "metadata": {},
   "outputs": [
    {
     "data": {
      "text/plain": [
       "-7613.370939489803"
      ]
     },
     "execution_count": 22,
     "metadata": {},
     "output_type": "execute_result"
    }
   ],
   "source": [
    "# print y_intercept | bias\n",
    "model.intercept_"
   ]
  },
  {
   "cell_type": "code",
   "execution_count": 23,
   "id": "1e6696eb-dcea-4ea1-ba42-2af5e22d20c6",
   "metadata": {},
   "outputs": [],
   "source": [
    "# make predictions using test data\n",
    "y_pred = model.predict(x_test.values.reshape(-1,1))"
   ]
  },
  {
   "cell_type": "markdown",
   "id": "c096621e-c865-4281-b59a-3a7cc22fd2a2",
   "metadata": {},
   "source": [
    "## Evaluation Metrics"
   ]
  },
  {
   "cell_type": "code",
   "execution_count": 24,
   "id": "e005ea0a-b061-4fdf-a5cc-fe2dbc646840",
   "metadata": {},
   "outputs": [
    {
     "name": "stdout",
     "output_type": "stream",
     "text": [
      "MSE -->  16835544.03813768\n"
     ]
    }
   ],
   "source": [
    "# let's calculate the metrics\n",
    "# MSE\n",
    "mse = mean_squared_error(y_test, y_pred)\n",
    "print(\"MSE --> \", mse)"
   ]
  },
  {
   "cell_type": "code",
   "execution_count": 25,
   "id": "bfd9037f-55ef-4266-b673-72ae76680aeb",
   "metadata": {},
   "outputs": [
    {
     "name": "stdout",
     "output_type": "stream",
     "text": [
      "MAE -->  3195.0312395000433\n"
     ]
    }
   ],
   "source": [
    "# MAE\n",
    "mae = mean_absolute_error(y_test, y_pred)\n",
    "print(\"MAE --> \", mae)"
   ]
  },
  {
   "cell_type": "code",
   "execution_count": 26,
   "id": "2875a41f-46ee-4e21-ba1e-402240f5055a",
   "metadata": {},
   "outputs": [
    {
     "name": "stdout",
     "output_type": "stream",
     "text": [
      "R2 -->  0.7825324721447274\n"
     ]
    }
   ],
   "source": [
    "# R2\n",
    "r2 = r2_score(y_test, y_pred)\n",
    "print(\"R2 --> \", r2)"
   ]
  },
  {
   "cell_type": "code",
   "execution_count": 27,
   "id": "ce826f80-7853-4467-8774-de0bda5f1a37",
   "metadata": {},
   "outputs": [
    {
     "name": "stdout",
     "output_type": "stream",
     "text": [
      "RMSE -->  4103.113944084137\n"
     ]
    }
   ],
   "source": [
    "# RMSE\n",
    "import math\n",
    "rmse = math.sqrt(mse)\n",
    "print(\"RMSE --> \", rmse)"
   ]
  },
  {
   "cell_type": "code",
   "execution_count": 28,
   "id": "dc258d41-cd50-4b33-8b24-85e247cd16e4",
   "metadata": {},
   "outputs": [
    {
     "name": "stdout",
     "output_type": "stream",
     "text": [
      "MSE -->  16835544.03813768\n",
      "RMSE -->  4103.113944084137\n",
      "MAE -->  3195.0312395000433\n",
      "R2 -->  0.7825324721447274\n"
     ]
    }
   ],
   "source": [
    "# print them all\n",
    "print(\"MSE --> \", mse)\n",
    "print(\"RMSE --> \", rmse)\n",
    "print(\"MAE --> \", mae)\n",
    "print(\"R2 --> \", r2)"
   ]
  },
  {
   "cell_type": "markdown",
   "id": "aba4a6c8-1619-4fbe-879a-e47a13e5e196",
   "metadata": {},
   "source": [
    "## Plot actual and predicted values"
   ]
  },
  {
   "cell_type": "code",
   "execution_count": 29,
   "id": "2483ac57-d510-48b0-a10a-4bdf368228e1",
   "metadata": {},
   "outputs": [
    {
     "data": {
      "text/plain": [
       "Text(0, 0.5, 'Predicted')"
      ]
     },
     "execution_count": 29,
     "metadata": {},
     "output_type": "execute_result"
    },
    {
     "data": {
      "image/png": "[encoded data removed]",
      "text/plain": [
       "<Figure size 640x480 with 1 Axes>"
      ]
     },
     "metadata": {},
     "output_type": "display_data"
    }
   ],
   "source": [
    "# plot actual and predicted values\n",
    "plt.scatter(y_test, y_pred)\n",
    "plt.xlabel('Actual')\n",
    "plt.ylabel('Predicted')"
   ]
  },
  {
   "cell_type": "code",
   "execution_count": 30,
   "id": "2c4d1a2c-3a22-4d7c-86be-664e3d7bc722",
   "metadata": {},
   "outputs": [
    {
     "data": {
      "text/plain": [
       "<matplotlib.legend.Legend at 0x7fe5ef2b5f70>"
      ]
     },
     "execution_count": 30,
     "metadata": {},
     "output_type": "execute_result"
    },
    {
     "data": {
      "image/png": "[encoded data removed]",
      "text/plain": [
       "<Figure size 640x480 with 1 Axes>"
      ]
     },
     "metadata": {},
     "output_type": "display_data"
    }
   ],
   "source": [
    "# Plotting actual vs. predicted values with different colors for each group\n",
    "plt.scatter(y_test, y_pred, c='green', label='Data Points')\n",
    "plt.plot([y_test.min(), y_test.max()], [y_test.min(), y_test.max()], 'k--', lw=2, label='Perfect Prediction')\n",
    "plt.xlabel('Actual Price')\n",
    "plt.ylabel('Predicted Price')\n",
    "plt.title('Actual vs. Predicted Prices')\n",
    "plt.legend()\n",
    "\n",
    "# In a perfect prediction scenario, all points would lie on a diagonal line (y = x).\n",
    "# This plot helps visualize how well the model predictions align with the actual prices.\n",
    "# Ideally, all points should cluster around the diagonal line, indicating accurate predictions.\n",
    "# The scatter plot allows us to identify any patterns or discrepancies between actual and predicted prices.\n"
   ]
  },
  {
   "cell_type": "markdown",
   "id": "bb630fb2-2b1b-4917-a874-cef778704fa5",
   "metadata": {},
   "source": [
    "## Plot regression model line"
   ]
  },
  {
   "cell_type": "code",
   "execution_count": 40,
   "id": "2c5afaad-9c92-4734-bfce-e210e1df8694",
   "metadata": {},
   "outputs": [
    {
     "data": {
      "text/plain": [
       "<Axes: xlabel='enginesize', ylabel='price'>"
      ]
     },
     "execution_count": 40,
     "metadata": {},
     "output_type": "execute_result"
    },
    {
     "data": {
      "image/png": "[encoded data removed]",
      "text/plain": [
       "<Figure size 640x480 with 1 Axes>"
      ]
     },
     "metadata": {},
     "output_type": "display_data"
    }
   ],
   "source": [
    "# plot regression model line\n",
    "sns.regplot(x=x, y=y, ci=None, color ='blue')"
   ]
  },
  {
   "cell_type": "code",
   "execution_count": 35,
   "id": "a6e4ab57-a6f9-4d99-b01e-2aab0ea10187",
   "metadata": {},
   "outputs": [
    {
     "data": {
      "text/plain": [
       "<Axes: xlabel='enginesize', ylabel='price'>"
      ]
     },
     "execution_count": 35,
     "metadata": {},
     "output_type": "execute_result"
    },
    {
     "data": {
      "image/png": "[encoded data removed]",
      "text/plain": [
       "<Figure size 640x480 with 1 Axes>"
      ]
     },
     "metadata": {},
     "output_type": "display_data"
    }
   ],
   "source": [
    "# Plot regression model line and scatter plot with different colors and line style\n",
    "sns.regplot(x=x, y=y, ci=None, line_kws={\"color\": \"black\", \"linestyle\": \"--\"}, scatter_kws={\"color\": \"red\", \"s\": 20})"
   ]
  },
  {
   "cell_type": "code",
   "execution_count": 37,
   "id": "daf77bea-abca-4fee-948f-bf8bafc1dffd",
   "metadata": {},
   "outputs": [
    {
     "name": "stdout",
     "output_type": "stream",
     "text": [
      "[ 7339.33516732 18841.41678794 14733.53049486  2409.87161562\n",
      " 10297.01329834 16376.68501209  7503.65061904  7503.65061904\n",
      " 22127.7258224   7503.65061904 19334.36314311 25742.66576031\n",
      "  3888.71068113 14404.89959141  7175.0197156  16376.68501209\n",
      " 14076.26868797 14733.53049486 10461.32875006  7503.65061904\n",
      " 10461.32875006 12104.48326729 14076.26868797 16376.68501209\n",
      " 20484.57130517  8325.22787766  8489.54332938 12104.48326729\n",
      "  8489.54332938  8325.22787766 10297.01329834 10297.01329834\n",
      " 17198.26227071 12433.11417074  8325.22787766 26728.55847065\n",
      " 10297.01329834 12268.79871901  7175.0197156  42338.52638435\n",
      "  7175.0197156 ]\n"
     ]
    }
   ],
   "source": [
    "# Convert x_test to a NumPy array\n",
    "x_test_array = x_test.to_numpy()\n",
    "\n",
    "# Reshape x_test_array to a 2D array\n",
    "x_test_reshaped = x_test_array.reshape(-1, 1)\n",
    "\n",
    "# Use the model for predictions with the reshaped input\n",
    "predictions =model.predict(x_test_reshaped)\n",
    "\n",
    "# Print or use the predictions as needed\n",
    "print(predictions)\n"
   ]
  },
  {
   "cell_type": "markdown",
   "id": "393e802c-8076-46bf-9545-3674a13e15e9",
   "metadata": {},
   "source": [
    "# Predicting prices based on engine size"
   ]
  },
  {
   "cell_type": "code",
   "execution_count": 45,
   "id": "270eb859-00f1-4c0d-8078-b1551071ac33",
   "metadata": {},
   "outputs": [
    {
     "name": "stdout",
     "output_type": "stream",
     "text": [
      "Engine Size: 91, Predicted Price: 7339.335167318599\n",
      "Engine Size: 161, Predicted Price: 18841.416787940445\n",
      "Engine Size: 136, Predicted Price: 14733.530494861214\n",
      "Engine Size: 61, Predicted Price: 2409.8716156235205\n",
      "Engine Size: 109, Predicted Price: 10297.013298335645\n",
      "Engine Size: 146, Predicted Price: 16376.685012092908\n",
      "Engine Size: 92, Predicted Price: 7503.650619041768\n",
      "Engine Size: 92, Predicted Price: 7503.650619041768\n",
      "Engine Size: 181, Predicted Price: 22127.72582240383\n",
      "Engine Size: 92, Predicted Price: 7503.650619041768\n",
      "Engine Size: 164, Predicted Price: 19334.363143109953\n",
      "Engine Size: 203, Predicted Price: 25742.665760313554\n",
      "Engine Size: 70, Predicted Price: 3888.7106811320446\n",
      "Engine Size: 134, Predicted Price: 14404.899591414876\n",
      "Engine Size: 90, Predicted Price: 7175.019715595428\n",
      "Engine Size: 146, Predicted Price: 16376.685012092908\n",
      "Engine Size: 132, Predicted Price: 14076.268687968539\n",
      "Engine Size: 136, Predicted Price: 14733.530494861214\n",
      "Engine Size: 110, Predicted Price: 10461.328750058812\n",
      "Engine Size: 92, Predicted Price: 7503.650619041768\n",
      "Engine Size: 110, Predicted Price: 10461.328750058812\n",
      "Engine Size: 120, Predicted Price: 12104.483267290507\n",
      "Engine Size: 132, Predicted Price: 14076.268687968539\n",
      "Engine Size: 146, Predicted Price: 16376.685012092908\n",
      "Engine Size: 171, Predicted Price: 20484.57130517214\n",
      "Engine Size: 97, Predicted Price: 8325.227877657613\n",
      "Engine Size: 98, Predicted Price: 8489.543329380784\n",
      "Engine Size: 120, Predicted Price: 12104.483267290507\n",
      "Engine Size: 98, Predicted Price: 8489.543329380784\n",
      "Engine Size: 97, Predicted Price: 8325.227877657613\n",
      "Engine Size: 109, Predicted Price: 10297.013298335645\n",
      "Engine Size: 109, Predicted Price: 10297.013298335645\n",
      "Engine Size: 151, Predicted Price: 17198.262270708754\n",
      "Engine Size: 122, Predicted Price: 12433.114170736844\n",
      "Engine Size: 97, Predicted Price: 8325.227877657613\n",
      "Engine Size: 209, Predicted Price: 26728.55847065257\n",
      "Engine Size: 109, Predicted Price: 10297.013298335645\n",
      "Engine Size: 121, Predicted Price: 12268.798719013677\n",
      "Engine Size: 90, Predicted Price: 7175.019715595428\n",
      "Engine Size: 304, Predicted Price: 42338.526384353645\n",
      "Engine Size: 90, Predicted Price: 7175.019715595428\n"
     ]
    }
   ],
   "source": [
    "# Iterate over the predicted prices and their corresponding indices\n",
    "for idx, pred_price in enumerate(predictions):\n",
    "    # Retrieve the engine size corresponding to the current index\n",
    "    engine_size = x_test.iloc[idx]  # Assuming engine size is the first column in x_test\n",
    "    # Print or use the engine size along with the predicted price\n",
    "    print(f\"Engine Size: {engine_size}, Predicted Price: {pred_price}\")\n"
   ]
  },
  {
   "cell_type": "markdown",
   "id": "10de8e66-daf5-4189-bd77-45d8a5a289cb",
   "metadata": {},
   "source": [
    "## Saving Model"
   ]
  },
  {
   "cell_type": "code",
   "execution_count": 39,
   "id": "48265060-4ac8-4060-88fa-f93fb777f866",
   "metadata": {},
   "outputs": [
    {
     "name": "stdout",
     "output_type": "stream",
     "text": [
      "Model saved to linear_regression_model.pkl\n"
     ]
    }
   ],
   "source": [
    "## Save the trained model to a file using pickle\n",
    "model_filename = 'linear_regression_model.pkl' \n",
    "with open(model_filename, 'wb') as file: \n",
    "    pickle.dump(model, file)\n",
    "print(f'Model saved to {model_filename}')"
   ]
  },
  {
   "cell_type": "code",
   "execution_count": 40,
   "id": "1d886c5b-e288-499e-890a-d06f47a1d77f",
   "metadata": {},
   "outputs": [],
   "source": [
    "# Load the saved model\n",
    "with open('linear_regression_model.pkl', 'rb') as file:\n",
    "    loaded_model = pickle.load(file)\n",
    "\n",
    "# Now you can use loaded_model for predictions"
   ]
  },
  {
   "cell_type": "code",
   "execution_count": 41,
   "id": "748cc4ac-dd12-4cd7-a5b3-4b5664e02766",
   "metadata": {},
   "outputs": [
    {
     "name": "stdout",
     "output_type": "stream",
     "text": [
      "[ 7339.33516732 18841.41678794 14733.53049486  2409.87161562\n",
      " 10297.01329834 16376.68501209  7503.65061904  7503.65061904\n",
      " 22127.7258224   7503.65061904 19334.36314311 25742.66576031\n",
      "  3888.71068113 14404.89959141  7175.0197156  16376.68501209\n",
      " 14076.26868797 14733.53049486 10461.32875006  7503.65061904\n",
      " 10461.32875006 12104.48326729 14076.26868797 16376.68501209\n",
      " 20484.57130517  8325.22787766  8489.54332938 12104.48326729\n",
      "  8489.54332938  8325.22787766 10297.01329834 10297.01329834\n",
      " 17198.26227071 12433.11417074  8325.22787766 26728.55847065\n",
      " 10297.01329834 12268.79871901  7175.0197156  42338.52638435\n",
      "  7175.0197156 ]\n"
     ]
    }
   ],
   "source": [
    "# Convert x_test to a NumPy array\n",
    "x_test_array = x_test.to_numpy()\n",
    "\n",
    "# Reshape x_test_array to a 2D array\n",
    "x_test_reshaped = x_test_array.reshape(-1, 1)\n",
    "\n",
    "# Use the loaded model for predictions with the reshaped input\n",
    "predictions = loaded_model.predict(x_test_reshaped)\n",
    "\n",
    "# Print or use the predictions as needed\n",
    "print(predictions)\n"
   ]
  },
  {
   "cell_type": "code",
   "execution_count": null,
   "id": "f9410cd4-1c8f-4304-87e9-059b26205961",
   "metadata": {},
   "outputs": [],
   "source": []
  }
 ],
 "metadata": {
  "kernelspec": {
   "display_name": "Python 3 (Intel® oneAPI 2023.2)",
   "language": "python",
   "name": "c009-intel_distribution_of_python_3_oneapi-beta05-python"
  },
  "language_info": {
   "codemirror_mode": {
    "name": "ipython",
    "version": 3
   },
   "file_extension": ".py",
   "mimetype": "text/x-python",
   "name": "python",
   "nbconvert_exporter": "python",
   "pygments_lexer": "ipython3",
   "version": "3.9.16"
  }
 },
 "nbformat": 4,
 "nbformat_minor": 5
}
