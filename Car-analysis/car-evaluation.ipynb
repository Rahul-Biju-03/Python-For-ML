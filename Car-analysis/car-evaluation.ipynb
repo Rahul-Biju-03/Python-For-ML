{
 "cells": [
  {
   "cell_type": "code",
   "execution_count": 6,
   "id": "4c122b85-4a9b-41aa-9ecd-1a80779b6942",
   "metadata": {},
   "outputs": [
    {
     "name": "stdout",
     "output_type": "stream",
     "text": [
      "Defaulting to user installation because normal site-packages is not writeable\n",
      "Requirement already satisfied: category_encoders in /home/u213914/.local/lib/python3.9/site-packages (2.6.3)\n",
      "Requirement already satisfied: numpy>=1.14.0 in /glob/development-tools/versions/oneapi/2024.0.2.1/oneapi/intelpython/lib/python3.9/site-packages (from category_encoders) (1.24.3)\n",
      "Requirement already satisfied: scikit-learn>=0.20.0 in /home/u213914/.local/lib/python3.9/site-packages (from category_encoders) (1.2.2)\n",
      "Requirement already satisfied: scipy>=1.0.0 in /glob/development-tools/versions/oneapi/2024.0.2.1/oneapi/intelpython/lib/python3.9/site-packages (from category_encoders) (1.10.1)\n",
      "Requirement already satisfied: statsmodels>=0.9.0 in /home/u213914/.local/lib/python3.9/site-packages (from category_encoders) (0.14.1)\n",
      "Requirement already satisfied: pandas>=1.0.5 in /home/u213914/.local/lib/python3.9/site-packages (from category_encoders) (2.0.0)\n",
      "Requirement already satisfied: patsy>=0.5.1 in /home/u213914/.local/lib/python3.9/site-packages (from category_encoders) (0.5.6)\n",
      "Requirement already satisfied: python-dateutil>=2.8.2 in /glob/development-tools/versions/oneapi/2024.0.2.1/oneapi/intelpython/lib/python3.9/site-packages (from pandas>=1.0.5->category_encoders) (2.8.2)\n",
      "Requirement already satisfied: pytz>=2020.1 in /glob/development-tools/versions/oneapi/2024.0.2.1/oneapi/intelpython/lib/python3.9/site-packages (from pandas>=1.0.5->category_encoders) (2023.3.post1)\n",
      "Requirement already satisfied: tzdata>=2022.1 in /home/u213914/.local/lib/python3.9/site-packages (from pandas>=1.0.5->category_encoders) (2024.1)\n",
      "Requirement already satisfied: six in /glob/development-tools/versions/oneapi/2024.0.2.1/oneapi/intelpython/lib/python3.9/site-packages (from patsy>=0.5.1->category_encoders) (1.16.0)\n",
      "Requirement already satisfied: joblib>=1.1.1 in /glob/development-tools/versions/oneapi/2024.0.2.1/oneapi/intelpython/lib/python3.9/site-packages (from scikit-learn>=0.20.0->category_encoders) (1.3.2)\n",
      "Requirement already satisfied: threadpoolctl>=2.0.0 in /glob/development-tools/versions/oneapi/2024.0.2.1/oneapi/intelpython/lib/python3.9/site-packages (from scikit-learn>=0.20.0->category_encoders) (3.2.0)\n",
      "Requirement already satisfied: packaging>=21.3 in /glob/development-tools/versions/oneapi/2024.0.2.1/oneapi/intelpython/lib/python3.9/site-packages (from statsmodels>=0.9.0->category_encoders) (23.2)\n"
     ]
    }
   ],
   "source": [
    "!pip install category_encoders"
   ]
  },
  {
   "cell_type": "code",
   "execution_count": 7,
   "id": "5f49f487-6740-49db-a10b-bc98c3ee87b8",
   "metadata": {},
   "outputs": [],
   "source": [
    "from sklearn.tree import DecisionTreeClassifier\n",
    "from sklearn import datasets\n",
    "from sklearn.model_selection import train_test_split\n",
    "from sklearn.metrics import accuracy_score\n",
    "import pandas as pd\n",
    "import category_encoders as ce\n",
    "from sklearn.metrics import accuracy_score\n",
    "from matplotlib import pyplot as plt\n",
    "import pickle\n",
    "import pandas as pd\n",
    "from sklearn import tree"
   ]
  },
  {
   "cell_type": "code",
   "execution_count": 8,
   "id": "89ee621d-e196-4708-beb9-607e96ada528",
   "metadata": {},
   "outputs": [],
   "source": [
    "# Read the CSV file into a pandas DataFrame\n",
    "df = pd.read_csv('car_evaluation.csv')"
   ]
  },
  {
   "cell_type": "code",
   "execution_count": 9,
   "id": "5a2c7049-0a51-4117-9569-3eeee5bc486c",
   "metadata": {},
   "outputs": [
    {
     "data": {
      "text/plain": [
       "['buying', 'maint', 'doors', 'persons', 'lug_boot', 'safety', 'class']"
      ]
     },
     "execution_count": 9,
     "metadata": {},
     "output_type": "execute_result"
    }
   ],
   "source": [
    "col_names = ['buying', 'maint', 'doors', 'persons', 'lug_boot', 'safety', 'class']\n",
    "df.columns = col_names\n",
    "col_names"
   ]
  },
  {
   "cell_type": "code",
   "execution_count": 10,
   "id": "1d16266d-09a2-4065-985b-bea177c9d515",
   "metadata": {},
   "outputs": [
    {
     "name": "stdout",
     "output_type": "stream",
     "text": [
      "  buying  maint doors persons lug_boot safety  class\n",
      "0  vhigh  vhigh     2       2    small    med  unacc\n",
      "1  vhigh  vhigh     2       2    small   high  unacc\n",
      "2  vhigh  vhigh     2       2      med    low  unacc\n",
      "3  vhigh  vhigh     2       2      med    med  unacc\n",
      "4  vhigh  vhigh     2       2      med   high  unacc\n"
     ]
    }
   ],
   "source": [
    "# Now you can work with the DataFrame as needed\n",
    "print(df.head())"
   ]
  },
  {
   "cell_type": "code",
   "execution_count": 11,
   "id": "9f9f419a-796c-4505-9dd9-9cb7e7767cb2",
   "metadata": {},
   "outputs": [
    {
     "data": {
      "text/plain": [
       "(1727, 7)"
      ]
     },
     "execution_count": 11,
     "metadata": {},
     "output_type": "execute_result"
    }
   ],
   "source": [
    "df.shape"
   ]
  },
  {
   "cell_type": "code",
   "execution_count": 12,
   "id": "2c5bc4ee-9943-47dc-bbe2-5db1d5b68e04",
   "metadata": {},
   "outputs": [
    {
     "name": "stdout",
     "output_type": "stream",
     "text": [
      "<class 'pandas.core.frame.DataFrame'>\n",
      "RangeIndex: 1727 entries, 0 to 1726\n",
      "Data columns (total 7 columns):\n",
      " #   Column    Non-Null Count  Dtype \n",
      "---  ------    --------------  ----- \n",
      " 0   buying    1727 non-null   object\n",
      " 1   maint     1727 non-null   object\n",
      " 2   doors     1727 non-null   object\n",
      " 3   persons   1727 non-null   object\n",
      " 4   lug_boot  1727 non-null   object\n",
      " 5   safety    1727 non-null   object\n",
      " 6   class     1727 non-null   object\n",
      "dtypes: object(7)\n",
      "memory usage: 94.6+ KB\n"
     ]
    }
   ],
   "source": [
    "df.info()"
   ]
  },
  {
   "cell_type": "code",
   "execution_count": 13,
   "id": "ef9f0d4b-f681-4d5e-9ea5-fea9b1d44415",
   "metadata": {},
   "outputs": [
    {
     "data": {
      "text/plain": [
       "buying      0\n",
       "maint       0\n",
       "doors       0\n",
       "persons     0\n",
       "lug_boot    0\n",
       "safety      0\n",
       "class       0\n",
       "dtype: int64"
      ]
     },
     "execution_count": 13,
     "metadata": {},
     "output_type": "execute_result"
    }
   ],
   "source": [
    "df.isnull().sum()\n",
    "#We can see that there are no missing values in the dataset"
   ]
  },
  {
   "cell_type": "code",
   "execution_count": 14,
   "id": "b1cde734-b166-478f-943e-3413163679e5",
   "metadata": {},
   "outputs": [
    {
     "name": "stdout",
     "output_type": "stream",
     "text": [
      "buying\n",
      "high     432\n",
      "med      432\n",
      "low      432\n",
      "vhigh    431\n",
      "Name: count, dtype: int64\n",
      "maint\n",
      "high     432\n",
      "med      432\n",
      "low      432\n",
      "vhigh    431\n",
      "Name: count, dtype: int64\n",
      "doors\n",
      "3        432\n",
      "4        432\n",
      "5more    432\n",
      "2        431\n",
      "Name: count, dtype: int64\n",
      "persons\n",
      "4       576\n",
      "more    576\n",
      "2       575\n",
      "Name: count, dtype: int64\n",
      "lug_boot\n",
      "med      576\n",
      "big      576\n",
      "small    575\n",
      "Name: count, dtype: int64\n",
      "safety\n",
      "med     576\n",
      "high    576\n",
      "low     575\n",
      "Name: count, dtype: int64\n",
      "class\n",
      "unacc    1209\n",
      "acc       384\n",
      "good       69\n",
      "vgood      65\n",
      "Name: count, dtype: int64\n"
     ]
    }
   ],
   "source": [
    "col_names = ['buying', 'maint', 'doors', 'persons', 'lug_boot', 'safety', 'class']\n",
    "for col in col_names:\n",
    "  print(df[col].value_counts())"
   ]
  },
  {
   "cell_type": "code",
   "execution_count": 15,
   "id": "07bbf2a3-303a-4b8a-8969-dc541768e60a",
   "metadata": {},
   "outputs": [
    {
     "data": {
      "text/plain": [
       "class\n",
       "unacc    1209\n",
       "acc       384\n",
       "good       69\n",
       "vgood      65\n",
       "Name: count, dtype: int64"
      ]
     },
     "execution_count": 15,
     "metadata": {},
     "output_type": "execute_result"
    }
   ],
   "source": [
    "df['class'].value_counts()\n",
    "#The class target variable is ordinal in nature."
   ]
  },
  {
   "cell_type": "code",
   "execution_count": 16,
   "id": "04d30ce0-d983-4ea3-873e-b6e9c0b937b9",
   "metadata": {},
   "outputs": [],
   "source": [
    "X = df.drop(['class'], axis=1)\n",
    "y = df['class']"
   ]
  },
  {
   "cell_type": "markdown",
   "id": "74e17e39-4116-41c6-aa99-4ded1751ad84",
   "metadata": {},
   "source": [
    "# DATA SPLITTING"
   ]
  },
  {
   "cell_type": "code",
   "execution_count": 17,
   "id": "5561a472-ebbc-4bdf-a0c4-a4ad499256a5",
   "metadata": {},
   "outputs": [],
   "source": [
    "# Split the dataset into training and testing sets\n",
    "X_train,X_test,y_train,y_test=train_test_split(X,y,test_size=0.33, random_state=42)"
   ]
  },
  {
   "cell_type": "code",
   "execution_count": 18,
   "id": "fa0f1154-0099-4415-a75b-8676edef507c",
   "metadata": {},
   "outputs": [
    {
     "data": {
      "text/plain": [
       "((1157, 6), (570, 6))"
      ]
     },
     "execution_count": 18,
     "metadata": {},
     "output_type": "execute_result"
    }
   ],
   "source": [
    "# checking the shape of train and test\n",
    "X_train.shape,X_test.shape"
   ]
  },
  {
   "cell_type": "code",
   "execution_count": 19,
   "id": "34cebeec-7405-4450-bea8-efd8d10057fb",
   "metadata": {},
   "outputs": [
    {
     "data": {
      "text/plain": [
       "buying      object\n",
       "maint       object\n",
       "doors       object\n",
       "persons     object\n",
       "lug_boot    object\n",
       "safety      object\n",
       "dtype: object"
      ]
     },
     "execution_count": 19,
     "metadata": {},
     "output_type": "execute_result"
    }
   ],
   "source": [
    "X_train.dtypes"
   ]
  },
  {
   "cell_type": "code",
   "execution_count": 20,
   "id": "8f17704b-cf51-4ebe-be66-f781c075d372",
   "metadata": {},
   "outputs": [
    {
     "data": {
      "text/html": [
       "<div>\n",
       "<style scoped>\n",
       "    .dataframe tbody tr th:only-of-type {\n",
       "        vertical-align: middle;\n",
       "    }\n",
       "\n",
       "    .dataframe tbody tr th {\n",
       "        vertical-align: top;\n",
       "    }\n",
       "\n",
       "    .dataframe thead th {\n",
       "        text-align: right;\n",
       "    }\n",
       "</style>\n",
       "<table border=\"1\" class=\"dataframe\">\n",
       "  <thead>\n",
       "    <tr style=\"text-align: right;\">\n",
       "      <th></th>\n",
       "      <th>buying</th>\n",
       "      <th>maint</th>\n",
       "      <th>doors</th>\n",
       "      <th>persons</th>\n",
       "      <th>lug_boot</th>\n",
       "      <th>safety</th>\n",
       "    </tr>\n",
       "  </thead>\n",
       "  <tbody>\n",
       "    <tr>\n",
       "      <th>83</th>\n",
       "      <td>vhigh</td>\n",
       "      <td>vhigh</td>\n",
       "      <td>5more</td>\n",
       "      <td>2</td>\n",
       "      <td>med</td>\n",
       "      <td>low</td>\n",
       "    </tr>\n",
       "    <tr>\n",
       "      <th>48</th>\n",
       "      <td>vhigh</td>\n",
       "      <td>vhigh</td>\n",
       "      <td>3</td>\n",
       "      <td>more</td>\n",
       "      <td>med</td>\n",
       "      <td>med</td>\n",
       "    </tr>\n",
       "    <tr>\n",
       "      <th>468</th>\n",
       "      <td>high</td>\n",
       "      <td>vhigh</td>\n",
       "      <td>3</td>\n",
       "      <td>4</td>\n",
       "      <td>small</td>\n",
       "      <td>med</td>\n",
       "    </tr>\n",
       "    <tr>\n",
       "      <th>155</th>\n",
       "      <td>vhigh</td>\n",
       "      <td>high</td>\n",
       "      <td>3</td>\n",
       "      <td>more</td>\n",
       "      <td>med</td>\n",
       "      <td>low</td>\n",
       "    </tr>\n",
       "    <tr>\n",
       "      <th>1043</th>\n",
       "      <td>med</td>\n",
       "      <td>high</td>\n",
       "      <td>4</td>\n",
       "      <td>more</td>\n",
       "      <td>small</td>\n",
       "      <td>low</td>\n",
       "    </tr>\n",
       "  </tbody>\n",
       "</table>\n",
       "</div>"
      ],
      "text/plain": [
       "     buying  maint  doors persons lug_boot safety\n",
       "83    vhigh  vhigh  5more       2      med    low\n",
       "48    vhigh  vhigh      3    more      med    med\n",
       "468    high  vhigh      3       4    small    med\n",
       "155   vhigh   high      3    more      med    low\n",
       "1043    med   high      4    more    small    low"
      ]
     },
     "execution_count": 20,
     "metadata": {},
     "output_type": "execute_result"
    }
   ],
   "source": [
    "X_train.head()"
   ]
  },
  {
   "cell_type": "markdown",
   "id": "ef3df0aa-374a-4a2a-b642-d647ff9e032e",
   "metadata": {},
   "source": [
    "# DATA ENCODING"
   ]
  },
  {
   "cell_type": "code",
   "execution_count": 21,
   "id": "515740f4-d8bb-4954-8632-5a1785a7e9c7",
   "metadata": {},
   "outputs": [],
   "source": [
    "# encode categorical variables with ordinal encoding\n",
    "encoder = ce.OrdinalEncoder(cols=['buying', 'maint', 'doors', 'persons', 'lug_boot', 'safety'])\n",
    "X_train = encoder.fit_transform(X_train)\n",
    "X_test = encoder.transform(X_test)"
   ]
  },
  {
   "cell_type": "code",
   "execution_count": 22,
   "id": "3a77d6b3-f2a1-44ce-87b4-62a3c9602978",
   "metadata": {},
   "outputs": [
    {
     "data": {
      "text/html": [
       "<div>\n",
       "<style scoped>\n",
       "    .dataframe tbody tr th:only-of-type {\n",
       "        vertical-align: middle;\n",
       "    }\n",
       "\n",
       "    .dataframe tbody tr th {\n",
       "        vertical-align: top;\n",
       "    }\n",
       "\n",
       "    .dataframe thead th {\n",
       "        text-align: right;\n",
       "    }\n",
       "</style>\n",
       "<table border=\"1\" class=\"dataframe\">\n",
       "  <thead>\n",
       "    <tr style=\"text-align: right;\">\n",
       "      <th></th>\n",
       "      <th>buying</th>\n",
       "      <th>maint</th>\n",
       "      <th>doors</th>\n",
       "      <th>persons</th>\n",
       "      <th>lug_boot</th>\n",
       "      <th>safety</th>\n",
       "    </tr>\n",
       "  </thead>\n",
       "  <tbody>\n",
       "    <tr>\n",
       "      <th>83</th>\n",
       "      <td>1</td>\n",
       "      <td>1</td>\n",
       "      <td>1</td>\n",
       "      <td>1</td>\n",
       "      <td>1</td>\n",
       "      <td>1</td>\n",
       "    </tr>\n",
       "    <tr>\n",
       "      <th>48</th>\n",
       "      <td>1</td>\n",
       "      <td>1</td>\n",
       "      <td>2</td>\n",
       "      <td>2</td>\n",
       "      <td>1</td>\n",
       "      <td>2</td>\n",
       "    </tr>\n",
       "    <tr>\n",
       "      <th>468</th>\n",
       "      <td>2</td>\n",
       "      <td>1</td>\n",
       "      <td>2</td>\n",
       "      <td>3</td>\n",
       "      <td>2</td>\n",
       "      <td>2</td>\n",
       "    </tr>\n",
       "    <tr>\n",
       "      <th>155</th>\n",
       "      <td>1</td>\n",
       "      <td>2</td>\n",
       "      <td>2</td>\n",
       "      <td>2</td>\n",
       "      <td>1</td>\n",
       "      <td>1</td>\n",
       "    </tr>\n",
       "    <tr>\n",
       "      <th>1043</th>\n",
       "      <td>3</td>\n",
       "      <td>2</td>\n",
       "      <td>3</td>\n",
       "      <td>2</td>\n",
       "      <td>2</td>\n",
       "      <td>1</td>\n",
       "    </tr>\n",
       "  </tbody>\n",
       "</table>\n",
       "</div>"
      ],
      "text/plain": [
       "      buying  maint  doors  persons  lug_boot  safety\n",
       "83         1      1      1        1         1       1\n",
       "48         1      1      2        2         1       2\n",
       "468        2      1      2        3         2       2\n",
       "155        1      2      2        2         1       1\n",
       "1043       3      2      3        2         2       1"
      ]
     },
     "execution_count": 22,
     "metadata": {},
     "output_type": "execute_result"
    }
   ],
   "source": [
    "X_train.head()"
   ]
  },
  {
   "cell_type": "code",
   "execution_count": 23,
   "id": "329dc2db-a3ac-4c94-b7a6-9e53e99ba244",
   "metadata": {},
   "outputs": [
    {
     "data": {
      "text/html": [
       "<div>\n",
       "<style scoped>\n",
       "    .dataframe tbody tr th:only-of-type {\n",
       "        vertical-align: middle;\n",
       "    }\n",
       "\n",
       "    .dataframe tbody tr th {\n",
       "        vertical-align: top;\n",
       "    }\n",
       "\n",
       "    .dataframe thead th {\n",
       "        text-align: right;\n",
       "    }\n",
       "</style>\n",
       "<table border=\"1\" class=\"dataframe\">\n",
       "  <thead>\n",
       "    <tr style=\"text-align: right;\">\n",
       "      <th></th>\n",
       "      <th>buying</th>\n",
       "      <th>maint</th>\n",
       "      <th>doors</th>\n",
       "      <th>persons</th>\n",
       "      <th>lug_boot</th>\n",
       "      <th>safety</th>\n",
       "    </tr>\n",
       "  </thead>\n",
       "  <tbody>\n",
       "    <tr>\n",
       "      <th>599</th>\n",
       "      <td>2</td>\n",
       "      <td>2</td>\n",
       "      <td>3</td>\n",
       "      <td>1</td>\n",
       "      <td>3</td>\n",
       "      <td>1</td>\n",
       "    </tr>\n",
       "    <tr>\n",
       "      <th>932</th>\n",
       "      <td>3</td>\n",
       "      <td>1</td>\n",
       "      <td>3</td>\n",
       "      <td>3</td>\n",
       "      <td>3</td>\n",
       "      <td>1</td>\n",
       "    </tr>\n",
       "    <tr>\n",
       "      <th>628</th>\n",
       "      <td>2</td>\n",
       "      <td>2</td>\n",
       "      <td>1</td>\n",
       "      <td>1</td>\n",
       "      <td>3</td>\n",
       "      <td>3</td>\n",
       "    </tr>\n",
       "    <tr>\n",
       "      <th>1497</th>\n",
       "      <td>4</td>\n",
       "      <td>2</td>\n",
       "      <td>1</td>\n",
       "      <td>3</td>\n",
       "      <td>1</td>\n",
       "      <td>2</td>\n",
       "    </tr>\n",
       "    <tr>\n",
       "      <th>1262</th>\n",
       "      <td>3</td>\n",
       "      <td>4</td>\n",
       "      <td>3</td>\n",
       "      <td>2</td>\n",
       "      <td>1</td>\n",
       "      <td>1</td>\n",
       "    </tr>\n",
       "  </tbody>\n",
       "</table>\n",
       "</div>"
      ],
      "text/plain": [
       "      buying  maint  doors  persons  lug_boot  safety\n",
       "599        2      2      3        1         3       1\n",
       "932        3      1      3        3         3       1\n",
       "628        2      2      1        1         3       3\n",
       "1497       4      2      1        3         1       2\n",
       "1262       3      4      3        2         1       1"
      ]
     },
     "execution_count": 23,
     "metadata": {},
     "output_type": "execute_result"
    }
   ],
   "source": [
    "X_test.head()"
   ]
  },
  {
   "cell_type": "markdown",
   "id": "3ea5e891-7861-4381-93fa-a6d31b65875c",
   "metadata": {},
   "source": [
    "# CREATING MODEL"
   ]
  },
  {
   "cell_type": "code",
   "execution_count": 24,
   "id": "06cbad72-b6b2-4060-b842-8af974301a26",
   "metadata": {},
   "outputs": [],
   "source": [
    "# Create a Decision Tree Classifier with the \"entropy\" criterion\n",
    "clf = DecisionTreeClassifier(criterion=\"entropy\")"
   ]
  },
  {
   "cell_type": "markdown",
   "id": "4a6c685b-6983-47ba-bbfb-25ed6b9d979e",
   "metadata": {},
   "source": [
    "# TRAINING MODEL"
   ]
  },
  {
   "cell_type": "code",
   "execution_count": 25,
   "id": "388966ea-9fae-4d44-8f2d-c4a351f2d5f1",
   "metadata": {},
   "outputs": [
    {
     "data": {
      "text/html": [
       "<style>#sk-container-id-1 {color: black;background-color: white;}#sk-container-id-1 pre{padding: 0;}#sk-container-id-1 div.sk-toggleable {background-color: white;}#sk-container-id-1 label.sk-toggleable__label {cursor: pointer;display: block;width: 100%;margin-bottom: 0;padding: 0.3em;box-sizing: border-box;text-align: center;}#sk-container-id-1 label.sk-toggleable__label-arrow:before {content: \"▸\";float: left;margin-right: 0.25em;color: #696969;}#sk-container-id-1 label.sk-toggleable__label-arrow:hover:before {color: black;}#sk-container-id-1 div.sk-estimator:hover label.sk-toggleable__label-arrow:before {color: black;}#sk-container-id-1 div.sk-toggleable__content {max-height: 0;max-width: 0;overflow: hidden;text-align: left;background-color: #f0f8ff;}#sk-container-id-1 div.sk-toggleable__content pre {margin: 0.2em;color: black;border-radius: 0.25em;background-color: #f0f8ff;}#sk-container-id-1 input.sk-toggleable__control:checked~div.sk-toggleable__content {max-height: 200px;max-width: 100%;overflow: auto;}#sk-container-id-1 input.sk-toggleable__control:checked~label.sk-toggleable__label-arrow:before {content: \"▾\";}#sk-container-id-1 div.sk-estimator input.sk-toggleable__control:checked~label.sk-toggleable__label {background-color: #d4ebff;}#sk-container-id-1 div.sk-label input.sk-toggleable__control:checked~label.sk-toggleable__label {background-color: #d4ebff;}#sk-container-id-1 input.sk-hidden--visually {border: 0;clip: rect(1px 1px 1px 1px);clip: rect(1px, 1px, 1px, 1px);height: 1px;margin: -1px;overflow: hidden;padding: 0;position: absolute;width: 1px;}#sk-container-id-1 div.sk-estimator {font-family: monospace;background-color: #f0f8ff;border: 1px dotted black;border-radius: 0.25em;box-sizing: border-box;margin-bottom: 0.5em;}#sk-container-id-1 div.sk-estimator:hover {background-color: #d4ebff;}#sk-container-id-1 div.sk-parallel-item::after {content: \"\";width: 100%;border-bottom: 1px solid gray;flex-grow: 1;}#sk-container-id-1 div.sk-label:hover label.sk-toggleable__label {background-color: #d4ebff;}#sk-container-id-1 div.sk-serial::before {content: \"\";position: absolute;border-left: 1px solid gray;box-sizing: border-box;top: 0;bottom: 0;left: 50%;z-index: 0;}#sk-container-id-1 div.sk-serial {display: flex;flex-direction: column;align-items: center;background-color: white;padding-right: 0.2em;padding-left: 0.2em;position: relative;}#sk-container-id-1 div.sk-item {position: relative;z-index: 1;}#sk-container-id-1 div.sk-parallel {display: flex;align-items: stretch;justify-content: center;background-color: white;position: relative;}#sk-container-id-1 div.sk-item::before, #sk-container-id-1 div.sk-parallel-item::before {content: \"\";position: absolute;border-left: 1px solid gray;box-sizing: border-box;top: 0;bottom: 0;left: 50%;z-index: -1;}#sk-container-id-1 div.sk-parallel-item {display: flex;flex-direction: column;z-index: 1;position: relative;background-color: white;}#sk-container-id-1 div.sk-parallel-item:first-child::after {align-self: flex-end;width: 50%;}#sk-container-id-1 div.sk-parallel-item:last-child::after {align-self: flex-start;width: 50%;}#sk-container-id-1 div.sk-parallel-item:only-child::after {width: 0;}#sk-container-id-1 div.sk-dashed-wrapped {border: 1px dashed gray;margin: 0 0.4em 0.5em 0.4em;box-sizing: border-box;padding-bottom: 0.4em;background-color: white;}#sk-container-id-1 div.sk-label label {font-family: monospace;font-weight: bold;display: inline-block;line-height: 1.2em;}#sk-container-id-1 div.sk-label-container {text-align: center;}#sk-container-id-1 div.sk-container {/* jupyter's `normalize.less` sets `[hidden] { display: none; }` but bootstrap.min.css set `[hidden] { display: none !important; }` so we also need the `!important` here to be able to override the default hidden behavior on the sphinx rendered scikit-learn.org. See: https://github.com/scikit-learn/scikit-learn/issues/21755 */display: inline-block !important;position: relative;}#sk-container-id-1 div.sk-text-repr-fallback {display: none;}</style><div id=\"sk-container-id-1\" class=\"sk-top-container\"><div class=\"sk-text-repr-fallback\"><pre>DecisionTreeClassifier(criterion=&#x27;entropy&#x27;)</pre><b>In a Jupyter environment, please rerun this cell to show the HTML representation or trust the notebook. <br />On GitHub, the HTML representation is unable to render, please try loading this page with nbviewer.org.</b></div><div class=\"sk-container\" hidden><div class=\"sk-item\"><div class=\"sk-estimator sk-toggleable\"><input class=\"sk-toggleable__control sk-hidden--visually\" id=\"sk-estimator-id-1\" type=\"checkbox\" checked><label for=\"sk-estimator-id-1\" class=\"sk-toggleable__label sk-toggleable__label-arrow\">DecisionTreeClassifier</label><div class=\"sk-toggleable__content\"><pre>DecisionTreeClassifier(criterion=&#x27;entropy&#x27;)</pre></div></div></div></div></div>"
      ],
      "text/plain": [
       "DecisionTreeClassifier(criterion='entropy')"
      ]
     },
     "execution_count": 25,
     "metadata": {},
     "output_type": "execute_result"
    }
   ],
   "source": [
    "# Train the classifier on the training set\n",
    "clf.fit(X_train, y_train)"
   ]
  },
  {
   "cell_type": "markdown",
   "id": "5d77c412-4cf4-49d9-ab92-d02320dc8cf9",
   "metadata": {},
   "source": [
    "# PREDICT ON DATA"
   ]
  },
  {
   "cell_type": "code",
   "execution_count": 26,
   "id": "458bf0c6-f059-4669-ad57-3d62a9e8491e",
   "metadata": {},
   "outputs": [],
   "source": [
    "# Make predictions on the testing set\n",
    "y_pred = clf.predict(X_test)"
   ]
  },
  {
   "cell_type": "code",
   "execution_count": 27,
   "id": "efe8264a-af20-4d82-ac0b-a0f0c1414d9f",
   "metadata": {},
   "outputs": [
    {
     "name": "stdout",
     "output_type": "stream",
     "text": [
      "Training set score: 1.0000\n",
      "Test set score: 0.9702\n"
     ]
    }
   ],
   "source": [
    "# print the scores on training and test set\n",
    "print('Training set score: {:.4f}'.format(clf.score(X_train, y_train)))\n",
    "print('Test set score: {:.4f}'.format(clf.score(X_test, y_test)))"
   ]
  },
  {
   "cell_type": "markdown",
   "id": "8dff278c-aa2a-4bdc-bccd-4a022621a14c",
   "metadata": {},
   "source": [
    "# PLOT"
   ]
  },
  {
   "cell_type": "code",
   "execution_count": 28,
   "id": "8ab741fc-4e86-41bb-b73d-2daee1697709",
   "metadata": {},
   "outputs": [
    {
     "data": {
      "text/plain": [
       "[Text(0.3638698630136986, 0.9615384615384616, 'x[5] <= 1.5\\nentropy = 1.206\\nsamples = 1157\\nvalue = [257, 51, 810, 39]'),\n",
       " Text(0.3501712328767123, 0.8846153846153846, 'entropy = 0.0\\nsamples = 391\\nvalue = [0, 0, 391, 0]'),\n",
       " Text(0.3775684931506849, 0.8846153846153846, 'x[3] <= 1.5\\nentropy = 1.484\\nsamples = 766\\nvalue = [257, 51, 419, 39]'),\n",
       " Text(0.3638698630136986, 0.8076923076923077, 'entropy = 0.0\\nsamples = 242\\nvalue = [0, 0, 242, 0]'),\n",
       " Text(0.3912671232876712, 0.8076923076923077, 'x[0] <= 2.5\\nentropy = 1.639\\nsamples = 524\\nvalue = [257, 51, 177, 39]'),\n",
       " Text(0.136986301369863, 0.7307692307692307, 'x[1] <= 1.5\\nentropy = 0.997\\nsamples = 266\\nvalue = [124, 0, 142, 0]'),\n",
       " Text(0.1232876712328767, 0.6538461538461539, 'entropy = 0.0\\nsamples = 66\\nvalue = [0, 0, 66, 0]'),\n",
       " Text(0.1506849315068493, 0.6538461538461539, 'x[1] <= 2.5\\nentropy = 0.958\\nsamples = 200\\nvalue = [124, 0, 76, 0]'),\n",
       " Text(0.0684931506849315, 0.5769230769230769, 'x[0] <= 1.5\\nentropy = 0.918\\nsamples = 63\\nvalue = [21, 0, 42, 0]'),\n",
       " Text(0.0547945205479452, 0.5, 'entropy = 0.0\\nsamples = 34\\nvalue = [0, 0, 34, 0]'),\n",
       " Text(0.0821917808219178, 0.5, 'x[5] <= 2.5\\nentropy = 0.85\\nsamples = 29\\nvalue = [21, 0, 8, 0]'),\n",
       " Text(0.0547945205479452, 0.4230769230769231, 'x[4] <= 2.5\\nentropy = 1.0\\nsamples = 14\\nvalue = [7, 0, 7, 0]'),\n",
       " Text(0.0410958904109589, 0.34615384615384615, 'x[4] <= 1.5\\nentropy = 0.946\\nsamples = 11\\nvalue = [4, 0, 7, 0]'),\n",
       " Text(0.0273972602739726, 0.2692307692307692, 'x[3] <= 2.5\\nentropy = 0.722\\nsamples = 5\\nvalue = [4, 0, 1, 0]'),\n",
       " Text(0.0136986301369863, 0.19230769230769232, 'entropy = 0.0\\nsamples = 2\\nvalue = [2, 0, 0, 0]'),\n",
       " Text(0.0410958904109589, 0.19230769230769232, 'x[2] <= 1.5\\nentropy = 0.918\\nsamples = 3\\nvalue = [2, 0, 1, 0]'),\n",
       " Text(0.0273972602739726, 0.11538461538461539, 'entropy = 0.0\\nsamples = 1\\nvalue = [1, 0, 0, 0]'),\n",
       " Text(0.0547945205479452, 0.11538461538461539, 'x[2] <= 2.5\\nentropy = 1.0\\nsamples = 2\\nvalue = [1, 0, 1, 0]'),\n",
       " Text(0.0410958904109589, 0.038461538461538464, 'entropy = 0.0\\nsamples = 1\\nvalue = [0, 0, 1, 0]'),\n",
       " Text(0.0684931506849315, 0.038461538461538464, 'entropy = 0.0\\nsamples = 1\\nvalue = [1, 0, 0, 0]'),\n",
       " Text(0.0547945205479452, 0.2692307692307692, 'entropy = 0.0\\nsamples = 6\\nvalue = [0, 0, 6, 0]'),\n",
       " Text(0.0684931506849315, 0.34615384615384615, 'entropy = 0.0\\nsamples = 3\\nvalue = [3, 0, 0, 0]'),\n",
       " Text(0.1095890410958904, 0.4230769230769231, 'x[2] <= 3.5\\nentropy = 0.353\\nsamples = 15\\nvalue = [14, 0, 1, 0]'),\n",
       " Text(0.0958904109589041, 0.34615384615384615, 'entropy = 0.0\\nsamples = 9\\nvalue = [9, 0, 0, 0]'),\n",
       " Text(0.1232876712328767, 0.34615384615384615, 'x[3] <= 2.5\\nentropy = 0.65\\nsamples = 6\\nvalue = [5, 0, 1, 0]'),\n",
       " Text(0.1095890410958904, 0.2692307692307692, 'x[4] <= 1.5\\nentropy = 0.918\\nsamples = 3\\nvalue = [2, 0, 1, 0]'),\n",
       " Text(0.0958904109589041, 0.19230769230769232, 'entropy = 0.0\\nsamples = 1\\nvalue = [1, 0, 0, 0]'),\n",
       " Text(0.1232876712328767, 0.19230769230769232, 'x[4] <= 2.5\\nentropy = 1.0\\nsamples = 2\\nvalue = [1, 0, 1, 0]'),\n",
       " Text(0.1095890410958904, 0.11538461538461539, 'entropy = 0.0\\nsamples = 1\\nvalue = [0, 0, 1, 0]'),\n",
       " Text(0.136986301369863, 0.11538461538461539, 'entropy = 0.0\\nsamples = 1\\nvalue = [1, 0, 0, 0]'),\n",
       " Text(0.136986301369863, 0.2692307692307692, 'entropy = 0.0\\nsamples = 3\\nvalue = [3, 0, 0, 0]'),\n",
       " Text(0.2328767123287671, 0.5769230769230769, 'x[4] <= 2.5\\nentropy = 0.808\\nsamples = 137\\nvalue = [103, 0, 34, 0]'),\n",
       " Text(0.2191780821917808, 0.5, 'x[5] <= 2.5\\nentropy = 0.95\\nsamples = 92\\nvalue = [58, 0, 34, 0]'),\n",
       " Text(0.1917808219178082, 0.4230769230769231, 'x[4] <= 1.5\\nentropy = 0.944\\nsamples = 47\\nvalue = [17, 0, 30, 0]'),\n",
       " Text(0.1780821917808219, 0.34615384615384615, 'x[2] <= 3.5\\nentropy = 0.904\\nsamples = 25\\nvalue = [17, 0, 8, 0]'),\n",
       " Text(0.1643835616438356, 0.2692307692307692, 'x[3] <= 2.5\\nentropy = 0.61\\nsamples = 20\\nvalue = [17, 0, 3, 0]'),\n",
       " Text(0.1506849315068493, 0.19230769230769232, 'entropy = 0.0\\nsamples = 11\\nvalue = [11, 0, 0, 0]'),\n",
       " Text(0.1780821917808219, 0.19230769230769232, 'x[2] <= 2.5\\nentropy = 0.918\\nsamples = 9\\nvalue = [6, 0, 3, 0]'),\n",
       " Text(0.1643835616438356, 0.11538461538461539, 'x[2] <= 1.5\\nentropy = 0.971\\nsamples = 5\\nvalue = [2, 0, 3, 0]'),\n",
       " Text(0.1506849315068493, 0.038461538461538464, 'entropy = 0.0\\nsamples = 2\\nvalue = [2, 0, 0, 0]'),\n",
       " Text(0.1780821917808219, 0.038461538461538464, 'entropy = 0.0\\nsamples = 3\\nvalue = [0, 0, 3, 0]'),\n",
       " Text(0.1917808219178082, 0.11538461538461539, 'entropy = 0.0\\nsamples = 4\\nvalue = [4, 0, 0, 0]'),\n",
       " Text(0.1917808219178082, 0.2692307692307692, 'entropy = 0.0\\nsamples = 5\\nvalue = [0, 0, 5, 0]'),\n",
       " Text(0.2054794520547945, 0.34615384615384615, 'entropy = 0.0\\nsamples = 22\\nvalue = [0, 0, 22, 0]'),\n",
       " Text(0.2465753424657534, 0.4230769230769231, 'x[2] <= 3.5\\nentropy = 0.433\\nsamples = 45\\nvalue = [41, 0, 4, 0]'),\n",
       " Text(0.2328767123287671, 0.34615384615384615, 'entropy = 0.0\\nsamples = 32\\nvalue = [32, 0, 0, 0]'),\n",
       " Text(0.2602739726027397, 0.34615384615384615, 'x[3] <= 2.5\\nentropy = 0.89\\nsamples = 13\\nvalue = [9, 0, 4, 0]'),\n",
       " Text(0.2465753424657534, 0.2692307692307692, 'x[4] <= 1.5\\nentropy = 0.918\\nsamples = 6\\nvalue = [2, 0, 4, 0]'),\n",
       " Text(0.2328767123287671, 0.19230769230769232, 'entropy = 0.0\\nsamples = 2\\nvalue = [2, 0, 0, 0]'),\n",
       " Text(0.2602739726027397, 0.19230769230769232, 'entropy = 0.0\\nsamples = 4\\nvalue = [0, 0, 4, 0]'),\n",
       " Text(0.273972602739726, 0.2692307692307692, 'entropy = 0.0\\nsamples = 7\\nvalue = [7, 0, 0, 0]'),\n",
       " Text(0.2465753424657534, 0.5, 'entropy = 0.0\\nsamples = 45\\nvalue = [45, 0, 0, 0]'),\n",
       " Text(0.6455479452054794, 0.7307692307692307, 'x[1] <= 2.5\\nentropy = 1.758\\nsamples = 258\\nvalue = [133, 51, 35, 39]'),\n",
       " Text(0.4726027397260274, 0.6538461538461539, 'x[5] <= 2.5\\nentropy = 1.058\\nsamples = 125\\nvalue = [90, 0, 28, 7]'),\n",
       " Text(0.3904109589041096, 0.5769230769230769, 'x[4] <= 2.5\\nentropy = 0.98\\nsamples = 60\\nvalue = [35, 0, 25, 0]'),\n",
       " Text(0.3767123287671233, 0.5, 'x[4] <= 1.5\\nentropy = 0.987\\nsamples = 44\\nvalue = [19, 0, 25, 0]'),\n",
       " Text(0.3424657534246575, 0.4230769230769231, 'x[2] <= 3.5\\nentropy = 0.887\\nsamples = 23\\nvalue = [16, 0, 7, 0]'),\n",
       " Text(0.3150684931506849, 0.34615384615384615, 'x[3] <= 2.5\\nentropy = 0.523\\nsamples = 17\\nvalue = [15, 0, 2, 0]'),\n",
       " Text(0.3013698630136986, 0.2692307692307692, 'entropy = 0.0\\nsamples = 9\\nvalue = [9, 0, 0, 0]'),\n",
       " Text(0.3287671232876712, 0.2692307692307692, 'x[0] <= 3.5\\nentropy = 0.811\\nsamples = 8\\nvalue = [6, 0, 2, 0]'),\n",
       " Text(0.3150684931506849, 0.19230769230769232, 'x[2] <= 1.5\\nentropy = 0.971\\nsamples = 5\\nvalue = [3, 0, 2, 0]'),\n",
       " Text(0.3013698630136986, 0.11538461538461539, 'entropy = 0.0\\nsamples = 2\\nvalue = [2, 0, 0, 0]'),\n",
       " Text(0.3287671232876712, 0.11538461538461539, 'x[2] <= 2.5\\nentropy = 0.918\\nsamples = 3\\nvalue = [1, 0, 2, 0]'),\n",
       " Text(0.3150684931506849, 0.038461538461538464, 'entropy = 0.0\\nsamples = 2\\nvalue = [0, 0, 2, 0]'),\n",
       " Text(0.3424657534246575, 0.038461538461538464, 'entropy = 0.0\\nsamples = 1\\nvalue = [1, 0, 0, 0]'),\n",
       " Text(0.3424657534246575, 0.19230769230769232, 'entropy = 0.0\\nsamples = 3\\nvalue = [3, 0, 0, 0]'),\n",
       " Text(0.3698630136986301, 0.34615384615384615, 'x[1] <= 1.5\\nentropy = 0.65\\nsamples = 6\\nvalue = [1, 0, 5, 0]'),\n",
       " Text(0.3561643835616438, 0.2692307692307692, 'entropy = 0.0\\nsamples = 4\\nvalue = [0, 0, 4, 0]'),\n",
       " Text(0.3835616438356164, 0.2692307692307692, 'x[0] <= 3.5\\nentropy = 1.0\\nsamples = 2\\nvalue = [1, 0, 1, 0]'),\n",
       " Text(0.3698630136986301, 0.19230769230769232, 'entropy = 0.0\\nsamples = 1\\nvalue = [0, 0, 1, 0]'),\n",
       " Text(0.3972602739726027, 0.19230769230769232, 'entropy = 0.0\\nsamples = 1\\nvalue = [1, 0, 0, 0]'),\n",
       " Text(0.410958904109589, 0.4230769230769231, 'x[0] <= 3.5\\nentropy = 0.592\\nsamples = 21\\nvalue = [3, 0, 18, 0]'),\n",
       " Text(0.3972602739726027, 0.34615384615384615, 'entropy = 0.0\\nsamples = 13\\nvalue = [0, 0, 13, 0]'),\n",
       " Text(0.4246575342465753, 0.34615384615384615, 'x[1] <= 1.5\\nentropy = 0.954\\nsamples = 8\\nvalue = [3, 0, 5, 0]'),\n",
       " Text(0.410958904109589, 0.2692307692307692, 'entropy = 0.0\\nsamples = 4\\nvalue = [0, 0, 4, 0]'),\n",
       " Text(0.4383561643835616, 0.2692307692307692, 'x[3] <= 2.5\\nentropy = 0.811\\nsamples = 4\\nvalue = [3, 0, 1, 0]'),\n",
       " Text(0.4246575342465753, 0.19230769230769232, 'entropy = 0.0\\nsamples = 1\\nvalue = [0, 0, 1, 0]'),\n",
       " Text(0.4520547945205479, 0.19230769230769232, 'entropy = 0.0\\nsamples = 3\\nvalue = [3, 0, 0, 0]'),\n",
       " Text(0.4041095890410959, 0.5, 'entropy = 0.0\\nsamples = 16\\nvalue = [16, 0, 0, 0]'),\n",
       " Text(0.5547945205479452, 0.5769230769230769, 'x[4] <= 2.5\\nentropy = 0.755\\nsamples = 65\\nvalue = [55, 0, 3, 7]'),\n",
       " Text(0.5205479452054794, 0.5, 'x[2] <= 3.5\\nentropy = 0.497\\nsamples = 46\\nvalue = [42, 0, 3, 1]'),\n",
       " Text(0.4931506849315068, 0.4230769230769231, 'x[2] <= 1.5\\nentropy = 0.196\\nsamples = 33\\nvalue = [32, 0, 0, 1]'),\n",
       " Text(0.4794520547945205, 0.34615384615384615, 'x[0] <= 3.5\\nentropy = 0.414\\nsamples = 12\\nvalue = [11, 0, 0, 1]'),\n",
       " Text(0.4657534246575342, 0.2692307692307692, 'entropy = 0.0\\nsamples = 6\\nvalue = [6, 0, 0, 0]'),\n",
       " Text(0.4931506849315068, 0.2692307692307692, 'x[1] <= 1.5\\nentropy = 0.65\\nsamples = 6\\nvalue = [5, 0, 0, 1]'),\n",
       " Text(0.4794520547945205, 0.19230769230769232, 'entropy = 0.0\\nsamples = 3\\nvalue = [3, 0, 0, 0]'),\n",
       " Text(0.5068493150684932, 0.19230769230769232, 'x[4] <= 1.5\\nentropy = 0.918\\nsamples = 3\\nvalue = [2, 0, 0, 1]'),\n",
       " Text(0.4931506849315068, 0.11538461538461539, 'entropy = 0.0\\nsamples = 1\\nvalue = [0, 0, 0, 1]'),\n",
       " Text(0.5205479452054794, 0.11538461538461539, 'entropy = 0.0\\nsamples = 2\\nvalue = [2, 0, 0, 0]'),\n",
       " Text(0.5068493150684932, 0.34615384615384615, 'entropy = 0.0\\nsamples = 21\\nvalue = [21, 0, 0, 0]'),\n",
       " Text(0.547945205479452, 0.4230769230769231, 'x[4] <= 1.5\\nentropy = 0.779\\nsamples = 13\\nvalue = [10, 0, 3, 0]'),\n",
       " Text(0.5342465753424658, 0.34615384615384615, 'entropy = 0.0\\nsamples = 7\\nvalue = [7, 0, 0, 0]'),\n",
       " Text(0.5616438356164384, 0.34615384615384615, 'x[3] <= 2.5\\nentropy = 1.0\\nsamples = 6\\nvalue = [3, 0, 3, 0]'),\n",
       " Text(0.547945205479452, 0.2692307692307692, 'entropy = 0.0\\nsamples = 3\\nvalue = [0, 0, 3, 0]'),\n",
       " Text(0.5753424657534246, 0.2692307692307692, 'entropy = 0.0\\nsamples = 3\\nvalue = [3, 0, 0, 0]'),\n",
       " Text(0.589041095890411, 0.5, 'x[0] <= 3.5\\nentropy = 0.9\\nsamples = 19\\nvalue = [13, 0, 0, 6]'),\n",
       " Text(0.5753424657534246, 0.4230769230769231, 'entropy = 0.0\\nsamples = 10\\nvalue = [10, 0, 0, 0]'),\n",
       " Text(0.6027397260273972, 0.4230769230769231, 'x[1] <= 1.5\\nentropy = 0.918\\nsamples = 9\\nvalue = [3, 0, 0, 6]'),\n",
       " Text(0.589041095890411, 0.34615384615384615, 'entropy = 0.0\\nsamples = 3\\nvalue = [3, 0, 0, 0]'),\n",
       " Text(0.6164383561643836, 0.34615384615384615, 'entropy = 0.0\\nsamples = 6\\nvalue = [0, 0, 0, 6]'),\n",
       " Text(0.8184931506849316, 0.6538461538461539, 'x[5] <= 2.5\\nentropy = 1.775\\nsamples = 133\\nvalue = [43, 51, 7, 32]'),\n",
       " Text(0.7328767123287672, 0.5769230769230769, 'x[4] <= 2.5\\nentropy = 1.201\\nsamples = 73\\nvalue = [38, 32, 3, 0]'),\n",
       " Text(0.684931506849315, 0.5, 'x[4] <= 1.5\\nentropy = 1.106\\nsamples = 44\\nvalue = [31, 10, 3, 0]'),\n",
       " Text(0.6575342465753424, 0.4230769230769231, 'x[2] <= 3.5\\nentropy = 1.0\\nsamples = 20\\nvalue = [10, 10, 0, 0]'),\n",
       " Text(0.6438356164383562, 0.34615384615384615, 'x[0] <= 3.5\\nentropy = 0.954\\nsamples = 16\\nvalue = [6, 10, 0, 0]'),\n",
       " Text(0.6301369863013698, 0.2692307692307692, 'x[1] <= 3.5\\nentropy = 0.971\\nsamples = 10\\nvalue = [6, 4, 0, 0]'),\n",
       " Text(0.6164383561643836, 0.19230769230769232, 'entropy = 0.0\\nsamples = 5\\nvalue = [5, 0, 0, 0]'),\n",
       " Text(0.6438356164383562, 0.19230769230769232, 'x[3] <= 2.5\\nentropy = 0.722\\nsamples = 5\\nvalue = [1, 4, 0, 0]'),\n",
       " Text(0.6301369863013698, 0.11538461538461539, 'entropy = 0.0\\nsamples = 3\\nvalue = [0, 3, 0, 0]'),\n",
       " Text(0.6575342465753424, 0.11538461538461539, 'x[2] <= 2.5\\nentropy = 1.0\\nsamples = 2\\nvalue = [1, 1, 0, 0]'),\n",
       " Text(0.6438356164383562, 0.038461538461538464, 'entropy = 0.0\\nsamples = 1\\nvalue = [1, 0, 0, 0]'),\n",
       " Text(0.6712328767123288, 0.038461538461538464, 'entropy = 0.0\\nsamples = 1\\nvalue = [0, 1, 0, 0]'),\n",
       " Text(0.6575342465753424, 0.2692307692307692, 'entropy = 0.0\\nsamples = 6\\nvalue = [0, 6, 0, 0]'),\n",
       " Text(0.6712328767123288, 0.34615384615384615, 'entropy = 0.0\\nsamples = 4\\nvalue = [4, 0, 0, 0]'),\n",
       " Text(0.7123287671232876, 0.4230769230769231, 'x[2] <= 3.5\\nentropy = 0.544\\nsamples = 24\\nvalue = [21, 0, 3, 0]'),\n",
       " Text(0.6986301369863014, 0.34615384615384615, 'entropy = 0.0\\nsamples = 18\\nvalue = [18, 0, 0, 0]'),\n",
       " Text(0.726027397260274, 0.34615384615384615, 'x[3] <= 2.5\\nentropy = 1.0\\nsamples = 6\\nvalue = [3, 0, 3, 0]'),\n",
       " Text(0.7123287671232876, 0.2692307692307692, 'entropy = 0.0\\nsamples = 3\\nvalue = [0, 0, 3, 0]'),\n",
       " Text(0.7397260273972602, 0.2692307692307692, 'entropy = 0.0\\nsamples = 3\\nvalue = [3, 0, 0, 0]'),\n",
       " Text(0.7808219178082192, 0.5, 'x[1] <= 3.5\\nentropy = 0.797\\nsamples = 29\\nvalue = [7, 22, 0, 0]'),\n",
       " Text(0.7671232876712328, 0.4230769230769231, 'x[0] <= 3.5\\nentropy = 1.0\\nsamples = 14\\nvalue = [7, 7, 0, 0]'),\n",
       " Text(0.7534246575342466, 0.34615384615384615, 'entropy = 0.0\\nsamples = 7\\nvalue = [7, 0, 0, 0]'),\n",
       " Text(0.7808219178082192, 0.34615384615384615, 'entropy = 0.0\\nsamples = 7\\nvalue = [0, 7, 0, 0]'),\n",
       " Text(0.7945205479452054, 0.4230769230769231, 'entropy = 0.0\\nsamples = 15\\nvalue = [0, 15, 0, 0]'),\n",
       " Text(0.9041095890410958, 0.5769230769230769, 'x[4] <= 2.5\\nentropy = 1.568\\nsamples = 60\\nvalue = [5, 19, 4, 32]'),\n",
       " Text(0.8904109589041096, 0.5, 'x[4] <= 1.5\\nentropy = 1.73\\nsamples = 43\\nvalue = [5, 19, 4, 15]'),\n",
       " Text(0.8356164383561644, 0.4230769230769231, 'x[2] <= 3.5\\nentropy = 0.913\\nsamples = 19\\nvalue = [1, 3, 0, 15]'),\n",
       " Text(0.8082191780821918, 0.34615384615384615, 'x[3] <= 2.5\\nentropy = 0.523\\nsamples = 17\\nvalue = [0, 2, 0, 15]'),\n",
       " Text(0.7945205479452054, 0.2692307692307692, 'entropy = 0.0\\nsamples = 9\\nvalue = [0, 0, 0, 9]'),\n",
       " Text(0.821917808219178, 0.2692307692307692, 'x[2] <= 2.5\\nentropy = 0.811\\nsamples = 8\\nvalue = [0, 2, 0, 6]'),\n",
       " Text(0.8082191780821918, 0.19230769230769232, 'x[2] <= 1.5\\nentropy = 1.0\\nsamples = 4\\nvalue = [0, 2, 0, 2]'),\n",
       " Text(0.7945205479452054, 0.11538461538461539, 'entropy = 0.0\\nsamples = 2\\nvalue = [0, 0, 0, 2]'),\n",
       " Text(0.821917808219178, 0.11538461538461539, 'entropy = 0.0\\nsamples = 2\\nvalue = [0, 2, 0, 0]'),\n",
       " Text(0.8356164383561644, 0.19230769230769232, 'entropy = 0.0\\nsamples = 4\\nvalue = [0, 0, 0, 4]'),\n",
       " Text(0.863013698630137, 0.34615384615384615, 'x[1] <= 3.5\\nentropy = 1.0\\nsamples = 2\\nvalue = [1, 1, 0, 0]'),\n",
       " Text(0.8493150684931506, 0.2692307692307692, 'entropy = 0.0\\nsamples = 1\\nvalue = [1, 0, 0, 0]'),\n",
       " Text(0.8767123287671232, 0.2692307692307692, 'entropy = 0.0\\nsamples = 1\\nvalue = [0, 1, 0, 0]'),\n",
       " Text(0.9452054794520548, 0.4230769230769231, 'x[2] <= 3.5\\nentropy = 1.252\\nsamples = 24\\nvalue = [4, 16, 4, 0]'),\n",
       " Text(0.9178082191780822, 0.34615384615384615, 'x[0] <= 3.5\\nentropy = 0.787\\nsamples = 17\\nvalue = [4, 13, 0, 0]'),\n",
       " Text(0.9041095890410958, 0.2692307692307692, 'x[1] <= 3.5\\nentropy = 0.985\\nsamples = 7\\nvalue = [4, 3, 0, 0]'),\n",
       " Text(0.8904109589041096, 0.19230769230769232, 'entropy = 0.0\\nsamples = 4\\nvalue = [4, 0, 0, 0]'),\n",
       " Text(0.9178082191780822, 0.19230769230769232, 'entropy = 0.0\\nsamples = 3\\nvalue = [0, 3, 0, 0]'),\n",
       " Text(0.9315068493150684, 0.2692307692307692, 'entropy = 0.0\\nsamples = 10\\nvalue = [0, 10, 0, 0]'),\n",
       " Text(0.9726027397260274, 0.34615384615384615, 'x[3] <= 2.5\\nentropy = 0.985\\nsamples = 7\\nvalue = [0, 3, 4, 0]'),\n",
       " Text(0.958904109589041, 0.2692307692307692, 'entropy = 0.0\\nsamples = 4\\nvalue = [0, 0, 4, 0]'),\n",
       " Text(0.9863013698630136, 0.2692307692307692, 'entropy = 0.0\\nsamples = 3\\nvalue = [0, 3, 0, 0]'),\n",
       " Text(0.9178082191780822, 0.5, 'entropy = 0.0\\nsamples = 17\\nvalue = [0, 0, 0, 17]')]"
      ]
     },
     "execution_count": 28,
     "metadata": {},
     "output_type": "execute_result"
    },
    {
     "data": {
      "image/png": "[encoded data removed]",
      "text/plain": [
       "<Figure size 1200x800 with 1 Axes>"
      ]
     },
     "metadata": {},
     "output_type": "display_data"
    }
   ],
   "source": [
    "plt.figure(figsize=(12,8))\n",
    "tree.plot_tree(clf.fit(X_train, y_train))"
   ]
  },
  {
   "cell_type": "code",
   "execution_count": 29,
   "id": "c0e5699d-d2a2-4e1a-8ad2-27a47eca9abd",
   "metadata": {},
   "outputs": [
    {
     "name": "stdout",
     "output_type": "stream",
     "text": [
      "Results:\n",
      "Depth\tMin Samples Split\tAccuracy\n",
      "3\t2\t\t\t0.8053\n",
      "3\t5\t\t\t0.8053\n",
      "3\t10\t\t\t0.8053\n",
      "3\t20\t\t\t0.8053\n",
      "5\t2\t\t\t0.8789\n",
      "5\t5\t\t\t0.8789\n",
      "5\t10\t\t\t0.8789\n",
      "5\t20\t\t\t0.8789\n",
      "7\t2\t\t\t0.9281\n",
      "7\t5\t\t\t0.9281\n",
      "7\t10\t\t\t0.9281\n",
      "7\t20\t\t\t0.9333\n",
      "9\t2\t\t\t0.9614\n",
      "9\t5\t\t\t0.9561\n",
      "9\t10\t\t\t0.9368\n",
      "9\t20\t\t\t0.9404\n",
      "\n",
      "Best Parameters (Depth, Min Samples Split, Accuracy): (9, 2, 0.9614035087719298)\n"
     ]
    }
   ],
   "source": [
    "# Define lists to store results\n",
    "depths = [3, 5, 7, 9]\n",
    "min_samples_splits = [2, 5, 10, 20]\n",
    "results = []\n",
    "\n",
    "# Perform systematic analysis\n",
    "for depth in depths:\n",
    "    for min_samples_split in min_samples_splits:\n",
    "        # Create and train decision tree classifier\n",
    "        clf = DecisionTreeClassifier(criterion=\"entropy\", max_depth=depth, min_samples_split=min_samples_split, random_state=42)\n",
    "        clf.fit(X_train, y_train)\n",
    "        \n",
    "        # Make predictions on test set\n",
    "        y_pred = clf.predict(X_test)\n",
    "        \n",
    "        # Calculate accuracy\n",
    "        accuracy = accuracy_score(y_test, y_pred)\n",
    "        \n",
    "        # Store results\n",
    "        results.append((depth, min_samples_split, accuracy))\n",
    "\n",
    "# Display results\n",
    "print(\"Results:\")\n",
    "print(\"Depth\\tMin Samples Split\\tAccuracy\")\n",
    "for result in results:\n",
    "    print(\"{}\\t{}\\t\\t\\t{:.4f}\".format(result[0], result[1], result[2]))\n",
    "\n",
    "# Find best parameters\n",
    "best_params = max(results, key=lambda x: x[2])\n",
    "print(\"\\nBest Parameters (Depth, Min Samples Split, Accuracy):\", best_params)\n"
   ]
  },
  {
   "cell_type": "code",
   "execution_count": 30,
   "id": "cf6a6a98-1c61-477c-ace7-eaadbce5911b",
   "metadata": {},
   "outputs": [
    {
     "data": {
      "image/png": "[encoded data removed]",
      "text/plain": [
       "<Figure size 1000x600 with 1 Axes>"
      ]
     },
     "metadata": {},
     "output_type": "display_data"
    }
   ],
   "source": [
    "# Import necessary libraries\n",
    "import numpy as np\n",
    "\n",
    "# Define range of min_samples_split values to evaluate\n",
    "min_samples_splits = [2, 5, 10, 20]\n",
    "\n",
    "# Initialize lists to store accuracy scores\n",
    "train_scores = []\n",
    "test_scores = []\n",
    "\n",
    "# Iterate over min_samples_split values\n",
    "for min_samples_split in min_samples_splits:\n",
    "    # Create Decision Tree Classifier with specified min_samples_split\n",
    "    clf = DecisionTreeClassifier(criterion=\"entropy\", min_samples_split=min_samples_split, random_state=42)\n",
    "    \n",
    "    # Train the classifier on the training set\n",
    "    clf.fit(X_train, y_train)\n",
    "    \n",
    "    # Calculate accuracy on training set\n",
    "    train_accuracy = clf.score(X_train, y_train)\n",
    "    train_scores.append(train_accuracy)\n",
    "    \n",
    "    # Calculate accuracy on test set\n",
    "    test_accuracy = clf.score(X_test, y_test)\n",
    "    test_scores.append(test_accuracy)\n",
    "\n",
    "# Plotting the graph\n",
    "plt.figure(figsize=(10, 6))\n",
    "plt.plot(min_samples_splits, train_scores, marker='o', label='Training Accuracy')\n",
    "plt.plot(min_samples_splits, test_scores, marker='o', label='Test Accuracy')\n",
    "plt.title('Decision Tree Accuracy vs. Min Samples Split')\n",
    "plt.xlabel('Min Samples Split')\n",
    "plt.ylabel('Accuracy')\n",
    "plt.xticks(min_samples_splits)\n",
    "plt.legend()\n",
    "plt.grid(True)\n",
    "plt.show()\n"
   ]
  },
  {
   "cell_type": "code",
   "execution_count": null,
   "id": "ac08350c-69a7-4811-af10-69d8666ef8a8",
   "metadata": {},
   "outputs": [],
   "source": []
  }
 ],
 "metadata": {
  "kernelspec": {
   "display_name": "Python 3 (Intel® oneAPI 2023.2)",
   "language": "python",
   "name": "c009-intel_distribution_of_python_3_oneapi-beta05-python"
  },
  "language_info": {
   "codemirror_mode": {
    "name": "ipython",
    "version": 3
   },
   "file_extension": ".py",
   "mimetype": "text/x-python",
   "name": "python",
   "nbconvert_exporter": "python",
   "pygments_lexer": "ipython3",
   "version": "3.9.16"
  }
 },
 "nbformat": 4,
 "nbformat_minor": 5
}
