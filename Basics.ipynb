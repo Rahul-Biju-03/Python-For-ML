{
 "cells": [
  {
   "cell_type": "markdown",
   "id": "c3d9dad2-1e1c-47fe-8916-271ddbcc786f",
   "metadata": {},
   "source": [
    "# BASICS OF `PYTHON` PROGRAMMING\n",
    "In this notebook we will explain basic `Python` for machine learning."
   ]
  },
  {
   "cell_type": "markdown",
   "id": "d8b4f7a4-1eaa-4f34-b1e3-4dab9e1f8f2a",
   "metadata": {},
   "source": [
    "## DERIVED DATA TYPES IN `PYTHON`"
   ]
  },
  {
   "cell_type": "markdown",
   "id": "7da0e2f2-3a1b-40b6-a748-29c3609715a9",
   "metadata": {},
   "source": [
    ">**NOTE:** IN PYTHON `int`,`float`,`str`,... ARE ATOMIC DATA TYPES AND NO DECLARATION IS REQUIRED."
   ]
  },
  {
   "cell_type": "markdown",
   "id": "8f5c714e-8161-4239-b173-5234206ae5f0",
   "metadata": {},
   "source": [
    "### LIST"
   ]
  },
  {
   "cell_type": "code",
   "execution_count": 3,
   "id": "908274b2-4727-412c-9ee3-74bae64e6532",
   "metadata": {},
   "outputs": [],
   "source": [
    "my_list= [1,2,3]"
   ]
  },
  {
   "cell_type": "code",
   "execution_count": 4,
   "id": "922c9da7-877b-4f9e-9b72-1ea10c9ee2fb",
   "metadata": {},
   "outputs": [
    {
     "data": {
      "text/plain": [
       "[1, 2, 3]"
      ]
     },
     "execution_count": 4,
     "metadata": {},
     "output_type": "execute_result"
    }
   ],
   "source": [
    "my_list"
   ]
  },
  {
   "cell_type": "code",
   "execution_count": 5,
   "id": "26d476cf-94bf-4bf3-a8cc-c5734a50842e",
   "metadata": {},
   "outputs": [],
   "source": [
    "my_list=[1,'a',2,'b',3,'c']"
   ]
  },
  {
   "cell_type": "code",
   "execution_count": 6,
   "id": "b7e0150c-9770-4d2c-9329-56d848c6e902",
   "metadata": {},
   "outputs": [
    {
     "data": {
      "text/plain": [
       "[1, 'a', 2, 'b', 3, 'c']"
      ]
     },
     "execution_count": 6,
     "metadata": {},
     "output_type": "execute_result"
    }
   ],
   "source": [
    "my_list"
   ]
  },
  {
   "cell_type": "code",
   "execution_count": 7,
   "id": "58e10318-dad4-4b31-8873-c1cc0647ef98",
   "metadata": {},
   "outputs": [
    {
     "data": {
      "text/plain": [
       "1"
      ]
     },
     "execution_count": 7,
     "metadata": {},
     "output_type": "execute_result"
    }
   ],
   "source": [
    "my_list[0]"
   ]
  },
  {
   "cell_type": "code",
   "execution_count": 8,
   "id": "1b3f1db1-4660-41cf-b1aa-2691475103f8",
   "metadata": {},
   "outputs": [],
   "source": [
    "my_list=[1,2,[100,200]]"
   ]
  },
  {
   "cell_type": "code",
   "execution_count": 9,
   "id": "3a41e6fe-c487-410d-a242-1c933e7f6b30",
   "metadata": {},
   "outputs": [
    {
     "data": {
      "text/plain": [
       "[1, 2, [100, 200]]"
      ]
     },
     "execution_count": 9,
     "metadata": {},
     "output_type": "execute_result"
    }
   ],
   "source": [
    "my_list"
   ]
  },
  {
   "cell_type": "code",
   "execution_count": 10,
   "id": "ad4a04b4-32e7-4d81-a01e-34247a82b3b7",
   "metadata": {},
   "outputs": [
    {
     "data": {
      "text/plain": [
       "[100, 200]"
      ]
     },
     "execution_count": 10,
     "metadata": {},
     "output_type": "execute_result"
    }
   ],
   "source": [
    "my_list[2]"
   ]
  },
  {
   "cell_type": "code",
   "execution_count": 12,
   "id": "6b624a6e-6022-4c54-bc85-8972d2042e4d",
   "metadata": {},
   "outputs": [
    {
     "data": {
      "text/plain": [
       "200"
      ]
     },
     "execution_count": 12,
     "metadata": {},
     "output_type": "execute_result"
    }
   ],
   "source": [
    "my_list[2][1]"
   ]
  },
  {
   "cell_type": "code",
   "execution_count": 13,
   "id": "880b0359-baf8-4ced-89e8-9f6bcf6d974c",
   "metadata": {},
   "outputs": [],
   "source": [
    "my_list=['a','b','c','d']"
   ]
  },
  {
   "cell_type": "code",
   "execution_count": 14,
   "id": "44885fc7-b0d7-45ec-8ebe-7c39591d2929",
   "metadata": {},
   "outputs": [
    {
     "data": {
      "text/plain": [
       "['a', 'b', 'c', 'd']"
      ]
     },
     "execution_count": 14,
     "metadata": {},
     "output_type": "execute_result"
    }
   ],
   "source": [
    "my_list"
   ]
  },
  {
   "cell_type": "code",
   "execution_count": 15,
   "id": "90db1e35-0f59-4a93-8be5-037748bf1709",
   "metadata": {},
   "outputs": [
    {
     "data": {
      "text/plain": [
       "['a']"
      ]
     },
     "execution_count": 15,
     "metadata": {},
     "output_type": "execute_result"
    }
   ],
   "source": [
    "my_list[:1]"
   ]
  },
  {
   "cell_type": "code",
   "execution_count": 16,
   "id": "fc8d9db1-2d65-477a-aa9b-f1699527fc63",
   "metadata": {},
   "outputs": [
    {
     "data": {
      "text/plain": [
       "['a', 'b']"
      ]
     },
     "execution_count": 16,
     "metadata": {},
     "output_type": "execute_result"
    }
   ],
   "source": [
    "my_list[:2]"
   ]
  },
  {
   "cell_type": "code",
   "execution_count": 17,
   "id": "1f38c077-5946-4551-a361-35dcc03bd9f1",
   "metadata": {},
   "outputs": [],
   "source": [
    "my_list[0]=\"new\""
   ]
  },
  {
   "cell_type": "code",
   "execution_count": 18,
   "id": "eac4ffd0-35ef-40cd-acc6-e2f7e5190ade",
   "metadata": {},
   "outputs": [
    {
     "data": {
      "text/plain": [
       "['new', 'b', 'c', 'd']"
      ]
     },
     "execution_count": 18,
     "metadata": {},
     "output_type": "execute_result"
    }
   ],
   "source": [
    "my_list"
   ]
  },
  {
   "cell_type": "code",
   "execution_count": 19,
   "id": "a19a2aee-8109-41b7-a84f-1f9001fcab04",
   "metadata": {},
   "outputs": [],
   "source": [
    "my_list.append('e')"
   ]
  },
  {
   "cell_type": "code",
   "execution_count": 20,
   "id": "7b9aebfd-2777-4c1f-9a1e-e1798adce539",
   "metadata": {},
   "outputs": [
    {
     "data": {
      "text/plain": [
       "['new', 'b', 'c', 'd', 'e']"
      ]
     },
     "execution_count": 20,
     "metadata": {},
     "output_type": "execute_result"
    }
   ],
   "source": [
    "my_list"
   ]
  },
  {
   "cell_type": "markdown",
   "id": "abd20417-cca0-43af-9564-fbe19e467425",
   "metadata": {},
   "source": [
    "### TUPLE"
   ]
  },
  {
   "cell_type": "code",
   "execution_count": 23,
   "id": "e949a5c5-5e36-458a-a06b-202f30939f1a",
   "metadata": {},
   "outputs": [],
   "source": [
    "t=(1,2,3)"
   ]
  },
  {
   "cell_type": "code",
   "execution_count": 24,
   "id": "d34139de-bd57-43c0-8aa7-59bd93ae8d90",
   "metadata": {},
   "outputs": [
    {
     "data": {
      "text/plain": [
       "(1, 2, 3)"
      ]
     },
     "execution_count": 24,
     "metadata": {},
     "output_type": "execute_result"
    }
   ],
   "source": [
    "t"
   ]
  },
  {
   "cell_type": "markdown",
   "id": "f409fc5e-4d2c-4c7c-9a16-430cbdd1f091",
   "metadata": {},
   "source": [
    ">**Note:** Tuple doesnt support line assignment, but list does"
   ]
  },
  {
   "cell_type": "markdown",
   "id": "5388951d-89e6-46ee-bd58-a0d96f3ac452",
   "metadata": {},
   "source": [
    "### DICTIONARY"
   ]
  },
  {
   "cell_type": "code",
   "execution_count": 29,
   "id": "192a22d7-c28f-4d09-a71e-eb71ab1d73f8",
   "metadata": {},
   "outputs": [],
   "source": [
    "d={\"Name\":\"Rahul\" , \"age\": 20}"
   ]
  },
  {
   "cell_type": "code",
   "execution_count": 31,
   "id": "a8cc42c4-2bb2-4d9d-b230-83f1089c84c6",
   "metadata": {},
   "outputs": [
    {
     "data": {
      "text/plain": [
       "{'Name': 'Rahul', 'age': 20}"
      ]
     },
     "execution_count": 31,
     "metadata": {},
     "output_type": "execute_result"
    }
   ],
   "source": [
    "d"
   ]
  },
  {
   "cell_type": "code",
   "execution_count": 33,
   "id": "0a28f648-bf08-4171-86e3-510d842a8118",
   "metadata": {},
   "outputs": [
    {
     "data": {
      "text/plain": [
       "'Rahul'"
      ]
     },
     "execution_count": 33,
     "metadata": {},
     "output_type": "execute_result"
    }
   ],
   "source": [
    "d [\"Name\"]"
   ]
  },
  {
   "cell_type": "code",
   "execution_count": 35,
   "id": "7e91c9ab-a78e-4df5-9358-60499ba95f88",
   "metadata": {},
   "outputs": [
    {
     "data": {
      "text/plain": [
       "20"
      ]
     },
     "execution_count": 35,
     "metadata": {},
     "output_type": "execute_result"
    }
   ],
   "source": [
    "d [\"age\"]"
   ]
  },
  {
   "cell_type": "markdown",
   "id": "95b98d86-d203-4727-a324-584ff945df86",
   "metadata": {},
   "source": [
    "### SET"
   ]
  },
  {
   "cell_type": "code",
   "execution_count": 34,
   "id": "45dcd0a1-83be-4683-9cd0-7cdaf4c3dfe7",
   "metadata": {},
   "outputs": [
    {
     "data": {
      "text/plain": [
       "{1, 2, 3}"
      ]
     },
     "execution_count": 34,
     "metadata": {},
     "output_type": "execute_result"
    }
   ],
   "source": [
    "{1,2,3,1,1,1,1,2,3}"
   ]
  },
  {
   "cell_type": "markdown",
   "id": "0eb948b3-3ac0-4782-ac42-c41d8fd71234",
   "metadata": {},
   "source": [
    "### DEF FUNCTION"
   ]
  },
  {
   "cell_type": "code",
   "execution_count": 36,
   "id": "6d0adc2e-d216-41a4-90e2-b87d1ce34f93",
   "metadata": {},
   "outputs": [],
   "source": [
    "def times2(var):\n",
    "    return var*2,"
   ]
  },
  {
   "cell_type": "code",
   "execution_count": 38,
   "id": "15caa307-0258-4bb3-9acd-3da0f46dd301",
   "metadata": {},
   "outputs": [
    {
     "data": {
      "text/plain": [
       "4"
      ]
     },
     "execution_count": 38,
     "metadata": {},
     "output_type": "execute_result"
    }
   ],
   "source": [
    "times2(2)"
   ]
  },
  {
   "cell_type": "markdown",
   "id": "db12329e-5f91-49d5-8ff7-104350f2ac83",
   "metadata": {},
   "source": [
    "### LAMBDA (lambda arguements:expression)"
   ]
  },
  {
   "cell_type": "markdown",
   "id": "17c0ebfc-32c8-466d-81f2-7b6dbe3ff11a",
   "metadata": {},
   "source": [
    ">**NOTE:** function_name= lambda arguements:expression"
   ]
  },
  {
   "cell_type": "code",
   "execution_count": 41,
   "id": "c19571b7-6204-422d-b2f5-d58148eddb4b",
   "metadata": {},
   "outputs": [],
   "source": [
    "times2=lambda var:var*2"
   ]
  },
  {
   "cell_type": "code",
   "execution_count": 42,
   "id": "19c8a820-d152-4758-8aa4-000e7ece5b3f",
   "metadata": {},
   "outputs": [
    {
     "name": "stdout",
     "output_type": "stream",
     "text": [
      "4\n"
     ]
    }
   ],
   "source": [
    "print(times2(2))"
   ]
  },
  {
   "cell_type": "markdown",
   "id": "74c380f1-b040-4790-ac59-8608b87d440d",
   "metadata": {},
   "source": [
    "### LIST COMPREHENSION"
   ]
  },
  {
   "cell_type": "code",
   "execution_count": 44,
   "id": "3cb423ee-4ddd-42b9-9cc9-e2d0e0766aa7",
   "metadata": {},
   "outputs": [],
   "source": [
    "X=[1,2,3,4]"
   ]
  },
  {
   "cell_type": "code",
   "execution_count": 46,
   "id": "7802933a-5f5f-49ee-9d1c-72cea033c4d1",
   "metadata": {},
   "outputs": [
    {
     "name": "stdout",
     "output_type": "stream",
     "text": [
      "[1, 4, 9, 16]\n"
     ]
    }
   ],
   "source": [
    "out = []\n",
    "for item in X:\n",
    "    out.append(item**2)\n",
    "print(out)\n",
    "    "
   ]
  },
  {
   "cell_type": "code",
   "execution_count": 47,
   "id": "27efeea0-138e-4946-8251-594b8fb7fcc4",
   "metadata": {},
   "outputs": [
    {
     "data": {
      "text/plain": [
       "[1, 4, 9, 16]"
      ]
     },
     "execution_count": 47,
     "metadata": {},
     "output_type": "execute_result"
    }
   ],
   "source": [
    "[item**2 for item in X]"
   ]
  },
  {
   "cell_type": "code",
   "execution_count": 55,
   "id": "0a1f90c6-9197-41e6-8974-1d2e8a52acf9",
   "metadata": {},
   "outputs": [
    {
     "name": "stdout",
     "output_type": "stream",
     "text": [
      "My name is :Rahul, my number is:10\n"
     ]
    }
   ],
   "source": [
    "print(\"My name is :{0}, my number is:{1}\".format('Rahul',10))"
   ]
  },
  {
   "cell_type": "code",
   "execution_count": 58,
   "id": "e088235b-7ad7-457c-8e98-9b3dca500446",
   "metadata": {},
   "outputs": [
    {
     "name": "stdout",
     "output_type": "stream",
     "text": [
      "MY NUMBER IS :12, and my name is rahul\n"
     ]
    }
   ],
   "source": [
    "num=12\n",
    "name='rahul'\n",
    "\n",
    "print(\"MY NUMBER IS :{one}, and my name is {two}\".format(one=num,two=name))"
   ]
  },
  {
   "cell_type": "code",
   "execution_count": null,
   "id": "29a0fffe-e182-4c38-bcc7-6b581465c492",
   "metadata": {},
   "outputs": [],
   "source": []
  }
 ],
 "metadata": {
  "kernelspec": {
   "display_name": "Python 3 (Intel® oneAPI 2023.2)",
   "language": "python",
   "name": "c009-intel_distribution_of_python_3_oneapi-beta05-python"
  },
  "language_info": {
   "codemirror_mode": {
    "name": "ipython",
    "version": 3
   },
   "file_extension": ".py",
   "mimetype": "text/x-python",
   "name": "python",
   "nbconvert_exporter": "python",
   "pygments_lexer": "ipython3",
   "version": "3.9.16"
  }
 },
 "nbformat": 4,
 "nbformat_minor": 5
}
