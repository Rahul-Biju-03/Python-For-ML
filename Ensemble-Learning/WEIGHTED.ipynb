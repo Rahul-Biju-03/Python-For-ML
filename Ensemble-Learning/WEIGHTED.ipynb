{
 "cells": [
  {
   "cell_type": "code",
   "execution_count": 15,
   "metadata": {
    "id": "U3aRP_Yf-oi9"
   },
   "outputs": [],
   "source": [
    "# IMPORTS\n",
    "import pandas as pd\n",
    "import numpy as np\n",
    "from sklearn.tree import DecisionTreeClassifier\n",
    "from sklearn.neighbors import KNeighborsClassifier\n",
    "from sklearn.linear_model import LogisticRegression\n",
    "from sklearn.model_selection import train_test_split\n",
    "import statistics as st\n",
    "import warnings\n",
    "warnings.filterwarnings('ignore')"
   ]
  },
  {
   "cell_type": "code",
   "execution_count": 16,
   "metadata": {
    "id": "Wi0Ya4KK_LY8"
   },
   "outputs": [],
   "source": [
    "# SPLITTING THE DATASET\n",
    "df = pd.read_csv('dataset.csv')\n",
    "x = df.drop('target', axis = 1)\n",
    "y = df['target']\n",
    "x_train, x_test, y_train, y_test = train_test_split(x, y, test_size=0.2, random_state=0)"
   ]
  },
  {
   "cell_type": "markdown",
   "metadata": {},
   "source": [
    "#### THERE ARE 3 MODELS. WE NEED TO GIVE DIFFERENT PREFERENCES TO EACH. LET MODEL 3 GET THE HIGHEST PREFERENCE=0.4. REST OF THEM GETS 0.3. \n",
    "#### AT THE END THEIR SUM SHOULD GIVE VALUE=1."
   ]
  },
  {
   "cell_type": "code",
   "execution_count": 5,
   "metadata": {
    "id": "6lPMAx19_OlE"
   },
   "outputs": [],
   "source": [
    "# MODELS CREATION\n",
    "model1 = DecisionTreeClassifier()\n",
    "model2 = KNeighborsClassifier()\n",
    "model3= LogisticRegression()\n",
    "\n",
    "model1.fit(x_train,y_train)\n",
    "model2.fit(x_train,y_train)\n",
    "model3.fit(x_train,y_train)\n",
    "\n",
    "pred1=model1.predict_proba(x_test)\n",
    "pred2=model2.predict_proba(x_test)\n",
    "pred3=model3.predict_proba(x_test)\n",
    "\n",
    "finalpred=(pred1*0.3+pred2*0.3+pred3*0.4) "
   ]
  },
  {
   "cell_type": "code",
   "execution_count": 17,
   "metadata": {},
   "outputs": [
    {
     "data": {
      "text/plain": [
       "array([[0.92157935, 0.07842065],\n",
       "       [0.61133235, 0.38866765],\n",
       "       [0.48637225, 0.51362775],\n",
       "       [0.93076317, 0.06923683],\n",
       "       [0.77258578, 0.22741422],\n",
       "       [0.64759217, 0.35240783],\n",
       "       [0.86182181, 0.13817819],\n",
       "       [0.89238108, 0.10761892],\n",
       "       [0.93791182, 0.06208818],\n",
       "       [0.93833641, 0.06166359],\n",
       "       [0.50389134, 0.49610866],\n",
       "       [0.08964688, 0.91035312],\n",
       "       [0.98656962, 0.01343038],\n",
       "       [0.11757771, 0.88242229],\n",
       "       [0.07695321, 0.92304679],\n",
       "       [0.18652845, 0.81347155],\n",
       "       [0.91249424, 0.08750576],\n",
       "       [0.09802458, 0.90197542],\n",
       "       [0.93729135, 0.06270865],\n",
       "       [0.11634208, 0.88365792],\n",
       "       [0.1307558 , 0.8692442 ],\n",
       "       [0.71098983, 0.28901017],\n",
       "       [0.91151329, 0.08848671],\n",
       "       [0.78277706, 0.21722294],\n",
       "       [0.59840712, 0.40159288],\n",
       "       [0.45846823, 0.54153177],\n",
       "       [0.62138532, 0.37861468],\n",
       "       [0.75516062, 0.24483938],\n",
       "       [0.07132125, 0.92867875],\n",
       "       [0.31482616, 0.68517384],\n",
       "       [0.32172574, 0.67827426],\n",
       "       [0.8738898 , 0.1261102 ],\n",
       "       [0.13667711, 0.86332289],\n",
       "       [0.33308323, 0.66691677],\n",
       "       [0.09361669, 0.90638331],\n",
       "       [0.19552917, 0.80447083],\n",
       "       [0.98291517, 0.01708483],\n",
       "       [0.18531178, 0.81468822],\n",
       "       [0.84604817, 0.15395183],\n",
       "       [0.7008461 , 0.2991539 ],\n",
       "       [0.3328361 , 0.6671639 ],\n",
       "       [0.44738291, 0.55261709],\n",
       "       [0.29719327, 0.70280673],\n",
       "       [0.91679423, 0.08320577],\n",
       "       [0.45848293, 0.54151707],\n",
       "       [0.52753406, 0.47246594],\n",
       "       [0.0823757 , 0.9176243 ],\n",
       "       [0.14321691, 0.85678309],\n",
       "       [0.74088666, 0.25911334],\n",
       "       [0.13441717, 0.86558283],\n",
       "       [0.11051098, 0.88948902],\n",
       "       [0.35245139, 0.64754861],\n",
       "       [0.07427465, 0.92572535],\n",
       "       [0.60895589, 0.39104411],\n",
       "       [0.06272183, 0.93727817],\n",
       "       [0.8436774 , 0.1563226 ],\n",
       "       [0.20755281, 0.79244719],\n",
       "       [0.09063028, 0.90936972],\n",
       "       [0.25921109, 0.74078891],\n",
       "       [0.08175556, 0.91824444],\n",
       "       [0.31395904, 0.68604096]])"
      ]
     },
     "execution_count": 17,
     "metadata": {},
     "output_type": "execute_result"
    }
   ],
   "source": [
    "finalpred #gives 2 columns. 1st column for probability for people with cancer. 2nd column for people with no cancer."
   ]
  },
  {
   "cell_type": "code",
   "execution_count": 14,
   "metadata": {
    "id": "42Svfb3Z_nzm"
   },
   "outputs": [
    {
     "name": "stdout",
     "output_type": "stream",
     "text": [
      "Accuracy: 0.7868852459016393\n"
     ]
    }
   ],
   "source": [
    "from sklearn.metrics import accuracy_score\n",
    "# Get predictions for each classifier and store them\n",
    "#for clf in classifiers:\n",
    "# Get probability estimates for each class\n",
    "#  proba = clf.predict_proba(X_test)\n",
    "# Choose the class label with the highest probability estimate for each data point\n",
    "predicted_label = np.argmax(finalpred, axis=1) #AXIS CAN BE ONLY 0 OR 1. 0 means single row. 1 means all rows(i.e. all columns)\n",
    "\n",
    "#predicted_labels.append(predicted_label)\n",
    "\n",
    "# Combine predictions from all classifiers using majority voting\n",
    "#combined_predictions = np.mean(predicted_labels, axis=0)\n",
    "\n",
    "# Calculate accuracy\n",
    "accuracy = accuracy_score(y_test,predicted_label)\n",
    "print(\"Accuracy:\", accuracy)"
   ]
  }
 ],
 "metadata": {
  "colab": {
   "provenance": []
  },
  "kernelspec": {
   "display_name": "Python 3 (Intel® oneAPI 2023.2)",
   "language": "python",
   "name": "c009-intel_distribution_of_python_3_oneapi-beta05-python"
  },
  "language_info": {
   "codemirror_mode": {
    "name": "ipython",
    "version": 3
   },
   "file_extension": ".py",
   "mimetype": "text/x-python",
   "name": "python",
   "nbconvert_exporter": "python",
   "pygments_lexer": "ipython3",
   "version": "3.9.16"
  }
 },
 "nbformat": 4,
 "nbformat_minor": 4
}
