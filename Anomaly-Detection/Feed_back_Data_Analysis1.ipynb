{
 "cells": [
  {
   "cell_type": "code",
   "execution_count": 1,
   "metadata": {},
   "outputs": [
    {
     "name": "stdout",
     "output_type": "stream",
     "text": [
      "Defaulting to user installation because normal site-packages is not writeable\n",
      "Requirement already satisfied: Jinja2 in /home/u213914/.local/lib/python3.9/site-packages (3.1.3)\n",
      "Requirement already satisfied: MarkupSafe>=2.0 in /home/u213914/.local/lib/python3.9/site-packages (from Jinja2) (2.1.5)\n"
     ]
    }
   ],
   "source": [
    "!pip install Jinja2"
   ]
  },
  {
   "cell_type": "code",
   "execution_count": 2,
   "metadata": {
    "id": "aNUItRuoItEj"
   },
   "outputs": [],
   "source": [
    "import numpy as np\n",
    "import pandas as pd\n",
    "import seaborn as sns\n",
    "import matplotlib.pyplot as plt\n",
    "%matplotlib inline\n",
    "import warnings\n",
    "warnings.filterwarnings('ignore')"
   ]
  },
  {
   "cell_type": "markdown",
   "metadata": {
    "id": "-K83OJV2HDBY"
   },
   "source": [
    "## Loading Data"
   ]
  },
  {
   "cell_type": "code",
   "execution_count": 3,
   "metadata": {
    "id": "AQjLcipxG-R1"
   },
   "outputs": [],
   "source": [
    "#df_class=pd.read_csv(\"/content/survey_data.csv\")\n",
    "df_class=pd.read_csv(\"https://raw.githubusercontent.com/sijuswamy/Intel-Unnati-sessions/main/Feed_back_data.csv\")"
   ]
  },
  {
   "cell_type": "code",
   "execution_count": 4,
   "metadata": {
    "colab": {
     "base_uri": "https://localhost:8080/",
     "height": 310
    },
    "id": "EBdj8dXvKG5Z",
    "outputId": "12370aa9-3fcf-46b2-abb0-2cc755805b4d"
   },
   "outputs": [
    {
     "data": {
      "text/html": [
       "<style type=\"text/css\">\n",
       "#T_1444a_row0_col0, #T_1444a_row0_col1, #T_1444a_row0_col2, #T_1444a_row0_col3, #T_1444a_row0_col4, #T_1444a_row0_col5, #T_1444a_row0_col6, #T_1444a_row0_col7, #T_1444a_row0_col8, #T_1444a_row0_col9, #T_1444a_row0_col10, #T_1444a_row0_col11, #T_1444a_row1_col0, #T_1444a_row1_col1, #T_1444a_row1_col2, #T_1444a_row1_col3, #T_1444a_row1_col4, #T_1444a_row1_col5, #T_1444a_row1_col6, #T_1444a_row1_col7, #T_1444a_row1_col8, #T_1444a_row1_col9, #T_1444a_row1_col10, #T_1444a_row1_col11, #T_1444a_row2_col0, #T_1444a_row2_col1, #T_1444a_row2_col2, #T_1444a_row2_col3, #T_1444a_row2_col4, #T_1444a_row2_col5, #T_1444a_row2_col6, #T_1444a_row2_col7, #T_1444a_row2_col8, #T_1444a_row2_col9, #T_1444a_row2_col10, #T_1444a_row2_col11, #T_1444a_row3_col0, #T_1444a_row3_col1, #T_1444a_row3_col2, #T_1444a_row3_col3, #T_1444a_row3_col4, #T_1444a_row3_col5, #T_1444a_row3_col6, #T_1444a_row3_col7, #T_1444a_row3_col8, #T_1444a_row3_col9, #T_1444a_row3_col10, #T_1444a_row3_col11, #T_1444a_row4_col0, #T_1444a_row4_col1, #T_1444a_row4_col2, #T_1444a_row4_col3, #T_1444a_row4_col4, #T_1444a_row4_col5, #T_1444a_row4_col6, #T_1444a_row4_col7, #T_1444a_row4_col8, #T_1444a_row4_col9, #T_1444a_row4_col10, #T_1444a_row4_col11 {\n",
       "  background-color: darkgreen;\n",
       "  color: white;\n",
       "  border-color: darkblack;\n",
       "}\n",
       "</style>\n",
       "<table id=\"T_1444a\">\n",
       "  <thead>\n",
       "    <tr>\n",
       "      <th class=\"blank level0\" >&nbsp;</th>\n",
       "      <th id=\"T_1444a_level0_col0\" class=\"col_heading level0 col0\" >Timestamp</th>\n",
       "      <th id=\"T_1444a_level0_col1\" class=\"col_heading level0 col1\" >Name of the Participant</th>\n",
       "      <th id=\"T_1444a_level0_col2\" class=\"col_heading level0 col2\" >Email ID</th>\n",
       "      <th id=\"T_1444a_level0_col3\" class=\"col_heading level0 col3\" >Branch</th>\n",
       "      <th id=\"T_1444a_level0_col4\" class=\"col_heading level0 col4\" >Semester</th>\n",
       "      <th id=\"T_1444a_level0_col5\" class=\"col_heading level0 col5\" >Recourse Person of the session</th>\n",
       "      <th id=\"T_1444a_level0_col6\" class=\"col_heading level0 col6\" >How would you rate the overall quality and relevance of the course content presented in this session?</th>\n",
       "      <th id=\"T_1444a_level0_col7\" class=\"col_heading level0 col7\" >To what extent did you find the training methods and delivery style effective in helping you understand the concepts presented?</th>\n",
       "      <th id=\"T_1444a_level0_col8\" class=\"col_heading level0 col8\" >How would you rate the resource person's knowledge and expertise in the subject matter covered during this session?</th>\n",
       "      <th id=\"T_1444a_level0_col9\" class=\"col_heading level0 col9\" >To what extent do you believe the content covered in this session is relevant and applicable to real-world industry scenarios?</th>\n",
       "      <th id=\"T_1444a_level0_col10\" class=\"col_heading level0 col10\" >How would you rate the overall organization of the session, including time management, clarity of instructions, and interactive elements?</th>\n",
       "      <th id=\"T_1444a_level0_col11\" class=\"col_heading level0 col11\" >Please provide any additional comments, suggestions, or feedback you have regarding the session. Your insights are valuable and will help us enhance the overall learning experience.</th>\n",
       "    </tr>\n",
       "  </thead>\n",
       "  <tbody>\n",
       "    <tr>\n",
       "      <th id=\"T_1444a_level0_row0\" class=\"row_heading level0 row0\" >19</th>\n",
       "      <td id=\"T_1444a_row0_col0\" class=\"data row0 col0\" >2024/02/19 4:23:42 PM GMT+5:30</td>\n",
       "      <td id=\"T_1444a_row0_col1\" class=\"data row0 col1\" >Kevin Kizhakekuttu Thomas</td>\n",
       "      <td id=\"T_1444a_row0_col2\" class=\"data row0 col2\" >kevink.csb2125@saintgits.org</td>\n",
       "      <td id=\"T_1444a_row0_col3\" class=\"data row0 col3\" >CSE</td>\n",
       "      <td id=\"T_1444a_row0_col4\" class=\"data row0 col4\" >Sixth</td>\n",
       "      <td id=\"T_1444a_row0_col5\" class=\"data row0 col5\" >Mrs. Akshara Sasidharan</td>\n",
       "      <td id=\"T_1444a_row0_col6\" class=\"data row0 col6\" >4</td>\n",
       "      <td id=\"T_1444a_row0_col7\" class=\"data row0 col7\" >5</td>\n",
       "      <td id=\"T_1444a_row0_col8\" class=\"data row0 col8\" >5</td>\n",
       "      <td id=\"T_1444a_row0_col9\" class=\"data row0 col9\" >5</td>\n",
       "      <td id=\"T_1444a_row0_col10\" class=\"data row0 col10\" >4</td>\n",
       "      <td id=\"T_1444a_row0_col11\" class=\"data row0 col11\" >nan</td>\n",
       "    </tr>\n",
       "    <tr>\n",
       "      <th id=\"T_1444a_level0_row1\" class=\"row_heading level0 row1\" >164</th>\n",
       "      <td id=\"T_1444a_row1_col0\" class=\"data row1 col0\" >2024/02/22 9:08:18 AM GMT+5:30</td>\n",
       "      <td id=\"T_1444a_row1_col1\" class=\"data row1 col1\" >Nandana A</td>\n",
       "      <td id=\"T_1444a_row1_col2\" class=\"data row1 col2\" >nandana.csb2226@saintgits.org</td>\n",
       "      <td id=\"T_1444a_row1_col3\" class=\"data row1 col3\" >CSE</td>\n",
       "      <td id=\"T_1444a_row1_col4\" class=\"data row1 col4\" >Fourth</td>\n",
       "      <td id=\"T_1444a_row1_col5\" class=\"data row1 col5\" >Mrs. Veena A Kumar</td>\n",
       "      <td id=\"T_1444a_row1_col6\" class=\"data row1 col6\" >5</td>\n",
       "      <td id=\"T_1444a_row1_col7\" class=\"data row1 col7\" >5</td>\n",
       "      <td id=\"T_1444a_row1_col8\" class=\"data row1 col8\" >5</td>\n",
       "      <td id=\"T_1444a_row1_col9\" class=\"data row1 col9\" >5</td>\n",
       "      <td id=\"T_1444a_row1_col10\" class=\"data row1 col10\" >4</td>\n",
       "      <td id=\"T_1444a_row1_col11\" class=\"data row1 col11\" >nan</td>\n",
       "    </tr>\n",
       "    <tr>\n",
       "      <th id=\"T_1444a_level0_row2\" class=\"row_heading level0 row2\" >196</th>\n",
       "      <td id=\"T_1444a_row2_col0\" class=\"data row2 col0\" >2024/02/22 1:02:43 PM GMT+5:30</td>\n",
       "      <td id=\"T_1444a_row2_col1\" class=\"data row2 col1\" >Marianna Martin</td>\n",
       "      <td id=\"T_1444a_row2_col2\" class=\"data row2 col2\" >mmm.csb2226@saintgits.org</td>\n",
       "      <td id=\"T_1444a_row2_col3\" class=\"data row2 col3\" >CSE</td>\n",
       "      <td id=\"T_1444a_row2_col4\" class=\"data row2 col4\" >Fourth</td>\n",
       "      <td id=\"T_1444a_row2_col5\" class=\"data row2 col5\" >Mr. Arun Sebastian</td>\n",
       "      <td id=\"T_1444a_row2_col6\" class=\"data row2 col6\" >5</td>\n",
       "      <td id=\"T_1444a_row2_col7\" class=\"data row2 col7\" >5</td>\n",
       "      <td id=\"T_1444a_row2_col8\" class=\"data row2 col8\" >5</td>\n",
       "      <td id=\"T_1444a_row2_col9\" class=\"data row2 col9\" >5</td>\n",
       "      <td id=\"T_1444a_row2_col10\" class=\"data row2 col10\" >5</td>\n",
       "      <td id=\"T_1444a_row2_col11\" class=\"data row2 col11\" >nan</td>\n",
       "    </tr>\n",
       "    <tr>\n",
       "      <th id=\"T_1444a_level0_row3\" class=\"row_heading level0 row3\" >26</th>\n",
       "      <td id=\"T_1444a_row3_col0\" class=\"data row3 col0\" >2024/02/19 4:24:04 PM GMT+5:30</td>\n",
       "      <td id=\"T_1444a_row3_col1\" class=\"data row3 col1\" >Sidharth V Menon </td>\n",
       "      <td id=\"T_1444a_row3_col2\" class=\"data row3 col2\" >svm.ec2125@saintgits.org</td>\n",
       "      <td id=\"T_1444a_row3_col3\" class=\"data row3 col3\" >ECE</td>\n",
       "      <td id=\"T_1444a_row3_col4\" class=\"data row3 col4\" >Sixth</td>\n",
       "      <td id=\"T_1444a_row3_col5\" class=\"data row3 col5\" >Dr. Anju Pratap</td>\n",
       "      <td id=\"T_1444a_row3_col6\" class=\"data row3 col6\" >4</td>\n",
       "      <td id=\"T_1444a_row3_col7\" class=\"data row3 col7\" >4</td>\n",
       "      <td id=\"T_1444a_row3_col8\" class=\"data row3 col8\" >4</td>\n",
       "      <td id=\"T_1444a_row3_col9\" class=\"data row3 col9\" >4</td>\n",
       "      <td id=\"T_1444a_row3_col10\" class=\"data row3 col10\" >4</td>\n",
       "      <td id=\"T_1444a_row3_col11\" class=\"data row3 col11\" >nan</td>\n",
       "    </tr>\n",
       "    <tr>\n",
       "      <th id=\"T_1444a_level0_row4\" class=\"row_heading level0 row4\" >150</th>\n",
       "      <td id=\"T_1444a_row4_col0\" class=\"data row4 col0\" >2024/02/22 9:05:02 AM GMT+5:30</td>\n",
       "      <td id=\"T_1444a_row4_col1\" class=\"data row4 col1\" >Abna Ev</td>\n",
       "      <td id=\"T_1444a_row4_col2\" class=\"data row4 col2\" >abna.csa2125@saintgits.org</td>\n",
       "      <td id=\"T_1444a_row4_col3\" class=\"data row4 col3\" >CSE</td>\n",
       "      <td id=\"T_1444a_row4_col4\" class=\"data row4 col4\" >Sixth</td>\n",
       "      <td id=\"T_1444a_row4_col5\" class=\"data row4 col5\" >Mrs. Veena A Kumar</td>\n",
       "      <td id=\"T_1444a_row4_col6\" class=\"data row4 col6\" >3</td>\n",
       "      <td id=\"T_1444a_row4_col7\" class=\"data row4 col7\" >5</td>\n",
       "      <td id=\"T_1444a_row4_col8\" class=\"data row4 col8\" >4</td>\n",
       "      <td id=\"T_1444a_row4_col9\" class=\"data row4 col9\" >5</td>\n",
       "      <td id=\"T_1444a_row4_col10\" class=\"data row4 col10\" >4</td>\n",
       "      <td id=\"T_1444a_row4_col11\" class=\"data row4 col11\" >nan</td>\n",
       "    </tr>\n",
       "  </tbody>\n",
       "</table>\n"
      ],
      "text/plain": [
       "<pandas.io.formats.style.Styler at 0x7f3bd89a9f70>"
      ]
     },
     "execution_count": 4,
     "metadata": {},
     "output_type": "execute_result"
    }
   ],
   "source": [
    "df_class.sample(5).style.set_properties(**{'background-color': 'darkgreen',\n",
    "                           'color': 'white',\n",
    "                           'border-color': 'darkblack'})"
   ]
  },
  {
   "cell_type": "markdown",
   "metadata": {
    "id": "9n_2DtvWJKMt"
   },
   "source": [
    "## Data wrangling"
   ]
  },
  {
   "cell_type": "code",
   "execution_count": 6,
   "metadata": {
    "colab": {
     "base_uri": "https://localhost:8080/"
    },
    "id": "OoInTmFvKAVZ",
    "outputId": "aa70acae-9600-482a-c536-f4d0b4fb70ed"
   },
   "outputs": [
    {
     "name": "stdout",
     "output_type": "stream",
     "text": [
      "<class 'pandas.core.frame.DataFrame'>\n",
      "RangeIndex: 207 entries, 0 to 206\n",
      "Data columns (total 12 columns):\n",
      " #   Column                                                                                                                                                                                 Non-Null Count  Dtype \n",
      "---  ------                                                                                                                                                                                 --------------  ----- \n",
      " 0   Timestamp                                                                                                                                                                              207 non-null    object\n",
      " 1   Name of the Participant                                                                                                                                                                207 non-null    object\n",
      " 2   Email ID                                                                                                                                                                               207 non-null    object\n",
      " 3   Branch                                                                                                                                                                                 207 non-null    object\n",
      " 4   Semester                                                                                                                                                                               207 non-null    object\n",
      " 5   Recourse Person of the session                                                                                                                                                         207 non-null    object\n",
      " 6   How would you rate the overall quality and relevance of the course content presented in this session?                                                                                  207 non-null    int64 \n",
      " 7   To what extent did you find the training methods and delivery style effective in helping you understand the concepts presented?                                                        207 non-null    int64 \n",
      " 8   How would you rate the resource person's knowledge and expertise in the subject matter covered during this session?                                                                    207 non-null    int64 \n",
      " 9   To what extent do you believe the content covered in this session is relevant and applicable to real-world industry scenarios?                                                         207 non-null    int64 \n",
      " 10  How would you rate the overall organization of the session, including time management, clarity of instructions, and interactive elements?                                              207 non-null    int64 \n",
      " 11  Please provide any additional comments, suggestions, or feedback you have regarding the session. Your insights are valuable and will help us enhance the overall learning experience.  12 non-null     object\n",
      "dtypes: int64(5), object(7)\n",
      "memory usage: 19.5+ KB\n"
     ]
    }
   ],
   "source": [
    "df_class.info()"
   ]
  },
  {
   "cell_type": "code",
   "execution_count": 7,
   "metadata": {
    "id": "3uqyvyOTKZY-"
   },
   "outputs": [],
   "source": [
    "df_class = df_class.drop(['Timestamp','Email ID','Please provide any additional comments, suggestions, or feedback you have regarding the session. Your insights are valuable and will help us enhance the overall learning experience.'],axis=1)\n"
   ]
  },
  {
   "cell_type": "code",
   "execution_count": 8,
   "metadata": {
    "id": "2OXWFFs_JM1g"
   },
   "outputs": [],
   "source": [
    "df_class.columns = [\"Name\",\"Branch\",\"Semester\",\"Resource Person\",\"Content Quality\",\"Effectiveness\",\"Expertise\",\"Relevance\",\"Overall organisation\"]"
   ]
  },
  {
   "cell_type": "code",
   "execution_count": 9,
   "metadata": {
    "colab": {
     "base_uri": "https://localhost:8080/",
     "height": 206
    },
    "id": "8wspbQ6BK0Gb",
    "outputId": "09581d0a-4588-44b5-d487-53d2feea5a6b"
   },
   "outputs": [
    {
     "data": {
      "text/html": [
       "<div>\n",
       "<style scoped>\n",
       "    .dataframe tbody tr th:only-of-type {\n",
       "        vertical-align: middle;\n",
       "    }\n",
       "\n",
       "    .dataframe tbody tr th {\n",
       "        vertical-align: top;\n",
       "    }\n",
       "\n",
       "    .dataframe thead th {\n",
       "        text-align: right;\n",
       "    }\n",
       "</style>\n",
       "<table border=\"1\" class=\"dataframe\">\n",
       "  <thead>\n",
       "    <tr style=\"text-align: right;\">\n",
       "      <th></th>\n",
       "      <th>Name</th>\n",
       "      <th>Branch</th>\n",
       "      <th>Semester</th>\n",
       "      <th>Resource Person</th>\n",
       "      <th>Content Quality</th>\n",
       "      <th>Effectiveness</th>\n",
       "      <th>Expertise</th>\n",
       "      <th>Relevance</th>\n",
       "      <th>Overall organisation</th>\n",
       "    </tr>\n",
       "  </thead>\n",
       "  <tbody>\n",
       "    <tr>\n",
       "      <th>161</th>\n",
       "      <td>Aaron Thomas Blessen</td>\n",
       "      <td>CSE</td>\n",
       "      <td>Sixth</td>\n",
       "      <td>Mrs. Akshara Sasidharan</td>\n",
       "      <td>5</td>\n",
       "      <td>5</td>\n",
       "      <td>5</td>\n",
       "      <td>5</td>\n",
       "      <td>5</td>\n",
       "    </tr>\n",
       "    <tr>\n",
       "      <th>136</th>\n",
       "      <td>Rahul Biju</td>\n",
       "      <td>CSE</td>\n",
       "      <td>Sixth</td>\n",
       "      <td>Mrs. Gayathri J L</td>\n",
       "      <td>5</td>\n",
       "      <td>5</td>\n",
       "      <td>5</td>\n",
       "      <td>5</td>\n",
       "      <td>5</td>\n",
       "    </tr>\n",
       "    <tr>\n",
       "      <th>89</th>\n",
       "      <td>Jobin Pius</td>\n",
       "      <td>RB</td>\n",
       "      <td>Sixth</td>\n",
       "      <td>Mrs. Veena A Kumar</td>\n",
       "      <td>4</td>\n",
       "      <td>5</td>\n",
       "      <td>5</td>\n",
       "      <td>5</td>\n",
       "      <td>5</td>\n",
       "    </tr>\n",
       "    <tr>\n",
       "      <th>146</th>\n",
       "      <td>Shalin Ann Thomas</td>\n",
       "      <td>CSE</td>\n",
       "      <td>Fourth</td>\n",
       "      <td>Mrs. Gayathri J L</td>\n",
       "      <td>3</td>\n",
       "      <td>3</td>\n",
       "      <td>3</td>\n",
       "      <td>3</td>\n",
       "      <td>3</td>\n",
       "    </tr>\n",
       "    <tr>\n",
       "      <th>158</th>\n",
       "      <td>Abna Ev</td>\n",
       "      <td>CSE</td>\n",
       "      <td>Sixth</td>\n",
       "      <td>Mrs. Gayathri J L</td>\n",
       "      <td>5</td>\n",
       "      <td>5</td>\n",
       "      <td>5</td>\n",
       "      <td>5</td>\n",
       "      <td>5</td>\n",
       "    </tr>\n",
       "  </tbody>\n",
       "</table>\n",
       "</div>"
      ],
      "text/plain": [
       "                      Name Branch Semester          Resource Person   \n",
       "161  Aaron Thomas Blessen     CSE    Sixth  Mrs. Akshara Sasidharan  \\\n",
       "136             Rahul Biju    CSE    Sixth        Mrs. Gayathri J L   \n",
       "89             Jobin Pius      RB    Sixth       Mrs. Veena A Kumar   \n",
       "146     Shalin Ann Thomas     CSE   Fourth        Mrs. Gayathri J L   \n",
       "158                Abna Ev    CSE    Sixth        Mrs. Gayathri J L   \n",
       "\n",
       "     Content Quality  Effectiveness  Expertise  Relevance   \n",
       "161                5              5          5          5  \\\n",
       "136                5              5          5          5   \n",
       "89                 4              5          5          5   \n",
       "146                3              3          3          3   \n",
       "158                5              5          5          5   \n",
       "\n",
       "     Overall organisation  \n",
       "161                     5  \n",
       "136                     5  \n",
       "89                      5  \n",
       "146                     3  \n",
       "158                     5  "
      ]
     },
     "execution_count": 9,
     "metadata": {},
     "output_type": "execute_result"
    }
   ],
   "source": [
    "df_class.sample(5)"
   ]
  },
  {
   "cell_type": "code",
   "execution_count": 10,
   "metadata": {
    "colab": {
     "base_uri": "https://localhost:8080/"
    },
    "id": "ICGM9brdK8P8",
    "outputId": "43d97c93-a759-47c5-b042-32451dc4d7d1"
   },
   "outputs": [
    {
     "data": {
      "text/plain": [
       "0"
      ]
     },
     "execution_count": 10,
     "metadata": {},
     "output_type": "execute_result"
    }
   ],
   "source": [
    "# checking for null\n",
    "df_class.isnull().sum().sum()"
   ]
  },
  {
   "cell_type": "code",
   "execution_count": 11,
   "metadata": {
    "colab": {
     "base_uri": "https://localhost:8080/"
    },
    "id": "z1HVI2ggLA68",
    "outputId": "f1223cc1-f536-4c70-9066-35b59a4591a8"
   },
   "outputs": [
    {
     "data": {
      "text/plain": [
       "(207, 9)"
      ]
     },
     "execution_count": 11,
     "metadata": {},
     "output_type": "execute_result"
    }
   ],
   "source": [
    "# dimension\n",
    "\n",
    "df_class.shape"
   ]
  },
  {
   "cell_type": "markdown",
   "metadata": {
    "id": "ZO-z1MlZLRaE"
   },
   "source": [
    "## Exploratory Data Analysis"
   ]
  },
  {
   "cell_type": "code",
   "execution_count": 12,
   "metadata": {
    "colab": {
     "base_uri": "https://localhost:8080/"
    },
    "id": "NM7CqwNeNBEy",
    "outputId": "28f267f1-4e3a-4f5f-9176-d219e8db90e3"
   },
   "outputs": [
    {
     "data": {
      "text/plain": [
       "Resource Person\n",
       "Mrs. Akshara Sasidharan    28.99\n",
       "Mrs. Veena A Kumar         26.57\n",
       "Mrs. Gayathri J L          14.98\n",
       "Mr. Arun Sebastian         14.98\n",
       "Dr. Anju Pratap            14.49\n",
       "Name: proportion, dtype: float64"
      ]
     },
     "execution_count": 12,
     "metadata": {},
     "output_type": "execute_result"
    }
   ],
   "source": [
    "## creating a percentage analysis of rp-wise distribution of data\n",
    "round(df_class[\"Resource Person\"].value_counts(normalize=True)*100,2)"
   ]
  },
  {
   "cell_type": "code",
   "execution_count": 13,
   "metadata": {},
   "outputs": [
    {
     "data": {
      "text/plain": [
       "Name\n",
       "Rizia Sara Prabin            3.86\n",
       "Sidharth V Menon             3.86\n",
       "Aaron James Koshy            3.38\n",
       "Rahul Biju                   3.38\n",
       "Abna Ev                      3.38\n",
       "Allen John Manoj             3.38\n",
       "Christo Joseph Sajan         3.38\n",
       "Jobinjoy Ponnappal           3.38\n",
       "Varsha S Panicker            3.38\n",
       "Nandana A                    3.38\n",
       "Rahul Krishnan               3.38\n",
       "Anjana Vinod                 3.38\n",
       "Kevin Kizhakekuttu Thomas    3.38\n",
       "Lara Marium Jacob            3.38\n",
       "Abia Abraham                 3.38\n",
       "Shalin Ann Thomas            3.38\n",
       "Jobin Pius                   3.38\n",
       "Sebin Sebastian              2.90\n",
       "Aaron Thomas Blessen         2.90\n",
       "Sani Anna Varghese           2.90\n",
       "Bhagya Sureshkumar           2.90\n",
       "Leya Kurian                  2.90\n",
       "Jobin Tom                    2.90\n",
       "Anaswara Biju                2.42\n",
       "Muhamed Adil                 2.42\n",
       "Aiswarya Arun                2.42\n",
       "Mathews Reji                 1.93\n",
       "Marianna Martin              1.93\n",
       "Riya Sara Shibu              1.93\n",
       "Riya Sara Shibu              1.45\n",
       "MATHEWS REJI                 1.45\n",
       "Sarang kj                    1.45\n",
       "Lisbeth Ajith                1.45\n",
       "Aiswarya Arun                0.97\n",
       "Muhamed Adil                 0.97\n",
       "Marianna Martin              0.97\n",
       "Lisbeth Ajith                0.48\n",
       "Anaswara Biju                0.48\n",
       "Lisbeth                      0.48\n",
       "Jobin Tom                    0.48\n",
       "Aaron Thomas Blessen         0.48\n",
       "Name: proportion, dtype: float64"
      ]
     },
     "execution_count": 13,
     "metadata": {},
     "output_type": "execute_result"
    }
   ],
   "source": [
    "## creating a percentage analysis of rp-wise distribution of data\n",
    "round(df_class[\"Name\"].value_counts(normalize=True)*100,2)"
   ]
  },
  {
   "cell_type": "markdown",
   "metadata": {
    "id": "SzwBdc2sNpH7"
   },
   "source": [
    "## Visualization"
   ]
  },
  {
   "cell_type": "code",
   "execution_count": 18,
   "metadata": {},
   "outputs": [
    {
     "data": {
      "image/png": "[encoded data removed]",
      "text/plain": [
       "<Figure size 1200x600 with 2 Axes>"
      ]
     },
     "metadata": {},
     "output_type": "display_data"
    }
   ],
   "source": [
    "# Set up the figure and axes\n",
    "fig, axs = plt.subplots(1, 2, figsize=(12, 6), gridspec_kw={'width_ratios': [1, 1]})\n",
    "\n",
    "# Plot countplot on the first subplot\n",
    "ax1 = sns.countplot(x='Resource Person', data=df_class, ax=axs[0])\n",
    "ax1.set_title(\"Faculty-wise distribution of data\", fontsize=20, color='Brown', pad=20)\n",
    "plt.sca(ax1)  # Set the current axis to ax1\n",
    "plt.xticks(rotation=90)  # Rotate x-axis labels\n",
    "\n",
    "# Plot pie chart on the second subplot\n",
    "ax2 = df_class['Resource Person'].value_counts().plot.pie(explode=[0.1, 0.1, 0.1, 0.1,0.1], autopct='%1.2f%%', shadow=True, ax=axs[1])\n",
    "ax2.set_title(\"Resource Person\", fontsize=20, color='Brown', pad=20)\n",
    "\n",
    "# Adjust layout to provide space between subplots\n",
    "plt.tight_layout()\n",
    "\n",
    "# Show plot\n",
    "plt.show()\n"
   ]
  },
  {
   "cell_type": "markdown",
   "metadata": {
    "id": "yWlLgr5sX0_z"
   },
   "source": [
    "## Summary of Responses\n",
    "CIRCLES in graph means outliers/anomalies.\n",
    "LINE inside coloured box means mean value.NOT SURE ABOUT THIS LINE"
   ]
  },
  {
   "cell_type": "code",
   "execution_count": 19,
   "metadata": {
    "colab": {
     "base_uri": "https://localhost:8080/",
     "height": 265
    },
    "id": "JHaFVI3nX2fl",
    "outputId": "09793029-e749-4010-ef19-3e6202e0acfa"
   },
   "outputs": [
    {
     "data": {
      "image/png": "[encoded data removed]",
      "text/plain": [
       "<Figure size 640x480 with 1 Axes>"
      ]
     },
     "metadata": {},
     "output_type": "display_data"
    }
   ],
   "source": [
    "sns.boxplot(y=df_class['Resource Person'],x=df_class['Content Quality'],color='g')\n",
    "plt.show()"
   ]
  },
  {
   "cell_type": "code",
   "execution_count": 20,
   "metadata": {},
   "outputs": [
    {
     "data": {
      "image/png": "[encoded data removed]",
      "text/plain": [
       "<Figure size 640x480 with 1 Axes>"
      ]
     },
     "metadata": {},
     "output_type": "display_data"
    }
   ],
   "source": [
    "sns.boxplot(y=df_class['Resource Person'],x=df_class['Effectiveness'],color='b')\n",
    "plt.show()"
   ]
  },
  {
   "cell_type": "code",
   "execution_count": 21,
   "metadata": {},
   "outputs": [
    {
     "data": {
      "image/png": "[encoded data removed]",
      "text/plain": [
       "<Figure size 640x480 with 1 Axes>"
      ]
     },
     "metadata": {},
     "output_type": "display_data"
    }
   ],
   "source": [
    "sns.boxplot(y=df_class['Resource Person'],x=df_class['Expertise'],color='y')\n",
    "plt.show()"
   ]
  },
  {
   "cell_type": "code",
   "execution_count": 22,
   "metadata": {},
   "outputs": [
    {
     "data": {
      "image/png": "[encoded data removed]",
      "text/plain": [
       "<Figure size 640x480 with 1 Axes>"
      ]
     },
     "metadata": {},
     "output_type": "display_data"
    }
   ],
   "source": [
    "sns.boxplot(y=df_class['Resource Person'],x=df_class['Relevance'],color='m')\n",
    "plt.show()"
   ]
  },
  {
   "cell_type": "code",
   "execution_count": 24,
   "metadata": {},
   "outputs": [
    {
     "data": {
      "image/png": "[encoded data removed]",
      "text/plain": [
       "<Figure size 640x480 with 1 Axes>"
      ]
     },
     "metadata": {},
     "output_type": "display_data"
    }
   ],
   "source": [
    "sns.boxplot(y=df_class['Resource Person'],x=df_class['Overall organisation'],color='r')\n",
    "plt.show()"
   ]
  },
  {
   "cell_type": "code",
   "execution_count": 25,
   "metadata": {
    "colab": {
     "base_uri": "https://localhost:8080/",
     "height": 302
    },
    "id": "pvAeyrVpYNCe",
    "outputId": "c1eea76f-fa15-4537-fe93-47c3e20875ae"
   },
   "outputs": [
    {
     "data": {
      "image/png": "[encoded data removed]",
      "text/plain": [
       "<Figure size 640x480 with 1 Axes>"
      ]
     },
     "metadata": {},
     "output_type": "display_data"
    }
   ],
   "source": [
    "sns.boxplot(y=df_class['Resource Person'],x=df_class['Branch'],color='c')\n",
    "plt.show()"
   ]
  },
  {
   "cell_type": "code",
   "execution_count": 39,
   "metadata": {},
   "outputs": [
    {
     "ename": "ValueError",
     "evalue": "Invalid RGBA argument: 'bl'",
     "output_type": "error",
     "traceback": [
      "\u001b[0;31m---------------------------------------------------------------------------\u001b[0m",
      "\u001b[0;31mValueError\u001b[0m                                Traceback (most recent call last)",
      "Cell \u001b[0;32mIn[39], line 1\u001b[0m\n\u001b[0;32m----> 1\u001b[0m \u001b[43msns\u001b[49m\u001b[38;5;241;43m.\u001b[39;49m\u001b[43mboxplot\u001b[49m\u001b[43m(\u001b[49m\u001b[43my\u001b[49m\u001b[38;5;241;43m=\u001b[39;49m\u001b[43mdf_class\u001b[49m\u001b[43m[\u001b[49m\u001b[38;5;124;43m'\u001b[39;49m\u001b[38;5;124;43mBranch\u001b[39;49m\u001b[38;5;124;43m'\u001b[39;49m\u001b[43m]\u001b[49m\u001b[43m,\u001b[49m\u001b[43mx\u001b[49m\u001b[38;5;241;43m=\u001b[39;49m\u001b[43mdf_class\u001b[49m\u001b[43m[\u001b[49m\u001b[38;5;124;43m'\u001b[39;49m\u001b[38;5;124;43mContent Quality\u001b[39;49m\u001b[38;5;124;43m'\u001b[39;49m\u001b[43m]\u001b[49m\u001b[43m,\u001b[49m\u001b[43mcolor\u001b[49m\u001b[38;5;241;43m=\u001b[39;49m\u001b[38;5;124;43m'\u001b[39;49m\u001b[38;5;124;43mbl\u001b[39;49m\u001b[38;5;124;43m'\u001b[39;49m\u001b[43m)\u001b[49m\n\u001b[1;32m      2\u001b[0m plt\u001b[38;5;241m.\u001b[39mshow()\n",
      "File \u001b[0;32m~/.local/lib/python3.9/site-packages/seaborn/categorical.py:1627\u001b[0m, in \u001b[0;36mboxplot\u001b[0;34m(data, x, y, hue, order, hue_order, orient, color, palette, saturation, fill, dodge, width, gap, whis, linecolor, linewidth, fliersize, hue_norm, native_scale, log_scale, formatter, legend, ax, **kwargs)\u001b[0m\n\u001b[1;32m   1625\u001b[0m saturation \u001b[38;5;241m=\u001b[39m saturation \u001b[38;5;28;01mif\u001b[39;00m fill \u001b[38;5;28;01melse\u001b[39;00m \u001b[38;5;241m1\u001b[39m\n\u001b[1;32m   1626\u001b[0m p\u001b[38;5;241m.\u001b[39mmap_hue(palette\u001b[38;5;241m=\u001b[39mpalette, order\u001b[38;5;241m=\u001b[39mhue_order, norm\u001b[38;5;241m=\u001b[39mhue_norm, saturation\u001b[38;5;241m=\u001b[39msaturation)\n\u001b[0;32m-> 1627\u001b[0m color \u001b[38;5;241m=\u001b[39m \u001b[43m_default_color\u001b[49m\u001b[43m(\u001b[49m\n\u001b[1;32m   1628\u001b[0m \u001b[43m    \u001b[49m\u001b[43max\u001b[49m\u001b[38;5;241;43m.\u001b[39;49m\u001b[43mfill_between\u001b[49m\u001b[43m,\u001b[49m\u001b[43m \u001b[49m\u001b[43mhue\u001b[49m\u001b[43m,\u001b[49m\u001b[43m \u001b[49m\u001b[43mcolor\u001b[49m\u001b[43m,\u001b[49m\n\u001b[1;32m   1629\u001b[0m \u001b[43m    \u001b[49m\u001b[43m{\u001b[49m\u001b[43mk\u001b[49m\u001b[43m:\u001b[49m\u001b[43m \u001b[49m\u001b[43mv\u001b[49m\u001b[43m \u001b[49m\u001b[38;5;28;43;01mfor\u001b[39;49;00m\u001b[43m \u001b[49m\u001b[43mk\u001b[49m\u001b[43m,\u001b[49m\u001b[43m \u001b[49m\u001b[43mv\u001b[49m\u001b[43m \u001b[49m\u001b[38;5;129;43;01min\u001b[39;49;00m\u001b[43m \u001b[49m\u001b[43mkwargs\u001b[49m\u001b[38;5;241;43m.\u001b[39;49m\u001b[43mitems\u001b[49m\u001b[43m(\u001b[49m\u001b[43m)\u001b[49m\u001b[43m \u001b[49m\u001b[38;5;28;43;01mif\u001b[39;49;00m\u001b[43m \u001b[49m\u001b[43mk\u001b[49m\u001b[43m \u001b[49m\u001b[38;5;129;43;01min\u001b[39;49;00m\u001b[43m \u001b[49m\u001b[43m[\u001b[49m\u001b[38;5;124;43m\"\u001b[39;49m\u001b[38;5;124;43mc\u001b[39;49m\u001b[38;5;124;43m\"\u001b[39;49m\u001b[43m,\u001b[49m\u001b[43m \u001b[49m\u001b[38;5;124;43m\"\u001b[39;49m\u001b[38;5;124;43mcolor\u001b[39;49m\u001b[38;5;124;43m\"\u001b[39;49m\u001b[43m,\u001b[49m\u001b[43m \u001b[49m\u001b[38;5;124;43m\"\u001b[39;49m\u001b[38;5;124;43mfc\u001b[39;49m\u001b[38;5;124;43m\"\u001b[39;49m\u001b[43m,\u001b[49m\u001b[43m \u001b[49m\u001b[38;5;124;43m\"\u001b[39;49m\u001b[38;5;124;43mfacecolor\u001b[39;49m\u001b[38;5;124;43m\"\u001b[39;49m\u001b[43m]\u001b[49m\u001b[43m}\u001b[49m\u001b[43m,\u001b[49m\n\u001b[1;32m   1630\u001b[0m \u001b[43m    \u001b[49m\u001b[43msaturation\u001b[49m\u001b[38;5;241;43m=\u001b[39;49m\u001b[43msaturation\u001b[49m\u001b[43m,\u001b[49m\n\u001b[1;32m   1631\u001b[0m \u001b[43m\u001b[49m\u001b[43m)\u001b[49m\n\u001b[1;32m   1632\u001b[0m linecolor \u001b[38;5;241m=\u001b[39m p\u001b[38;5;241m.\u001b[39m_complement_color(linecolor, color, p\u001b[38;5;241m.\u001b[39m_hue_map)\n\u001b[1;32m   1634\u001b[0m p\u001b[38;5;241m.\u001b[39mplot_boxes(\n\u001b[1;32m   1635\u001b[0m     width\u001b[38;5;241m=\u001b[39mwidth,\n\u001b[1;32m   1636\u001b[0m     dodge\u001b[38;5;241m=\u001b[39mdodge,\n\u001b[0;32m   (...)\u001b[0m\n\u001b[1;32m   1644\u001b[0m     plot_kws\u001b[38;5;241m=\u001b[39mkwargs,\n\u001b[1;32m   1645\u001b[0m )\n",
      "File \u001b[0;32m~/.local/lib/python3.9/site-packages/seaborn/utils.py:85\u001b[0m, in \u001b[0;36m_default_color\u001b[0;34m(method, hue, color, kws, saturation)\u001b[0m\n\u001b[1;32m     83\u001b[0m \u001b[38;5;28;01mif\u001b[39;00m color \u001b[38;5;129;01mis\u001b[39;00m \u001b[38;5;129;01mnot\u001b[39;00m \u001b[38;5;28;01mNone\u001b[39;00m:\n\u001b[1;32m     84\u001b[0m     \u001b[38;5;28;01mif\u001b[39;00m saturation \u001b[38;5;241m<\u001b[39m \u001b[38;5;241m1\u001b[39m:\n\u001b[0;32m---> 85\u001b[0m         color \u001b[38;5;241m=\u001b[39m \u001b[43mdesaturate\u001b[49m\u001b[43m(\u001b[49m\u001b[43mcolor\u001b[49m\u001b[43m,\u001b[49m\u001b[43m \u001b[49m\u001b[43msaturation\u001b[49m\u001b[43m)\u001b[49m\n\u001b[1;32m     86\u001b[0m     \u001b[38;5;28;01mreturn\u001b[39;00m color\n\u001b[1;32m     88\u001b[0m \u001b[38;5;28;01melif\u001b[39;00m method\u001b[38;5;241m.\u001b[39m\u001b[38;5;18m__name__\u001b[39m \u001b[38;5;241m==\u001b[39m \u001b[38;5;124m\"\u001b[39m\u001b[38;5;124mplot\u001b[39m\u001b[38;5;124m\"\u001b[39m:\n",
      "File \u001b[0;32m~/.local/lib/python3.9/site-packages/seaborn/utils.py:168\u001b[0m, in \u001b[0;36mdesaturate\u001b[0;34m(color, prop)\u001b[0m\n\u001b[1;32m    165\u001b[0m     \u001b[38;5;28;01mraise\u001b[39;00m \u001b[38;5;167;01mValueError\u001b[39;00m(\u001b[38;5;124m\"\u001b[39m\u001b[38;5;124mprop must be between 0 and 1\u001b[39m\u001b[38;5;124m\"\u001b[39m)\n\u001b[1;32m    167\u001b[0m \u001b[38;5;66;03m# Get rgb tuple rep\u001b[39;00m\n\u001b[0;32m--> 168\u001b[0m rgb \u001b[38;5;241m=\u001b[39m \u001b[43mto_rgb\u001b[49m\u001b[43m(\u001b[49m\u001b[43mcolor\u001b[49m\u001b[43m)\u001b[49m\n\u001b[1;32m    170\u001b[0m \u001b[38;5;66;03m# Short circuit to avoid floating point issues\u001b[39;00m\n\u001b[1;32m    171\u001b[0m \u001b[38;5;28;01mif\u001b[39;00m prop \u001b[38;5;241m==\u001b[39m \u001b[38;5;241m1\u001b[39m:\n",
      "File \u001b[0;32m/glob/development-tools/versions/oneapi/2023.2.0.1/inteloneapi/intelpython/latest/lib/python3.9/site-packages/matplotlib/colors.py:496\u001b[0m, in \u001b[0;36mto_rgb\u001b[0;34m(c)\u001b[0m\n\u001b[1;32m    494\u001b[0m \u001b[38;5;28;01mdef\u001b[39;00m \u001b[38;5;21mto_rgb\u001b[39m(c):\n\u001b[1;32m    495\u001b[0m \u001b[38;5;250m    \u001b[39m\u001b[38;5;124;03m\"\"\"Convert *c* to an RGB color, silently dropping the alpha channel.\"\"\"\u001b[39;00m\n\u001b[0;32m--> 496\u001b[0m     \u001b[38;5;28;01mreturn\u001b[39;00m \u001b[43mto_rgba\u001b[49m\u001b[43m(\u001b[49m\u001b[43mc\u001b[49m\u001b[43m)\u001b[49m[:\u001b[38;5;241m3\u001b[39m]\n",
      "File \u001b[0;32m/glob/development-tools/versions/oneapi/2023.2.0.1/inteloneapi/intelpython/latest/lib/python3.9/site-packages/matplotlib/colors.py:299\u001b[0m, in \u001b[0;36mto_rgba\u001b[0;34m(c, alpha)\u001b[0m\n\u001b[1;32m    297\u001b[0m     rgba \u001b[38;5;241m=\u001b[39m \u001b[38;5;28;01mNone\u001b[39;00m\n\u001b[1;32m    298\u001b[0m \u001b[38;5;28;01mif\u001b[39;00m rgba \u001b[38;5;129;01mis\u001b[39;00m \u001b[38;5;28;01mNone\u001b[39;00m:  \u001b[38;5;66;03m# Suppress exception chaining of cache lookup failure.\u001b[39;00m\n\u001b[0;32m--> 299\u001b[0m     rgba \u001b[38;5;241m=\u001b[39m \u001b[43m_to_rgba_no_colorcycle\u001b[49m\u001b[43m(\u001b[49m\u001b[43mc\u001b[49m\u001b[43m,\u001b[49m\u001b[43m \u001b[49m\u001b[43malpha\u001b[49m\u001b[43m)\u001b[49m\n\u001b[1;32m    300\u001b[0m     \u001b[38;5;28;01mtry\u001b[39;00m:\n\u001b[1;32m    301\u001b[0m         _colors_full_map\u001b[38;5;241m.\u001b[39mcache[c, alpha] \u001b[38;5;241m=\u001b[39m rgba\n",
      "File \u001b[0;32m/glob/development-tools/versions/oneapi/2023.2.0.1/inteloneapi/intelpython/latest/lib/python3.9/site-packages/matplotlib/colors.py:374\u001b[0m, in \u001b[0;36m_to_rgba_no_colorcycle\u001b[0;34m(c, alpha)\u001b[0m\n\u001b[1;32m    370\u001b[0m             \u001b[38;5;28;01mraise\u001b[39;00m \u001b[38;5;167;01mValueError\u001b[39;00m(\n\u001b[1;32m    371\u001b[0m                 \u001b[38;5;124mf\u001b[39m\u001b[38;5;124m\"\u001b[39m\u001b[38;5;124mInvalid string grayscale value \u001b[39m\u001b[38;5;132;01m{\u001b[39;00morig_c\u001b[38;5;132;01m!r}\u001b[39;00m\u001b[38;5;124m. \u001b[39m\u001b[38;5;124m\"\u001b[39m\n\u001b[1;32m    372\u001b[0m                 \u001b[38;5;124mf\u001b[39m\u001b[38;5;124m\"\u001b[39m\u001b[38;5;124mValue must be within 0-1 range\u001b[39m\u001b[38;5;124m\"\u001b[39m)\n\u001b[1;32m    373\u001b[0m         \u001b[38;5;28;01mreturn\u001b[39;00m c, c, c, alpha \u001b[38;5;28;01mif\u001b[39;00m alpha \u001b[38;5;129;01mis\u001b[39;00m \u001b[38;5;129;01mnot\u001b[39;00m \u001b[38;5;28;01mNone\u001b[39;00m \u001b[38;5;28;01melse\u001b[39;00m \u001b[38;5;241m1.\u001b[39m\n\u001b[0;32m--> 374\u001b[0m     \u001b[38;5;28;01mraise\u001b[39;00m \u001b[38;5;167;01mValueError\u001b[39;00m(\u001b[38;5;124mf\u001b[39m\u001b[38;5;124m\"\u001b[39m\u001b[38;5;124mInvalid RGBA argument: \u001b[39m\u001b[38;5;132;01m{\u001b[39;00morig_c\u001b[38;5;132;01m!r}\u001b[39;00m\u001b[38;5;124m\"\u001b[39m)\n\u001b[1;32m    375\u001b[0m \u001b[38;5;66;03m# turn 2-D array into 1-D array\u001b[39;00m\n\u001b[1;32m    376\u001b[0m \u001b[38;5;28;01mif\u001b[39;00m \u001b[38;5;28misinstance\u001b[39m(c, np\u001b[38;5;241m.\u001b[39mndarray):\n",
      "\u001b[0;31mValueError\u001b[0m: Invalid RGBA argument: 'bl'"
     ]
    },
    {
     "data": {
      "image/png": "[encoded data removed]",
      "text/plain": [
       "<Figure size 640x480 with 1 Axes>"
      ]
     },
     "metadata": {},
     "output_type": "display_data"
    }
   ],
   "source": [
    "sns.boxplot(y=df_class['Branch'],x=df_class['Content Quality'],color='bl')\n",
    "plt.show()"
   ]
  },
  {
   "cell_type": "markdown",
   "metadata": {},
   "source": [
    "# Using K Means Clustering to identify segmentation over student's satisfaction "
   ]
  },
  {
   "cell_type": "markdown",
   "metadata": {},
   "source": [
    "## Finding the best value of k using elbow method"
   ]
  },
  {
   "cell_type": "code",
   "execution_count": 40,
   "metadata": {},
   "outputs": [],
   "source": [
    "input_col=[\"Content Quality\",\"Effectiveness\",\"Expertise\",\"Relevance\",\"Overall organisation\"]\n",
    "x=df_class[input_col].values"
   ]
  },
  {
   "cell_type": "markdown",
   "metadata": {
    "id": "adKSZtF3Rg49"
   },
   "source": [
    "## Age group"
   ]
  },
  {
   "cell_type": "code",
   "execution_count": 41,
   "metadata": {
    "colab": {
     "base_uri": "https://localhost:8080/"
    },
    "id": "qwze9G2aRgQk",
    "outputId": "d6137713-aad7-4b69-b311-f7f8f000f6fe"
   },
   "outputs": [
    {
     "ename": "KeyError",
     "evalue": "'Age_group'",
     "output_type": "error",
     "traceback": [
      "\u001b[0;31m---------------------------------------------------------------------------\u001b[0m",
      "\u001b[0;31mKeyError\u001b[0m                                  Traceback (most recent call last)",
      "File \u001b[0;32m~/.local/lib/python3.9/site-packages/pandas/core/indexes/base.py:3652\u001b[0m, in \u001b[0;36mIndex.get_loc\u001b[0;34m(self, key)\u001b[0m\n\u001b[1;32m   3651\u001b[0m \u001b[38;5;28;01mtry\u001b[39;00m:\n\u001b[0;32m-> 3652\u001b[0m     \u001b[38;5;28;01mreturn\u001b[39;00m \u001b[38;5;28;43mself\u001b[39;49m\u001b[38;5;241;43m.\u001b[39;49m\u001b[43m_engine\u001b[49m\u001b[38;5;241;43m.\u001b[39;49m\u001b[43mget_loc\u001b[49m\u001b[43m(\u001b[49m\u001b[43mcasted_key\u001b[49m\u001b[43m)\u001b[49m\n\u001b[1;32m   3653\u001b[0m \u001b[38;5;28;01mexcept\u001b[39;00m \u001b[38;5;167;01mKeyError\u001b[39;00m \u001b[38;5;28;01mas\u001b[39;00m err:\n",
      "File \u001b[0;32m~/.local/lib/python3.9/site-packages/pandas/_libs/index.pyx:147\u001b[0m, in \u001b[0;36mpandas._libs.index.IndexEngine.get_loc\u001b[0;34m()\u001b[0m\n",
      "File \u001b[0;32m~/.local/lib/python3.9/site-packages/pandas/_libs/index.pyx:176\u001b[0m, in \u001b[0;36mpandas._libs.index.IndexEngine.get_loc\u001b[0;34m()\u001b[0m\n",
      "File \u001b[0;32mpandas/_libs/hashtable_class_helper.pxi:7080\u001b[0m, in \u001b[0;36mpandas._libs.hashtable.PyObjectHashTable.get_item\u001b[0;34m()\u001b[0m\n",
      "File \u001b[0;32mpandas/_libs/hashtable_class_helper.pxi:7088\u001b[0m, in \u001b[0;36mpandas._libs.hashtable.PyObjectHashTable.get_item\u001b[0;34m()\u001b[0m\n",
      "\u001b[0;31mKeyError\u001b[0m: 'Age_group'",
      "\nThe above exception was the direct cause of the following exception:\n",
      "\u001b[0;31mKeyError\u001b[0m                                  Traceback (most recent call last)",
      "Cell \u001b[0;32mIn[41], line 2\u001b[0m\n\u001b[1;32m      1\u001b[0m \u001b[38;5;66;03m## creating a percentage analysis of gender-wise distribution of data\u001b[39;00m\n\u001b[0;32m----> 2\u001b[0m \u001b[38;5;28mround\u001b[39m(\u001b[43mdf_class\u001b[49m\u001b[43m[\u001b[49m\u001b[38;5;124;43m\"\u001b[39;49m\u001b[38;5;124;43mAge_group\u001b[39;49m\u001b[38;5;124;43m\"\u001b[39;49m\u001b[43m]\u001b[49m\u001b[38;5;241m.\u001b[39mvalue_counts(normalize\u001b[38;5;241m=\u001b[39m\u001b[38;5;28;01mTrue\u001b[39;00m)\u001b[38;5;241m*\u001b[39m\u001b[38;5;241m100\u001b[39m,\u001b[38;5;241m2\u001b[39m)\n",
      "File \u001b[0;32m~/.local/lib/python3.9/site-packages/pandas/core/frame.py:3760\u001b[0m, in \u001b[0;36mDataFrame.__getitem__\u001b[0;34m(self, key)\u001b[0m\n\u001b[1;32m   3758\u001b[0m \u001b[38;5;28;01mif\u001b[39;00m \u001b[38;5;28mself\u001b[39m\u001b[38;5;241m.\u001b[39mcolumns\u001b[38;5;241m.\u001b[39mnlevels \u001b[38;5;241m>\u001b[39m \u001b[38;5;241m1\u001b[39m:\n\u001b[1;32m   3759\u001b[0m     \u001b[38;5;28;01mreturn\u001b[39;00m \u001b[38;5;28mself\u001b[39m\u001b[38;5;241m.\u001b[39m_getitem_multilevel(key)\n\u001b[0;32m-> 3760\u001b[0m indexer \u001b[38;5;241m=\u001b[39m \u001b[38;5;28;43mself\u001b[39;49m\u001b[38;5;241;43m.\u001b[39;49m\u001b[43mcolumns\u001b[49m\u001b[38;5;241;43m.\u001b[39;49m\u001b[43mget_loc\u001b[49m\u001b[43m(\u001b[49m\u001b[43mkey\u001b[49m\u001b[43m)\u001b[49m\n\u001b[1;32m   3761\u001b[0m \u001b[38;5;28;01mif\u001b[39;00m is_integer(indexer):\n\u001b[1;32m   3762\u001b[0m     indexer \u001b[38;5;241m=\u001b[39m [indexer]\n",
      "File \u001b[0;32m~/.local/lib/python3.9/site-packages/pandas/core/indexes/base.py:3654\u001b[0m, in \u001b[0;36mIndex.get_loc\u001b[0;34m(self, key)\u001b[0m\n\u001b[1;32m   3652\u001b[0m     \u001b[38;5;28;01mreturn\u001b[39;00m \u001b[38;5;28mself\u001b[39m\u001b[38;5;241m.\u001b[39m_engine\u001b[38;5;241m.\u001b[39mget_loc(casted_key)\n\u001b[1;32m   3653\u001b[0m \u001b[38;5;28;01mexcept\u001b[39;00m \u001b[38;5;167;01mKeyError\u001b[39;00m \u001b[38;5;28;01mas\u001b[39;00m err:\n\u001b[0;32m-> 3654\u001b[0m     \u001b[38;5;28;01mraise\u001b[39;00m \u001b[38;5;167;01mKeyError\u001b[39;00m(key) \u001b[38;5;28;01mfrom\u001b[39;00m \u001b[38;5;21;01merr\u001b[39;00m\n\u001b[1;32m   3655\u001b[0m \u001b[38;5;28;01mexcept\u001b[39;00m \u001b[38;5;167;01mTypeError\u001b[39;00m:\n\u001b[1;32m   3656\u001b[0m     \u001b[38;5;66;03m# If we have a listlike key, _check_indexing_error will raise\u001b[39;00m\n\u001b[1;32m   3657\u001b[0m     \u001b[38;5;66;03m#  InvalidIndexError. Otherwise we fall through and re-raise\u001b[39;00m\n\u001b[1;32m   3658\u001b[0m     \u001b[38;5;66;03m#  the TypeError.\u001b[39;00m\n\u001b[1;32m   3659\u001b[0m     \u001b[38;5;28mself\u001b[39m\u001b[38;5;241m.\u001b[39m_check_indexing_error(key)\n",
      "\u001b[0;31mKeyError\u001b[0m: 'Age_group'"
     ]
    }
   ],
   "source": [
    "## creating a percentage analysis of gender-wise distribution of data\n",
    "round(df_class[\"Age_group\"].value_counts(normalize=True)*100,2)"
   ]
  },
  {
   "cell_type": "code",
   "execution_count": null,
   "metadata": {
    "colab": {
     "base_uri": "https://localhost:8080/",
     "height": 315
    },
    "id": "NtHHk_DnRpWN",
    "outputId": "32dc8e6f-e848-4431-a08e-50c2f56f4880"
   },
   "outputs": [],
   "source": [
    "ax = plt.subplot(1,2,1)\n",
    "ax = sns.countplot(x='Age_group', data=df_class)\n",
    "#ax.bar_label(ax.containers[0])\n",
    "plt.title(\"Age_group-wise distribution of data\", fontsize=20,color = 'Brown',pad=20)\n",
    "ax =plt.subplot(1,2,2)\n",
    "ax=df_class['Age_group'].value_counts().plot.pie(autopct='%1.2f%%',shadow=True);\n",
    "ax.set_title(label = \"Age_group\", fontsize = 20,color='Brown',pad=20);"
   ]
  },
  {
   "cell_type": "markdown",
   "metadata": {
    "id": "BEsIk2IcSEIs"
   },
   "source": [
    "## Fruit type -Orange"
   ]
  },
  {
   "cell_type": "code",
   "execution_count": null,
   "metadata": {
    "colab": {
     "base_uri": "https://localhost:8080/"
    },
    "id": "ukr-_h50SG4f",
    "outputId": "fb28bd99-40f0-465b-df34-37a8ee09b847"
   },
   "outputs": [],
   "source": [
    "## creating a percentage analysis of gender-wise distribution of data\n",
    "round(df_class[\"Orange\"].value_counts(normalize=True)*100,2)"
   ]
  },
  {
   "cell_type": "markdown",
   "metadata": {
    "id": "XeS10hjzU0Js"
   },
   "source": [
    "## Likeness of orange over age group\n",
    "\n",
    "A percentage analysis of likeness of orange over age category is shown below."
   ]
  },
  {
   "cell_type": "code",
   "execution_count": null,
   "metadata": {
    "colab": {
     "base_uri": "https://localhost:8080/",
     "height": 238
    },
    "id": "0gprLA87SSbB",
    "outputId": "6ad39993-345c-4fde-9923-abb50315f26b"
   },
   "outputs": [],
   "source": [
    "round(pd.crosstab(columns = df_class['Age_group'], index = df_class['Orange'],normalize=True)*100,2)"
   ]
  },
  {
   "cell_type": "code",
   "execution_count": null,
   "metadata": {
    "colab": {
     "base_uri": "https://localhost:8080/",
     "height": 434
    },
    "id": "R1AcGv1iVeGt",
    "outputId": "c800e382-9efe-4a15-fb78-d63a441215d7"
   },
   "outputs": [],
   "source": [
    "large_to_small = df_class.groupby('Orange').size().sort_values().index[::-1]\n",
    "ax = plt.subplot(1,2,1)\n",
    "ax = sns.countplot(x='Orange', data=df_class, order=large_to_small)\n",
    "plt.xticks(rotation=90)\n",
    "#ax.bar_label(ax.containers[0])\n",
    "plt.title(\"Likeness of Orange\", fontsize=20,color = 'Brown',pad=20)\n",
    "ax =plt.subplot(1,2,2)\n",
    "ax=df_class['Orange'].value_counts().plot.pie(autopct='%1.2f%%',shadow=True);\n",
    "ax.set_title(label = \"Orange\", fontsize = 20,color='Brown',pad=20);"
   ]
  },
  {
   "cell_type": "markdown",
   "metadata": {
    "id": "lPrR5tV9VDfa"
   },
   "source": [
    "## Grapes\n",
    "\n"
   ]
  },
  {
   "cell_type": "code",
   "execution_count": null,
   "metadata": {
    "colab": {
     "base_uri": "https://localhost:8080/"
    },
    "id": "uhfEN7GeVGLa",
    "outputId": "61c010d7-96b6-4119-b650-6489bc9b2108"
   },
   "outputs": [],
   "source": [
    "## creating a percentage analysis of gender-wise distribution of data\n",
    "round(df_class[\"Grapes\"].value_counts(normalize=True)*100,2)"
   ]
  },
  {
   "cell_type": "code",
   "execution_count": null,
   "metadata": {
    "colab": {
     "base_uri": "https://localhost:8080/",
     "height": 434
    },
    "id": "iGrkOoW4VU6C",
    "outputId": "beb0aa98-4678-4483-a4c6-7b421ac7ba9c"
   },
   "outputs": [],
   "source": [
    "large_to_small = df_class.groupby('Grapes').size().sort_values().index[::-1]\n",
    "ax = plt.subplot(1,2,1)\n",
    "ax = sns.countplot(x='Grapes', data=df_class, order=large_to_small)\n",
    "plt.xticks(rotation=90)\n",
    "#ax.bar_label(ax.containers[0])\n",
    "plt.title(\"Likeness of Grapes\", fontsize=20,color = 'Brown',pad=20)\n",
    "ax =plt.subplot(1,2,2)\n",
    "ax=df_class['Grapes'].value_counts().plot.pie(autopct='%1.2f%%',shadow=True);\n",
    "ax.set_title(label = \"Grapes\", fontsize = 20,color='Brown',pad=20);"
   ]
  },
  {
   "cell_type": "code",
   "execution_count": null,
   "metadata": {
    "colab": {
     "base_uri": "https://localhost:8080/",
     "height": 237
    },
    "id": "UQzIh0mGYu4l",
    "outputId": "a9235a9c-1b53-47b7-8b8b-8a9a9a10e9a3"
   },
   "outputs": [],
   "source": [
    "round(pd.crosstab(columns = df_class['Age_group'], index = df_class['Grapes'],normalize=True)*100,2)"
   ]
  },
  {
   "cell_type": "markdown",
   "metadata": {
    "id": "RziNjQUqLSXw"
   },
   "source": [
    "## Fruit type -Banana"
   ]
  },
  {
   "cell_type": "code",
   "execution_count": null,
   "metadata": {
    "colab": {
     "base_uri": "https://localhost:8080/"
    },
    "id": "3bBxzF0FLWeH",
    "outputId": "cd650b16-db26-4a66-9fa5-b5ef0dbceff8"
   },
   "outputs": [],
   "source": [
    "## creating a percentage analysis of gender-wise distribution of data\n",
    "round(df_class[\"Banana\"].value_counts(normalize=True)*100,2)"
   ]
  },
  {
   "cell_type": "code",
   "execution_count": null,
   "metadata": {
    "colab": {
     "base_uri": "https://localhost:8080/",
     "height": 434
    },
    "id": "Yhtaoi3XLqnF",
    "outputId": "97e8505a-3526-4aed-b184-da37d4ce91ee"
   },
   "outputs": [],
   "source": [
    "large_to_small = df_class.groupby('Banana').size().sort_values().index[::-1]\n",
    "ax = plt.subplot(1,2,1)\n",
    "ax = sns.countplot(x='Banana', data=df_class, order=large_to_small)\n",
    "plt.xticks(rotation=90)\n",
    "#ax.bar_label(ax.containers[0])\n",
    "plt.title(\"Likeness of Banana\", fontsize=20,color = 'Brown',pad=20)\n",
    "ax =plt.subplot(1,2,2)\n",
    "ax=df_class['Banana'].value_counts().plot.pie(autopct='%1.2f%%',shadow=True);\n",
    "ax.set_title(label = \"Banana\", fontsize = 20,color='Brown',pad=20);"
   ]
  },
  {
   "cell_type": "code",
   "execution_count": null,
   "metadata": {
    "colab": {
     "base_uri": "https://localhost:8080/",
     "height": 238
    },
    "id": "FSgZDwlrMY98",
    "outputId": "5c2da91f-5361-4da0-a1ae-b28cc6af88f6"
   },
   "outputs": [],
   "source": [
    "round(pd.crosstab(columns = df_class['Age_group'], index = df_class['Banana'],normalize=True)*100,2)"
   ]
  },
  {
   "cell_type": "code",
   "execution_count": null,
   "metadata": {
    "colab": {
     "base_uri": "https://localhost:8080/",
     "height": 238
    },
    "id": "FD8PbMumMnd4",
    "outputId": "0cc1eba0-8808-4767-c8fc-a7e84769f896"
   },
   "outputs": [],
   "source": [
    "round(pd.crosstab(columns = df_class['Gender'], index = df_class['Banana'],normalize=True)*100,2)"
   ]
  },
  {
   "cell_type": "markdown",
   "metadata": {
    "id": "8DWcAcMeMYNB"
   },
   "source": []
  },
  {
   "cell_type": "markdown",
   "metadata": {
    "id": "cla211_BPg7Z"
   },
   "source": [
    "## Bring all the analysis into one figure"
   ]
  },
  {
   "cell_type": "code",
   "execution_count": null,
   "metadata": {
    "id": "e5eIrvhSPf9M"
   },
   "outputs": [],
   "source": [
    "df_long=pd.melt(df_class, id_vars=[\"Gender\",\"Age\",\"Weight\",\"Height\",\"Age_group\"], value_vars=[\"Orange\", \"Grapes\", \"Banana\",\"Apple\",\"Mango\",\"Cherry\"], var_name=\"Fruit\", value_name=\"Rating\", ignore_index=False)"
   ]
  },
  {
   "cell_type": "markdown",
   "metadata": {
    "id": "-fRlzyFCNgFB"
   },
   "source": [
    "## Comparison of Fruit preference"
   ]
  },
  {
   "cell_type": "code",
   "execution_count": null,
   "metadata": {
    "colab": {
     "base_uri": "https://localhost:8080/"
    },
    "id": "eoQqRJsgVTeS",
    "outputId": "5c28a8ff-ea9f-43b2-bb86-cbd621c69cb9"
   },
   "outputs": [],
   "source": [
    "df_long['Rating'].value_counts(ascending=False)"
   ]
  },
  {
   "cell_type": "code",
   "execution_count": null,
   "metadata": {
    "colab": {
     "base_uri": "https://localhost:8080/",
     "height": 238
    },
    "id": "x34SXMVUN1aK",
    "outputId": "299622b2-8547-4598-e94d-7f232be6bc51"
   },
   "outputs": [],
   "source": [
    "round(pd.crosstab(columns = df_long['Fruit'], index = df_long['Rating'],normalize=True)*100,2)"
   ]
  },
  {
   "cell_type": "code",
   "execution_count": null,
   "metadata": {
    "colab": {
     "base_uri": "https://localhost:8080/",
     "height": 300
    },
    "id": "caalfnOgOTHz",
    "outputId": "ae751594-7fa4-4147-e10d-70c2ad0975c6"
   },
   "outputs": [],
   "source": [
    "df_long.describe().style.background_gradient(cmap='rainbow').set_precision(3)"
   ]
  },
  {
   "cell_type": "code",
   "execution_count": null,
   "metadata": {
    "colab": {
     "base_uri": "https://localhost:8080/",
     "height": 1000
    },
    "id": "WQ4baNGhOuCs",
    "outputId": "bc4fc0fb-dcab-4ab0-df80-1139cfcc9006"
   },
   "outputs": [],
   "source": [
    "ax = plt.figure(figsize = (15,16))\n",
    "ax = plt.subplot(2,1,1)\n",
    "ax = sns.countplot(data=df_long, y='Fruit', hue='Rating',dodge=True)\n",
    "#ax.bar_label(ax.containers[0])\n",
    "plt.title(\"Fruit Type\", fontsize=20,color = 'Brown',pad=20)\n",
    "plt.legend(loc='upper right')\n",
    "plt.xticks(rotation=65)\n",
    "plt.tight_layout()\n",
    "\n",
    "ax =plt.subplot(2,1,2)\n",
    "ax=df_long['Rating'].value_counts().plot.pie(explode=[0.1, 0.1,0.1,0.1, 0.1],autopct='%1.2f%%',shadow=True);\n",
    "plt.tight_layout()\n",
    "plt.axis('off');"
   ]
  },
  {
   "cell_type": "markdown",
   "metadata": {
    "id": "zbmA1V8Obg07"
   },
   "source": [
    "## Generalisation of findings using inferential statistics"
   ]
  },
  {
   "cell_type": "code",
   "execution_count": null,
   "metadata": {
    "colab": {
     "base_uri": "https://localhost:8080/"
    },
    "id": "Ql2md13Sc2ls",
    "outputId": "0bb356d1-1749-4938-d944-0e43d213cb5b"
   },
   "outputs": [],
   "source": [
    "!pip install researchpy"
   ]
  },
  {
   "cell_type": "code",
   "execution_count": null,
   "metadata": {
    "id": "kJT8ZeXpcrMM"
   },
   "outputs": [],
   "source": [
    "# libraries for inferential analysis\n",
    "import researchpy as rp\n",
    "import scipy.stats as stats\n",
    "import statsmodels.api as sm"
   ]
  },
  {
   "cell_type": "markdown",
   "metadata": {
    "id": "BoZxTWNbboKd"
   },
   "source": [
    "1. **Significance of gender over the fruit rating categories**\n",
    "\n",
    "Here we starts with the assumtion that;\n",
    "\n",
    "$H_0$: Gender has no significance impact on the fruit rating level\n",
    "\n",
    "$H_1$: Gender has a significant impact on the fruit rating level\n",
    "\n",
    "Note that here both gender and fruit rating are categorical variable. So a possibility for cross tabulation is here. Hence we can check the homogenity of distribution using a $\\chi^2$ test."
   ]
  },
  {
   "cell_type": "code",
   "execution_count": null,
   "metadata": {
    "colab": {
     "base_uri": "https://localhost:8080/",
     "height": 269
    },
    "id": "_5bdTiV-d4rd",
    "outputId": "5fa8c9f4-0a24-4475-bc05-c8980a14f2d7"
   },
   "outputs": [],
   "source": [
    "# showing a summary of category wise distribution\n",
    "rp.summary_cat(df_long[[\"Gender\", \"Rating\"]])"
   ]
  },
  {
   "cell_type": "code",
   "execution_count": null,
   "metadata": {
    "id": "-m0l9_j0Nx4f"
   },
   "outputs": [],
   "source": [
    "# creating a contigency table\n",
    "ct1=pd.crosstab(index = df_long['Gender'], columns = df_long['Rating'])"
   ]
  },
  {
   "cell_type": "code",
   "execution_count": null,
   "metadata": {
    "colab": {
     "base_uri": "https://localhost:8080/",
     "height": 143
    },
    "id": "sYlMkzJKdnNx",
    "outputId": "7dd62637-7288-48eb-cb6d-d6cf8e1229ea"
   },
   "outputs": [],
   "source": [
    "ct1"
   ]
  },
  {
   "cell_type": "markdown",
   "metadata": {
    "id": "Be_hz3FmePR3"
   },
   "source": [
    "Now to pass this contingency table to the `scipy.stats` method. The output isn't the best formatted, but all the information is there. The information is returned within a tuple where the first value is the $\\chi^2$  test static, the second value is the p-value, and the third number is the degrees of freedom. An array is also returned which contains the expected cell counts."
   ]
  },
  {
   "cell_type": "code",
   "execution_count": null,
   "metadata": {
    "colab": {
     "base_uri": "https://localhost:8080/"
    },
    "id": "vZbBzWtQeWbb",
    "outputId": "a0e42355-a3eb-447f-f225-394257ea708c"
   },
   "outputs": [],
   "source": [
    "stats.chi2_contingency(ct1)\n"
   ]
  },
  {
   "cell_type": "markdown",
   "metadata": {
    "id": "egFbGP30ej27"
   },
   "source": [
    ">**Interpretation:** There is a relationship between gender and the fruit rating level, $\\chi^2(4) = 11.02, p< 0.05$."
   ]
  },
  {
   "cell_type": "markdown",
   "metadata": {
    "id": "G1I6nr1Fe9jj"
   },
   "source": [
    "### Using `Researchpy` library\n",
    "\n",
    "Now to conduct the $\\chi^2$ test of independence using `Researchpy`. The method that needs to be used is `researchpy.crosstab`.\n",
    "\n",
    "By default, the method returns the requested objects in a tuple that is just as ugly as `scipy.stats`. For cleaner output, one can assign each requested object from the tuple to another object and then those separately. The expected cell counts will be requested and used later while checking the assumptions for this statistical test. Additionally, will request the crosstabulation be returned with the cell percentage instead of the cell count."
   ]
  },
  {
   "cell_type": "code",
   "execution_count": null,
   "metadata": {
    "colab": {
     "base_uri": "https://localhost:8080/",
     "height": 206
    },
    "id": "NoWmXSkSfOj_",
    "outputId": "efe63aa8-7e98-4f3e-dd7e-6563cc63ced3"
   },
   "outputs": [],
   "source": [
    "crosstab, test_results, expected = rp.crosstab(df_long[\"Gender\"], df_long[\"Rating\"],\n",
    "                                               test= \"chi-square\",\n",
    "                                               expected_freqs= True,\n",
    "                                               prop= \"cell\")\n",
    "\n",
    "crosstab"
   ]
  },
  {
   "cell_type": "code",
   "execution_count": null,
   "metadata": {
    "colab": {
     "base_uri": "https://localhost:8080/",
     "height": 143
    },
    "id": "plExuPdlfhRN",
    "outputId": "6506e522-1d79-4a5b-b7c6-28413f9f7adb"
   },
   "outputs": [],
   "source": [
    "test_results\n"
   ]
  },
  {
   "cell_type": "markdown",
   "metadata": {
    "id": "d2bHCsCmfvqN"
   },
   "source": [
    "Since the Cramers' V is jist greater that 0.10, the test result is acceptable is just moderate. If it is greater than 0.25, then it is a strong result."
   ]
  },
  {
   "cell_type": "markdown",
   "metadata": {
    "id": "J0ifKrnggFZD"
   },
   "source": [
    "## ASSUMPTION CHECK\n",
    "Checking the assumptions for the $\\chi^2$ test of independence is easy. Let's recall what they are:\n",
    "\n",
    "- The two samples are independent\n",
    "\n",
    "- The variables were collected independently of each other, i.e. the answer from one variable was not dependent on the answer of the other\n",
    "\n",
    "- No expected cell count is = 0\n",
    "- No more than 20% of the cells have and expected cell count < 5\n",
    "\n",
    "The last two assumptions can be checked by looking at the expected frequency table."
   ]
  },
  {
   "cell_type": "code",
   "execution_count": null,
   "metadata": {
    "colab": {
     "base_uri": "https://localhost:8080/",
     "height": 175
    },
    "id": "ZP0_GsEbgTEO",
    "outputId": "2369c825-be40-456e-873d-68b5923d71fd"
   },
   "outputs": [],
   "source": [
    "expected\n"
   ]
  },
  {
   "cell_type": "markdown",
   "metadata": {
    "id": "lnaiYUWMg1aV"
   },
   "source": [
    "It can be seen that all the assumptions are met which indicates the statistical test results are reliable.\n",
    "\n"
   ]
  },
  {
   "cell_type": "markdown",
   "metadata": {
    "id": "vetK5M2nhC0A"
   },
   "source": [
    "## To assess the difference in the rating score over Gender"
   ]
  },
  {
   "cell_type": "code",
   "execution_count": null,
   "metadata": {
    "id": "EN8-GI7Zh2LL"
   },
   "outputs": [],
   "source": [
    "# transform rating vel to scores\n",
    "df_score=df_class\n",
    "# converting categorical rating to integers\n",
    "df_score[\"Orange\"]=df_score[\"Orange\"].map({'not at all': 1, 'if no other fruits available': 2,'some what':3,'seasonally':4,'my favorite':5 })\n",
    "df_score[\"Apple\"]=df_score[\"Apple\"].map({'not at all': 1, 'if no other fruits available': 2,'some what':3,'seasonally':4,'my favorite':5 })\n",
    "df_score[\"Banana\"]=df_score[\"Banana\"].map({'not at all': 1, 'if no other fruits available': 2,'some what':3,'seasonally':4,'my favorite':5 })\n",
    "df_score[\"Cherry\"]=df_score[\"Cherry\"].map({'not at all': 1, 'if no other fruits available': 2,'some what':3,'seasonally':4,'my favorite':5 })\n",
    "df_score[\"Grapes\"]=df_score[\"Grapes\"].map({'not at all': 1, 'if no other fruits available': 2,'some what':3,'seasonally':4,'my favorite':5 })\n",
    "df_score[\"Mango\"]=df_score[\"Mango\"].map({'not at all': 1, 'if no other fruits available': 2,'some what':3,'seasonally':4,'my favorite':5 })"
   ]
  },
  {
   "cell_type": "code",
   "execution_count": null,
   "metadata": {
    "id": "m4LP-k9jndjc"
   },
   "outputs": [],
   "source": [
    "#calculating total score per respondent\n",
    "df_score[\"Score\"]=df_score[\"Orange\"]+df_score[\"Apple\"]+df_score[\"Banana\"]+df_score[\"Cherry\"]+df_score[\"Grapes\"]+df_score[\"Mango\"]"
   ]
  },
  {
   "cell_type": "code",
   "execution_count": null,
   "metadata": {
    "colab": {
     "base_uri": "https://localhost:8080/",
     "height": 206
    },
    "id": "lp2s8gTJj6ol",
    "outputId": "0aa19a87-08c1-4834-e7c1-798b27f67b4b"
   },
   "outputs": [],
   "source": [
    "df_score.head()"
   ]
  },
  {
   "cell_type": "code",
   "execution_count": null,
   "metadata": {
    "id": "GHDOBxLLoUI4"
   },
   "outputs": [],
   "source": [
    "## melting dataframe\n",
    "df_long1=pd.melt(df_class, id_vars=[\"Gender\",\"Age\",\"Weight\",\"Height\",\"Age_group\",\"Score\"], value_vars=[\"Orange\", \"Grapes\", \"Banana\",\"Apple\",\"Mango\",\"Cherry\"], var_name=\"Fruit\", value_name=\"Rating\", ignore_index=False)"
   ]
  },
  {
   "cell_type": "code",
   "execution_count": null,
   "metadata": {
    "colab": {
     "base_uri": "https://localhost:8080/",
     "height": 206
    },
    "id": "e98ZQlmPoT85",
    "outputId": "daa22f9c-c07c-409b-8c6f-7a5c0c147a80"
   },
   "outputs": [],
   "source": [
    "df_long1.head()"
   ]
  },
  {
   "cell_type": "code",
   "execution_count": null,
   "metadata": {
    "colab": {
     "base_uri": "https://localhost:8080/",
     "height": 300
    },
    "id": "m9rWflvTrMEA",
    "outputId": "79dabde8-2a77-409a-8ec0-4245eb7de840"
   },
   "outputs": [],
   "source": [
    "df_long1.describe()"
   ]
  },
  {
   "cell_type": "code",
   "execution_count": null,
   "metadata": {
    "colab": {
     "base_uri": "https://localhost:8080/",
     "height": 115
    },
    "id": "dxWgus9ouVEE",
    "outputId": "455329ce-ae1e-4061-dc2d-bff12687385c"
   },
   "outputs": [],
   "source": [
    "rp.summary_cont(df_long1['Score'])\n"
   ]
  },
  {
   "cell_type": "code",
   "execution_count": null,
   "metadata": {
    "colab": {
     "base_uri": "https://localhost:8080/",
     "height": 178
    },
    "id": "1MH3ZYFYoIR4",
    "outputId": "b7c80f7e-5446-4e58-86d1-d1d61bb49a64"
   },
   "outputs": [],
   "source": [
    "## summary\n",
    "rp.summary_cont(df_long1['Score'].groupby(df_long1['Gender']))\n"
   ]
  },
  {
   "cell_type": "markdown",
   "metadata": {
    "id": "jZRhiTkpylTb"
   },
   "source": [
    "## Comparison of fruit rating score over gender using boxplot"
   ]
  },
  {
   "cell_type": "code",
   "execution_count": null,
   "metadata": {
    "colab": {
     "base_uri": "https://localhost:8080/",
     "height": 279
    },
    "id": "a534oNVmyrvX",
    "outputId": "725ea449-30c5-42eb-c133-7b2a48876d88"
   },
   "outputs": [],
   "source": [
    "import matplotlib.pyplot as plt\n",
    "import seaborn as sns\n",
    "ax = sns.boxplot(x='Gender', y='Score', data=df_long1, color='#99c2a2')\n",
    "ax = sns.stripplot(x=\"Gender\", y=\"Score\", data=df_long1, color='#7d0013')\n",
    "plt.show()"
   ]
  },
  {
   "cell_type": "markdown",
   "metadata": {
    "id": "7NnAPG4e1YcG"
   },
   "source": [
    "## Method-1 Using t-test\n",
    "Hypothesis are:\n",
    "\n",
    "$H_0$: There is no difference in the mean score over gender\n",
    "\n",
    "$H_1$: There is significant difference in the mean score over gender"
   ]
  },
  {
   "cell_type": "code",
   "execution_count": null,
   "metadata": {
    "colab": {
     "base_uri": "https://localhost:8080/"
    },
    "id": "aqBI0JKb1b7X",
    "outputId": "b1ec3a27-1416-4160-ed4f-6a5f45fe4343"
   },
   "outputs": [],
   "source": [
    "summary, results = rp.ttest(group1= df_long1['Score'][df_long1['Gender'] == 'Male'], group1_name= \"Male\",\n",
    "                            group2= df_long1['Score'][df_long1['Gender'] == 'Female'], group2_name= \"Female\")\n",
    "print(summary)"
   ]
  },
  {
   "cell_type": "code",
   "execution_count": null,
   "metadata": {
    "colab": {
     "base_uri": "https://localhost:8080/"
    },
    "id": "7blHnwWl2A3H",
    "outputId": "200d592f-0536-45c5-d4db-fb623a54b952"
   },
   "outputs": [],
   "source": [
    "print(results)"
   ]
  },
  {
   "cell_type": "markdown",
   "metadata": {
    "id": "oxsZaKERud9r"
   },
   "source": [
    "## ONE-WAY ANOVA USING `scipy.stat`\n",
    "\n",
    "Conducting an one-way ANOVA using `scipy.stats` is quick and only returns the restuling F-statistic and p-value of the test."
   ]
  },
  {
   "cell_type": "code",
   "execution_count": null,
   "metadata": {
    "colab": {
     "base_uri": "https://localhost:8080/"
    },
    "id": "J_m5-zviuSTc",
    "outputId": "8f32c4af-d759-4c7c-86f1-ab3aabf12cf4"
   },
   "outputs": [],
   "source": [
    "stats.f_oneway(df_long1['Score'][df_long1['Gender'] == 'Male'],\n",
    "               df_long1['Score'][df_long1['Gender'] == 'Female'])"
   ]
  },
  {
   "cell_type": "markdown",
   "metadata": {
    "id": "NBXHffHZu813"
   },
   "source": [
    ">**Interpretation:** Since p-value is less than 0.05, the null hypothesis that there is no significant difference in the fruit rating score over gender."
   ]
  },
  {
   "cell_type": "markdown",
   "metadata": {
    "id": "eMiV-4-ovJk8"
   },
   "source": [
    "## Using `statsmodels` library\n",
    "\n",
    "This method conducts a one-way ANOVA in two steps:\n",
    "\n",
    "- Fit the model using an estimation method,\n",
    "The default estimation method in most statistical software packages is ordinary least squares.\n",
    "- Pass fitted model into ANOVA method to produce ANOVA table"
   ]
  },
  {
   "cell_type": "code",
   "execution_count": null,
   "metadata": {
    "colab": {
     "base_uri": "https://localhost:8080/",
     "height": 112
    },
    "id": "edjD2TxhrjfN",
    "outputId": "8470e164-2104-4e8b-8eb6-88511c154820"
   },
   "outputs": [],
   "source": [
    "from statsmodels.formula.api import ols\n",
    "\n",
    "model = ols('Score ~ C(Gender)', data=df_long1).fit()\n",
    "aov_table = sm.stats.anova_lm(model, typ=2)\n",
    "aov_table"
   ]
  },
  {
   "cell_type": "markdown",
   "metadata": {
    "id": "eiN_CS5EwM_P"
   },
   "source": [
    "This table provides all the information one needs in order to interprete if the results are significant; however, it does not provide any effect size measures to tell if the statistical significance is meaningful. The function below calculates eta-squared ($\\eta^2$) and omega-squared ($\\omega^2$). A quick note, $\\eta^2$  is the exact same thing as $R^2$ except when coming from the ANOVA framework people call it $eta^2$; $\\omega^2$ is considered a better measure of effect size since it is unbiased in it's calculation by accounting for the degrees of freedom in the model.\n"
   ]
  },
  {
   "cell_type": "code",
   "execution_count": null,
   "metadata": {
    "colab": {
     "base_uri": "https://localhost:8080/",
     "height": 112
    },
    "id": "5R0EXk31wrg1",
    "outputId": "392d9b8c-6225-4dd3-b0c3-95e54f9148a9"
   },
   "outputs": [],
   "source": [
    "\"\"\"\n",
    "The function below was created specifically for the one-way ANOVA table results returned for Type II sum of squares\n",
    "\"\"\"\n",
    "\n",
    "def anova_table(aov):\n",
    "    aov['mean_sq'] = aov[:]['sum_sq']/aov[:]['df']\n",
    "\n",
    "    aov['eta_sq'] = aov[:-1]['sum_sq']/sum(aov['sum_sq'])\n",
    "\n",
    "    aov['omega_sq'] = (aov[:-1]['sum_sq']-(aov[:-1]['df']*aov['mean_sq'][-1]))/(sum(aov['sum_sq'])+aov['mean_sq'][-1])\n",
    "\n",
    "    cols = ['sum_sq', 'df', 'mean_sq', 'F', 'PR(>F)', 'eta_sq', 'omega_sq']\n",
    "    aov = aov[cols]\n",
    "    return aov\n",
    "\n",
    "anova_table(aov_table)"
   ]
  },
  {
   "cell_type": "markdown",
   "metadata": {
    "id": "gPVhADTTw_ws"
   },
   "source": [
    ">**Interpretation:** There is a statistically significant difference between the groups and their effects the libido, F= 21.64, p-value= 0.0, with an overall small effect, $\\omega^2$ = 0.024.\n",
    "\n",
    "In order to tell which groups differed significantly, post-hoc tests need to be conducted. Before one goes through that work, the assumptions should be checked first in case any modifications need to be made to the model."
   ]
  },
  {
   "cell_type": "code",
   "execution_count": null,
   "metadata": {
    "colab": {
     "base_uri": "https://localhost:8080/"
    },
    "id": "AHabj-s9xYTm",
    "outputId": "a1d4228a-b8ca-4b4f-a592-e0549120f050"
   },
   "outputs": [],
   "source": [
    "## normality of residuals\n",
    "stats.shapiro(model.resid)"
   ]
  },
  {
   "cell_type": "code",
   "execution_count": null,
   "metadata": {
    "colab": {
     "base_uri": "https://localhost:8080/",
     "height": 627
    },
    "id": "o6K9mTggxmpA",
    "outputId": "ab5fef67-71f0-4593-b8b5-9754b9c5b6f7"
   },
   "outputs": [],
   "source": [
    "## visualization\n",
    "\n",
    "fig = plt.figure(figsize= (10, 10))\n",
    "ax = fig.add_subplot(111)\n",
    "\n",
    "normality_plot, stat = stats.probplot(model.resid, plot= plt, rvalue= True)\n",
    "ax.set_title(\"Probability plot of model residual's\", fontsize= 20)\n",
    "ax.set\n",
    "\n",
    "plt.show()"
   ]
  },
  {
   "cell_type": "markdown",
   "metadata": {
    "id": "JtFqzcjYyQXc"
   },
   "source": [
    ">**Conclusion**\n",
    "\n",
    "Even though the ANOVA test subtstantiate the reasoning that the gender wise difference in the fruit rating score is statistically significant, the sufficiant conditions are not satisfied. So a non-parametric ANOVA is strongly recommended. But the $\\chi^2$ test established the same result with  sufficiency condition checks."
   ]
  }
 ],
 "metadata": {
  "colab": {
   "provenance": []
  },
  "kernelspec": {
   "display_name": "Python 3 (Intel® oneAPI 2023.2)",
   "language": "python",
   "name": "c009-intel_distribution_of_python_3_oneapi-beta05-python"
  },
  "language_info": {
   "codemirror_mode": {
    "name": "ipython",
    "version": 3
   },
   "file_extension": ".py",
   "mimetype": "text/x-python",
   "name": "python",
   "nbconvert_exporter": "python",
   "pygments_lexer": "ipython3",
   "version": "3.9.16"
  }
 },
 "nbformat": 4,
 "nbformat_minor": 4
}
